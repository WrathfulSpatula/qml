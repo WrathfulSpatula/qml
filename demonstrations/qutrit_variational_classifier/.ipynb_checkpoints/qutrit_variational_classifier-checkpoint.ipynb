{
 "cells": [
  {
   "cell_type": "code",
   "execution_count": 9,
   "id": "175db2a3",
   "metadata": {},
   "outputs": [],
   "source": [
    "import pennylane as qml\n",
    "from pennylane import numpy as np\n",
    "import matplotlib.pyplot as plt"
   ]
  },
  {
   "cell_type": "code",
   "execution_count": 10,
   "id": "b15b9707",
   "metadata": {},
   "outputs": [],
   "source": [
    "dev = qml.device(\"default.qutrit\", wires=7)"
   ]
  },
  {
   "cell_type": "code",
   "execution_count": 11,
   "id": "9ad7ed4a",
   "metadata": {},
   "outputs": [],
   "source": [
    "# State preparation with angle embedding\n",
    "def state_prep(x):\n",
    "    for i, angle in enumerate(x):\n",
    "        qml.TRX(angle, wires=i, subspace=[0, 1])"
   ]
  },
  {
   "cell_type": "code",
   "execution_count": 12,
   "id": "62a1f15b",
   "metadata": {},
   "outputs": [],
   "source": [
    "def rot(weights, wires):\n",
    "    # Arbitrary rotation on single wire\n",
    "    qml.TRY(weights[0], wires=wires, subspace=[0, 1])\n",
    "    qml.TRY(weights[1], wires=wires, subspace=[0, 2])\n",
    "    qml.TRY(weights[2], wires=wires, subspace=[0, 1])\n",
    "    qml.TRZ(weights[3], wires=wires, subspace=[0, 2])\n",
    "    qml.TRZ(weights[4], wires=wires, subspace=[0, 1])\n",
    "    qml.TRY(weights[5], wires=wires, subspace=[0, 1])\n",
    "    qml.TRY(weights[6], wires=wires, subspace=[0, 2])\n",
    "    qml.TRY(weights[7], wires=wires, subspace=[0, 1])\n"
   ]
  },
  {
   "cell_type": "code",
   "execution_count": 13,
   "id": "d9fe3350",
   "metadata": {},
   "outputs": [],
   "source": [
    "def layer(weights):\n",
    "    # Trainable layer\n",
    "    # Arbitrary rotation on all wires\n",
    "    qml.broadcast(unitary=rot, pattern=\"single\", wires=range(7), parameters=weights)\n",
    "\n",
    "    # Entanglement gate\n",
    "    qml.broadcast(unitary=qml.TAdd, pattern=\"ring\", wires=range(7))"
   ]
  },
  {
   "cell_type": "code",
   "execution_count": 28,
   "id": "4e22eeba",
   "metadata": {},
   "outputs": [],
   "source": [
    "@qml.qnode(dev)\n",
    "def classifier(weights, x):\n",
    "    state_prep(x)\n",
    "\n",
    "    for W in weights:\n",
    "        layer(weights)\n",
    "\n",
    "    return qml.expval(qml.GellMann(wires=0, index=1))"
   ]
  },
  {
   "cell_type": "code",
   "execution_count": 29,
   "id": "58b148b3",
   "metadata": {},
   "outputs": [],
   "source": [
    "def cost(weights, X, Y):\n",
    "    preds = [classifier(weights, x) for x in X]\n",
    "    loss = 0\n",
    "    for y, p in zip(Y, preds):\n",
    "        loss += (y - p) ** 2\n",
    "\n",
    "    return loss / len(Y)\n",
    "\n",
    "def accuracy(weights, X, Y):\n",
    "    preds = [classifier(weights, x) for x in X]\n",
    "    loss = 0\n",
    "    for y, p in zip(Y, preds):\n",
    "        if np.isclose(y, p):\n",
    "            loss += 1\n",
    "\n",
    "    return loss / len(Y)"
   ]
  },
  {
   "cell_type": "code",
   "execution_count": 30,
   "id": "543c7189",
   "metadata": {},
   "outputs": [],
   "source": [
    "data = np.loadtxt(\"./seeds_dataset.txt\")\n",
    "X = np.array(data[:, :-1], requires_grad=False)\n",
    "Y = np.array(data[:, -1], requires_grad=False)\n",
    "Y = Y - 2"
   ]
  },
  {
   "cell_type": "code",
   "execution_count": 31,
   "id": "0cd199b9",
   "metadata": {},
   "outputs": [],
   "source": [
    "np.random.seed(0)\n",
    "num_data = len(Y)\n",
    "num_train = int(0.75 * num_data)\n",
    "index = np.random.permutation(range(num_data))\n",
    "X_train = X[index[:num_train]]\n",
    "Y_train = Y[index[:num_train]]\n",
    "X_val = X[index[num_train:]]\n",
    "Y_val = Y[index[num_train:]]"
   ]
  },
  {
   "cell_type": "code",
   "execution_count": 32,
   "id": "441c2800",
   "metadata": {},
   "outputs": [],
   "source": [
    "opt = qml.GradientDescentOptimizer(stepsize=0.1)"
   ]
  },
  {
   "cell_type": "code",
   "execution_count": 34,
   "id": "1571b540",
   "metadata": {},
   "outputs": [],
   "source": [
    "num_qutrits = 7\n",
    "num_layers = 2\n",
    "weights_init = 0.01 * np.random.randn(num_layers, num_qutrits, 8, requires_grad=True)"
   ]
  },
  {
   "cell_type": "code",
   "execution_count": null,
   "id": "b844a9cf",
   "metadata": {},
   "outputs": [],
   "source": []
  }
 ],
 "metadata": {
  "kernelspec": {
   "display_name": "Python 3 (ipykernel)",
   "language": "python",
   "name": "python3"
  },
  "language_info": {
   "codemirror_mode": {
    "name": "ipython",
    "version": 3
   },
   "file_extension": ".py",
   "mimetype": "text/x-python",
   "name": "python",
   "nbconvert_exporter": "python",
   "pygments_lexer": "ipython3",
   "version": "3.9.15"
  }
 },
 "nbformat": 4,
 "nbformat_minor": 5
}
