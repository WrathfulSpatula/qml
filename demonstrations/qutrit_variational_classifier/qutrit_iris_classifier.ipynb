{
 "cells": [
  {
   "cell_type": "code",
   "execution_count": 84,
   "metadata": {},
   "outputs": [],
   "source": [
    "\n",
    "import pennylane as qml\n",
    "from pennylane import numpy as np\n",
    "import matplotlib.pyplot as plt\n",
    "import pandas as pd"
   ]
  },
  {
   "cell_type": "code",
   "execution_count": 85,
   "metadata": {},
   "outputs": [],
   "source": [
    "n_features = 4\n",
    "dev = qml.device(\"default.qutrit\", wires=n_features)"
   ]
  },
  {
   "cell_type": "code",
   "execution_count": 86,
   "metadata": {},
   "outputs": [],
   "source": [
    "# State preparation with angle embedding\n",
    "def state_prep(x):\n",
    "    for i, angle in enumerate(x):\n",
    "        qml.TRX(angle, wires=i, subspace=[0, 1])"
   ]
  },
  {
   "cell_type": "code",
   "execution_count": 87,
   "metadata": {},
   "outputs": [],
   "source": [
    "def rot(r_weights, wires):\n",
    "    # Arbitrary rotation on single wire\n",
    "    qml.TRY(r_weights[0], wires=wires, subspace=[0, 1])\n",
    "    qml.TRY(r_weights[1], wires=wires, subspace=[0, 2])\n",
    "    qml.TRY(r_weights[2], wires=wires, subspace=[0, 1])\n",
    "    qml.TRZ(r_weights[3], wires=wires, subspace=[0, 2])\n",
    "    qml.TRZ(r_weights[4], wires=wires, subspace=[0, 1])\n",
    "    qml.TRY(r_weights[5], wires=wires, subspace=[0, 1])\n",
    "    qml.TRY(r_weights[6], wires=wires, subspace=[0, 2])\n",
    "    qml.TRY(r_weights[7], wires=wires, subspace=[0, 1])\n"
   ]
  },
  {
   "cell_type": "code",
   "execution_count": 88,
   "metadata": {},
   "outputs": [],
   "source": [
    "def layer(l_weights):\n",
    "    # Trainable layer\n",
    "    # Arbitrary rotation on all wires\n",
    "    for i in range(n_features):\n",
    "        rot(l_weights[i], i)\n",
    "\n",
    "    # Entanglement gate\n",
    "    qml.broadcast(unitary=qml.TAdd, pattern=\"ring\", wires=range(n_features))"
   ]
  },
  {
   "cell_type": "code",
   "execution_count": 89,
   "metadata": {},
   "outputs": [],
   "source": [
    "@qml.qnode(dev)\n",
    "def classifier(c_weights, x):\n",
    "    state_prep(x)\n",
    "\n",
    "    for W in c_weights:\n",
    "        layer(W)\n",
    "\n",
    "    return qml.expval(qml.GellMann(wires=0, index=1))\n",
    "\n",
    "def make_predictions(p_weights, X):\n",
    "    preds = [classifier(p_weights, x) for x in X]\n",
    "\n",
    "    for i, pred in enumerate(preds):\n",
    "        if pred >= 1 / 3:\n",
    "            preds[i] = 1\n",
    "        elif pred < -1 / 3:\n",
    "            preds[i] = -1\n",
    "        else:\n",
    "            preds[i] = 0\n",
    "\n",
    "    return preds"
   ]
  },
  {
   "cell_type": "code",
   "execution_count": 111,
   "metadata": {},
   "outputs": [],
   "source": [
    "def cost(co_weights):\n",
    "    preds = [classifier(co_weights, x) for x in X_train]\n",
    "    loss = 0\n",
    "    for y, p in zip(Y_train, preds):\n",
    "        loss += (y - p) ** 2\n",
    "\n",
    "    return loss / len(Y)\n",
    "\n",
    "def accuracy(Y, preds):\n",
    "    acc = 0\n",
    "    for y, p in zip(Y, preds):\n",
    "        if np.isclose(y, p):\n",
    "            acc += 1\n",
    "\n",
    "    return acc / len(Y)"
   ]
  },
  {
   "cell_type": "code",
   "execution_count": 112,
   "metadata": {},
   "outputs": [],
   "source": [
    "columns = [\"f1\", \"f2\", \"f3\", \"f4\", \"class\"]\n",
    "data = pd.read_csv(\"./data/iris.data\", sep=\",\", header=None, names=columns)\n",
    "\n",
    "class_translation = {\n",
    "    \"Iris-setosa\": -1,\n",
    "    \"Iris-versicolor\": 0,\n",
    "    \"Iris-virginica\": 1,\n",
    "}\n",
    "\n",
    "data[\"class\"] = data[\"class\"].replace(class_translation.keys(), class_translation.values())\n",
    "data = data.to_numpy(dtype=np.float64)\n"
   ]
  },
  {
   "cell_type": "code",
   "execution_count": 113,
   "metadata": {},
   "outputs": [],
   "source": [
    "X = np.array(data[:, :-1], requires_grad=False)\n",
    "Y = np.array(data[:, -1], requires_grad=False)"
   ]
  },
  {
   "cell_type": "code",
   "execution_count": 114,
   "metadata": {},
   "outputs": [],
   "source": [
    "np.random.seed(0)\n",
    "num_data = len(Y)\n",
    "num_train = int(0.75 * num_data)\n",
    "index = np.random.permutation(range(num_data))\n",
    "X_train = X[index[:num_train]]\n",
    "Y_train = Y[index[:num_train]]\n",
    "X_val = X[index[num_train:]]\n",
    "Y_val = Y[index[num_train:]]"
   ]
  },
  {
   "cell_type": "code",
   "execution_count": 115,
   "metadata": {},
   "outputs": [],
   "source": [
    "opt = qml.GradientDescentOptimizer(stepsize=0.1)"
   ]
  },
  {
   "cell_type": "code",
   "execution_count": 116,
   "metadata": {},
   "outputs": [],
   "source": [
    "n_layers = 1\n",
    "weights_init = 0.01 * np.random.randn(n_layers, n_features, 8, requires_grad=True)"
   ]
  },
  {
   "cell_type": "code",
   "execution_count": 117,
   "metadata": {},
   "outputs": [
    {
     "name": "stdout",
     "output_type": "stream",
     "text": [
      "Loss at iteration  0 =  0.5105393072  Accuracy =  0.32\n",
      "Loss at iteration  5 =  0.5101810828  Accuracy =  0.32\n",
      "Loss at iteration 10 =  0.5098067115  Accuracy =  0.32\n",
      "Loss at iteration 15 =  0.5094083412  Accuracy =  0.32\n",
      "Loss at iteration 20 =  0.5089763999  Accuracy =  0.32\n",
      "Loss at iteration 25 =  0.5084989032  Accuracy =  0.32\n",
      "Loss at iteration 30 =  0.5079606104  Accuracy =  0.32\n",
      "Loss at iteration 35 =  0.5073420003  Accuracy =  0.32\n",
      "Loss at iteration 40 =  0.5066180605  Accuracy =  0.32\n",
      "Loss at iteration 45 =  0.5057569233  Accuracy =  0.32\n",
      "Loss at iteration 50 =  0.5047184646  Accuracy =  0.32\n",
      "Loss at iteration 55 =  0.5034531227  Accuracy =  0.32\n",
      "Loss at iteration 60 =  0.5019014112  Accuracy =  0.32\n",
      "Loss at iteration 65 =  0.4999948741  Accuracy =  0.32\n",
      "Loss at iteration 70 =  0.4976594905  Accuracy =  0.32\n",
      "Loss at iteration 75 =  0.4948225450  Accuracy =  0.32\n",
      "Loss at iteration 80 =  0.4914233907  Accuracy =  0.32\n",
      "Loss at iteration 85 =  0.4874269758  Accuracy =  0.32\n",
      "Loss at iteration 90 =  0.4828366078  Accuracy =  0.32\n",
      "Loss at iteration 95 =  0.4777003811  Accuracy =  0.32\n"
     ]
    }
   ],
   "source": [
    "n_its = 100\n",
    "weights = np.array(weights_init, requires_grad=True)\n",
    "\n",
    "loss_track = []\n",
    "\n",
    "for it in range(n_its):\n",
    "    weights, _loss = opt.step_and_cost(cost, weights)\n",
    "    if it % 5 == 0:\n",
    "        preds = make_predictions(weights, X_train)\n",
    "        print(f\"Loss at iteration {it:2} = {_loss: .10f}  Accuracy = {accuracy(Y_train, preds): .2f}\")\n",
    "    loss_track.append(_loss)"
   ]
  },
  {
   "cell_type": "code",
   "execution_count": null,
   "metadata": {},
   "outputs": [],
   "source": []
  },
  {
   "cell_type": "code",
   "execution_count": null,
   "metadata": {},
   "outputs": [],
   "source": []
  }
 ],
 "metadata": {
  "kernelspec": {
   "display_name": "qutrit",
   "language": "python",
   "name": "python3"
  },
  "language_info": {
   "codemirror_mode": {
    "name": "ipython",
    "version": 3
   },
   "file_extension": ".py",
   "mimetype": "text/x-python",
   "name": "python",
   "nbconvert_exporter": "python",
   "pygments_lexer": "ipython3",
   "version": "3.10.10"
  },
  "orig_nbformat": 4
 },
 "nbformat": 4,
 "nbformat_minor": 2
}
