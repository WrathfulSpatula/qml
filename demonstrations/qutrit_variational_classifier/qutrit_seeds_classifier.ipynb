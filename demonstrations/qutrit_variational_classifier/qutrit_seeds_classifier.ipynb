{
 "cells": [
  {
   "cell_type": "code",
   "execution_count": 1,
   "id": "175db2a3",
   "metadata": {},
   "outputs": [],
   "source": [
    "import pennylane as qml\n",
    "from pennylane import numpy as np\n",
    "import matplotlib.pyplot as plt"
   ]
  },
  {
   "cell_type": "code",
   "execution_count": 2,
   "id": "b15b9707",
   "metadata": {},
   "outputs": [],
   "source": [
    "dev = qml.device(\"default.qutrit\", wires=7)"
   ]
  },
  {
   "cell_type": "code",
   "execution_count": 3,
   "id": "9ad7ed4a",
   "metadata": {},
   "outputs": [],
   "source": [
    "# State preparation with angle embedding\n",
    "def state_prep(x):\n",
    "    for i, angle in enumerate(x):\n",
    "        qml.TRX(angle, wires=i, subspace=[0, 1])"
   ]
  },
  {
   "cell_type": "code",
   "execution_count": 14,
   "id": "62a1f15b",
   "metadata": {},
   "outputs": [],
   "source": [
    "def rot(*weights, wires):\n",
    "    # Arbitrary rotation on single wire\n",
    "    qml.TRY(weights[0], wires=wires, subspace=[0, 1])\n",
    "    qml.TRY(weights[1], wires=wires, subspace=[0, 2])\n",
    "    qml.TRY(weights[2], wires=wires, subspace=[0, 1])\n",
    "    qml.TRZ(weights[3], wires=wires, subspace=[0, 2])\n",
    "    qml.TRZ(weights[4], wires=wires, subspace=[0, 1])\n",
    "    qml.TRY(weights[5], wires=wires, subspace=[0, 1])\n",
    "    qml.TRY(weights[6], wires=wires, subspace=[0, 2])\n",
    "    qml.TRY(weights[7], wires=wires, subspace=[0, 1])\n"
   ]
  },
  {
   "cell_type": "code",
   "execution_count": 15,
   "id": "6de85bc2",
   "metadata": {},
   "outputs": [],
   "source": [
    "def layer(weights):\n",
    "    # Trainable layer\n",
    "    # Arbitrary rotation on all wires\n",
    "    qml.broadcast(unitary=rot, pattern=\"single\", wires=list(range(7)), parameters=weights)\n",
    "\n",
    "    # Entanglement gate\n",
    "    qml.broadcast(unitary=qml.TAdd, pattern=\"ring\", wires=list(range(7)))"
   ]
  },
  {
   "cell_type": "code",
   "execution_count": 16,
   "id": "edd3ec5d",
   "metadata": {},
   "outputs": [],
   "source": [
    "@qml.qnode(dev)\n",
    "def classifier(weights, x):\n",
    "    state_prep(x)\n",
    "\n",
    "    for W in weights:\n",
    "        layer(W)\n",
    "\n",
    "    return qml.expval(qml.GellMann(wires=0, index=1))"
   ]
  },
  {
   "cell_type": "code",
   "execution_count": 17,
   "id": "9375e3a8",
   "metadata": {},
   "outputs": [],
   "source": [
    "def cost(weights, X, Y):\n",
    "    preds = [classifier(weights, x) for x in X]\n",
    "    loss = 0\n",
    "    for y, p in zip(Y, preds):\n",
    "        loss += (y - p) ** 2\n",
    "\n",
    "    return loss / len(Y)\n",
    "\n",
    "def accuracy(weights, X, Y):\n",
    "    preds = [classifier(weights, x) for x in X]\n",
    "    loss = 0\n",
    "    for y, p in zip(Y, preds):\n",
    "        if np.isclose(y, p):\n",
    "            loss += 1\n",
    "\n",
    "    return loss / len(Y)"
   ]
  },
  {
   "cell_type": "code",
   "execution_count": 18,
   "id": "543c7189",
   "metadata": {},
   "outputs": [],
   "source": [
    "data = np.loadtxt(\"./seeds_dataset.txt\")\n",
    "X = np.array(data[:, :-1], requires_grad=False)\n",
    "Y = np.array(data[:, -1], requires_grad=False)\n",
    "Y = Y - 2"
   ]
  },
  {
   "cell_type": "code",
   "execution_count": 19,
   "id": "0cd199b9",
   "metadata": {},
   "outputs": [],
   "source": [
    "np.random.seed(0)\n",
    "num_data = len(Y)\n",
    "num_train = int(0.75 * num_data)\n",
    "index = np.random.permutation(range(num_data))\n",
    "X_train = X[index[:num_train]]\n",
    "Y_train = Y[index[:num_train]]\n",
    "X_val = X[index[num_train:]]\n",
    "Y_val = Y[index[num_train:]]"
   ]
  },
  {
   "cell_type": "code",
   "execution_count": 20,
   "id": "df6a73fc",
   "metadata": {},
   "outputs": [],
   "source": [
    "opt = qml.GradientDescentOptimizer(stepsize=0.1)"
   ]
  },
  {
   "cell_type": "code",
   "execution_count": 23,
   "id": "c6a64d12",
   "metadata": {},
   "outputs": [],
   "source": [
    "num_qutrits = 7\n",
    "num_layers = 1\n",
    "weights_init = 0.01 * np.random.randn(num_layers, num_qutrits, 8, requires_grad=True)"
   ]
  },
  {
   "cell_type": "code",
   "execution_count": 24,
   "id": "3a311836",
   "metadata": {},
   "outputs": [
    {
     "ename": "ValueError",
     "evalue": "Parameters must contain entries for 7 unitaries; got 1 entries",
     "output_type": "error",
     "traceback": [
      "\u001b[0;31m---------------------------------------------------------------------------\u001b[0m",
      "\u001b[0;31mValueError\u001b[0m                                Traceback (most recent call last)",
      "Cell \u001b[0;32mIn[24], line 9\u001b[0m\n\u001b[1;32m      7\u001b[0m weights, _loss \u001b[39m=\u001b[39m opt\u001b[39m.\u001b[39mstep_and_cost(cost, weights, X_train, Y_train)\n\u001b[1;32m      8\u001b[0m \u001b[39mif\u001b[39;00m it \u001b[39m%\u001b[39m \u001b[39m5\u001b[39m \u001b[39m==\u001b[39m \u001b[39m0\u001b[39m:\n\u001b[0;32m----> 9\u001b[0m     \u001b[39mprint\u001b[39m(\u001b[39mf\u001b[39m\u001b[39m\"\u001b[39m\u001b[39mLoss at iteration \u001b[39m\u001b[39m{\u001b[39;00mit\u001b[39m:\u001b[39;00m\u001b[39m2\u001b[39m\u001b[39m}\u001b[39;00m\u001b[39m = \u001b[39m\u001b[39m{\u001b[39;00m_loss\u001b[39m:\u001b[39;00m\u001b[39m .10f\u001b[39m\u001b[39m}\u001b[39;00m\u001b[39m  Accuracy = \u001b[39m\u001b[39m{\u001b[39;00maccuracy(weights,\u001b[39m \u001b[39;49mX_train,\u001b[39m \u001b[39;49mY_train)\u001b[39m:\u001b[39;00m\u001b[39m .2f\u001b[39m\u001b[39m}\u001b[39;00m\u001b[39m\"\u001b[39m)\n\u001b[1;32m     10\u001b[0m loss_track\u001b[39m.\u001b[39mappend(_loss)\n",
      "Cell \u001b[0;32mIn[17], line 10\u001b[0m, in \u001b[0;36maccuracy\u001b[0;34m(weights, X, Y)\u001b[0m\n\u001b[1;32m      9\u001b[0m \u001b[39mdef\u001b[39;00m \u001b[39maccuracy\u001b[39m(weights, X, Y):\n\u001b[0;32m---> 10\u001b[0m     preds \u001b[39m=\u001b[39m [classifier(weights, x) \u001b[39mfor\u001b[39;00m x \u001b[39min\u001b[39;00m X]\n\u001b[1;32m     11\u001b[0m     loss \u001b[39m=\u001b[39m \u001b[39m0\u001b[39m\n\u001b[1;32m     12\u001b[0m     \u001b[39mfor\u001b[39;00m y, p \u001b[39min\u001b[39;00m \u001b[39mzip\u001b[39m(Y, preds):\n",
      "Cell \u001b[0;32mIn[17], line 10\u001b[0m, in \u001b[0;36m<listcomp>\u001b[0;34m(.0)\u001b[0m\n\u001b[1;32m      9\u001b[0m \u001b[39mdef\u001b[39;00m \u001b[39maccuracy\u001b[39m(weights, X, Y):\n\u001b[0;32m---> 10\u001b[0m     preds \u001b[39m=\u001b[39m [classifier(weights, x) \u001b[39mfor\u001b[39;00m x \u001b[39min\u001b[39;00m X]\n\u001b[1;32m     11\u001b[0m     loss \u001b[39m=\u001b[39m \u001b[39m0\u001b[39m\n\u001b[1;32m     12\u001b[0m     \u001b[39mfor\u001b[39;00m y, p \u001b[39min\u001b[39;00m \u001b[39mzip\u001b[39m(Y, preds):\n",
      "File \u001b[0;32m~/repos/qutrit/pennylane/qnode.py:847\u001b[0m, in \u001b[0;36mQNode.__call__\u001b[0;34m(self, *args, **kwargs)\u001b[0m\n\u001b[1;32m    844\u001b[0m         set_shots(\u001b[39mself\u001b[39m\u001b[39m.\u001b[39m_original_device, override_shots)(\u001b[39mself\u001b[39m\u001b[39m.\u001b[39m_update_gradient_fn)()\n\u001b[1;32m    846\u001b[0m \u001b[39m# construct the tape\u001b[39;00m\n\u001b[0;32m--> 847\u001b[0m \u001b[39mself\u001b[39;49m\u001b[39m.\u001b[39;49mconstruct(args, kwargs)\n\u001b[1;32m    849\u001b[0m cache \u001b[39m=\u001b[39m \u001b[39mself\u001b[39m\u001b[39m.\u001b[39mexecute_kwargs\u001b[39m.\u001b[39mget(\u001b[39m\"\u001b[39m\u001b[39mcache\u001b[39m\u001b[39m\"\u001b[39m, \u001b[39mFalse\u001b[39;00m)\n\u001b[1;32m    850\u001b[0m using_custom_cache \u001b[39m=\u001b[39m (\n\u001b[1;32m    851\u001b[0m     \u001b[39mhasattr\u001b[39m(cache, \u001b[39m\"\u001b[39m\u001b[39m__getitem__\u001b[39m\u001b[39m\"\u001b[39m)\n\u001b[1;32m    852\u001b[0m     \u001b[39mand\u001b[39;00m \u001b[39mhasattr\u001b[39m(cache, \u001b[39m\"\u001b[39m\u001b[39m__setitem__\u001b[39m\u001b[39m\"\u001b[39m)\n\u001b[1;32m    853\u001b[0m     \u001b[39mand\u001b[39;00m \u001b[39mhasattr\u001b[39m(cache, \u001b[39m\"\u001b[39m\u001b[39m__delitem__\u001b[39m\u001b[39m\"\u001b[39m)\n\u001b[1;32m    854\u001b[0m )\n",
      "File \u001b[0;32m~/repos/qutrit/pennylane/qnode.py:751\u001b[0m, in \u001b[0;36mQNode.construct\u001b[0;34m(self, args, kwargs)\u001b[0m\n\u001b[1;32m    748\u001b[0m \u001b[39mif\u001b[39;00m old_interface \u001b[39m==\u001b[39m \u001b[39m\"\u001b[39m\u001b[39mauto\u001b[39m\u001b[39m\"\u001b[39m:\n\u001b[1;32m    749\u001b[0m     \u001b[39mself\u001b[39m\u001b[39m.\u001b[39minterface \u001b[39m=\u001b[39m qml\u001b[39m.\u001b[39mmath\u001b[39m.\u001b[39mget_interface(\u001b[39m*\u001b[39margs, \u001b[39m*\u001b[39m\u001b[39mlist\u001b[39m(kwargs\u001b[39m.\u001b[39mvalues()))\n\u001b[0;32m--> 751\u001b[0m \u001b[39mself\u001b[39m\u001b[39m.\u001b[39m_tape \u001b[39m=\u001b[39m make_qscript(\u001b[39mself\u001b[39;49m\u001b[39m.\u001b[39;49mfunc)(\u001b[39m*\u001b[39;49margs, \u001b[39m*\u001b[39;49m\u001b[39m*\u001b[39;49mkwargs)\n\u001b[1;32m    752\u001b[0m \u001b[39mself\u001b[39m\u001b[39m.\u001b[39m_qfunc_output \u001b[39m=\u001b[39m \u001b[39mself\u001b[39m\u001b[39m.\u001b[39mtape\u001b[39m.\u001b[39m_qfunc_output\n\u001b[1;32m    754\u001b[0m params \u001b[39m=\u001b[39m \u001b[39mself\u001b[39m\u001b[39m.\u001b[39mtape\u001b[39m.\u001b[39mget_parameters(trainable_only\u001b[39m=\u001b[39m\u001b[39mFalse\u001b[39;00m)\n",
      "File \u001b[0;32m~/repos/qutrit/pennylane/tape/qscript.py:1371\u001b[0m, in \u001b[0;36mmake_qscript.<locals>.wrapper\u001b[0;34m(*args, **kwargs)\u001b[0m\n\u001b[1;32m   1369\u001b[0m \u001b[39mdef\u001b[39;00m \u001b[39mwrapper\u001b[39m(\u001b[39m*\u001b[39margs, \u001b[39m*\u001b[39m\u001b[39m*\u001b[39mkwargs):\n\u001b[1;32m   1370\u001b[0m     \u001b[39mwith\u001b[39;00m AnnotatedQueue() \u001b[39mas\u001b[39;00m q:\n\u001b[0;32m-> 1371\u001b[0m         result \u001b[39m=\u001b[39m fn(\u001b[39m*\u001b[39;49margs, \u001b[39m*\u001b[39;49m\u001b[39m*\u001b[39;49mkwargs)\n\u001b[1;32m   1373\u001b[0m     qscript \u001b[39m=\u001b[39m QuantumScript\u001b[39m.\u001b[39mfrom_queue(q)\n\u001b[1;32m   1374\u001b[0m     qscript\u001b[39m.\u001b[39m_qfunc_output \u001b[39m=\u001b[39m result\n",
      "Cell \u001b[0;32mIn[16], line 6\u001b[0m, in \u001b[0;36mclassifier\u001b[0;34m(weights, x)\u001b[0m\n\u001b[1;32m      3\u001b[0m state_prep(x)\n\u001b[1;32m      5\u001b[0m \u001b[39mfor\u001b[39;00m W \u001b[39min\u001b[39;00m weights:\n\u001b[0;32m----> 6\u001b[0m     layer(W)\n\u001b[1;32m      8\u001b[0m \u001b[39mreturn\u001b[39;00m qml\u001b[39m.\u001b[39mexpval(qml\u001b[39m.\u001b[39mGellMann(wires\u001b[39m=\u001b[39m\u001b[39m0\u001b[39m, index\u001b[39m=\u001b[39m\u001b[39m1\u001b[39m))\n",
      "Cell \u001b[0;32mIn[15], line 4\u001b[0m, in \u001b[0;36mlayer\u001b[0;34m(weights)\u001b[0m\n\u001b[1;32m      1\u001b[0m \u001b[39mdef\u001b[39;00m \u001b[39mlayer\u001b[39m(weights):\n\u001b[1;32m      2\u001b[0m     \u001b[39m# Trainable layer\u001b[39;00m\n\u001b[1;32m      3\u001b[0m     \u001b[39m# Arbitrary rotation on all wires\u001b[39;00m\n\u001b[0;32m----> 4\u001b[0m     qml\u001b[39m.\u001b[39;49mbroadcast(unitary\u001b[39m=\u001b[39;49mrot, pattern\u001b[39m=\u001b[39;49m\u001b[39m\"\u001b[39;49m\u001b[39msingle\u001b[39;49m\u001b[39m\"\u001b[39;49m, wires\u001b[39m=\u001b[39;49m\u001b[39mlist\u001b[39;49m(\u001b[39mrange\u001b[39;49m(\u001b[39m7\u001b[39;49m)), parameters\u001b[39m=\u001b[39;49mweights)\n\u001b[1;32m      6\u001b[0m     \u001b[39m# Entanglement gate\u001b[39;00m\n\u001b[1;32m      7\u001b[0m     qml\u001b[39m.\u001b[39mbroadcast(unitary\u001b[39m=\u001b[39mqml\u001b[39m.\u001b[39mTAdd, pattern\u001b[39m=\u001b[39m\u001b[39m\"\u001b[39m\u001b[39mring\u001b[39m\u001b[39m\"\u001b[39m, wires\u001b[39m=\u001b[39m\u001b[39mlist\u001b[39m(\u001b[39mrange\u001b[39m(\u001b[39m7\u001b[39m)))\n",
      "File \u001b[0;32m~/repos/qutrit/pennylane/templates/broadcast.py:560\u001b[0m, in \u001b[0;36mbroadcast\u001b[0;34m(unitary, wires, pattern, parameters, kwargs)\u001b[0m\n\u001b[1;32m    557\u001b[0m \u001b[39mif\u001b[39;00m kwargs \u001b[39mis\u001b[39;00m \u001b[39mNone\u001b[39;00m:\n\u001b[1;32m    558\u001b[0m     kwargs \u001b[39m=\u001b[39m {}\n\u001b[0;32m--> 560\u001b[0m wire_sequence, parameters \u001b[39m=\u001b[39m _preprocess(parameters, pattern, wires)\n\u001b[1;32m    562\u001b[0m \u001b[39mif\u001b[39;00m parameters \u001b[39mis\u001b[39;00m \u001b[39mNone\u001b[39;00m:\n\u001b[1;32m    563\u001b[0m     \u001b[39mfor\u001b[39;00m i \u001b[39min\u001b[39;00m \u001b[39mrange\u001b[39m(\u001b[39mlen\u001b[39m(wire_sequence)):\n",
      "File \u001b[0;32m~/repos/qutrit/pennylane/templates/broadcast.py:132\u001b[0m, in \u001b[0;36m_preprocess\u001b[0;34m(parameters, pattern, wires)\u001b[0m\n\u001b[1;32m    130\u001b[0m     num_params \u001b[39m=\u001b[39m PATTERN_TO_NUM_PARAMS[pattern](_wires)\n\u001b[1;32m    131\u001b[0m     \u001b[39mif\u001b[39;00m shape[\u001b[39m0\u001b[39m] \u001b[39m!=\u001b[39m num_params:\n\u001b[0;32m--> 132\u001b[0m         \u001b[39mraise\u001b[39;00m \u001b[39mValueError\u001b[39;00m(\n\u001b[1;32m    133\u001b[0m             \u001b[39mf\u001b[39m\u001b[39m\"\u001b[39m\u001b[39mParameters must contain entries for \u001b[39m\u001b[39m{\u001b[39;00mnum_params\u001b[39m}\u001b[39;00m\u001b[39m unitaries; got \u001b[39m\u001b[39m{\u001b[39;00mshape[\u001b[39m0\u001b[39m]\u001b[39m}\u001b[39;00m\u001b[39m entries\u001b[39m\u001b[39m\"\u001b[39m\n\u001b[1;32m    134\u001b[0m         )\n\u001b[1;32m    136\u001b[0m wire_sequence \u001b[39m=\u001b[39m PATTERN_TO_WIRES[pattern](_wires)\n\u001b[1;32m    137\u001b[0m \u001b[39mreturn\u001b[39;00m wire_sequence, parameters\n",
      "\u001b[0;31mValueError\u001b[0m: Parameters must contain entries for 7 unitaries; got 1 entries"
     ]
    }
   ],
   "source": [
    "n_its = 100\n",
    "weights = weights_init\n",
    "\n",
    "loss_track = []\n",
    "\n",
    "for it in range(n_its):\n",
    "    weights, _loss = opt.step_and_cost(cost, weights, X_train, Y_train)\n",
    "    if it % 5 == 0:\n",
    "        print(f\"Loss at iteration {it:2} = {_loss: .10f}  Accuracy = {accuracy(weights, X_train, Y_train): .2f}\")\n",
    "    loss_track.append(_loss)"
   ]
  },
  {
   "cell_type": "code",
   "execution_count": null,
   "id": "e05cbe12",
   "metadata": {},
   "outputs": [],
   "source": []
  }
 ],
 "metadata": {
  "kernelspec": {
   "display_name": "Python 3 (ipykernel)",
   "language": "python",
   "name": "python3"
  },
  "language_info": {
   "codemirror_mode": {
    "name": "ipython",
    "version": 3
   },
   "file_extension": ".py",
   "mimetype": "text/x-python",
   "name": "python",
   "nbconvert_exporter": "python",
   "pygments_lexer": "ipython3",
   "version": "3.10.10"
  }
 },
 "nbformat": 4,
 "nbformat_minor": 5
}
