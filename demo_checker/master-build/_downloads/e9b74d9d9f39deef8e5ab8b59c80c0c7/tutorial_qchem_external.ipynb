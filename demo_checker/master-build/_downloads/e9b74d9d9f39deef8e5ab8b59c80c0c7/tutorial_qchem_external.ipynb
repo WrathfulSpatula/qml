{
  "cells": [
    {
      "cell_type": "code",
      "execution_count": null,
      "metadata": {
        "collapsed": false
      },
      "outputs": [],
      "source": [
        "# This cell is added by sphinx-gallery\n# It can be customized to whatever you like\n%matplotlib inline"
      ]
    },
    {
      "cell_type": "markdown",
      "metadata": {},
      "source": [
        "Using PennyLane with PySCF and OpenFermion\n==========================================\n\n::: {.meta}\n:property=\\\"og:description\\\": Learn how to integrate external quantum\nchemistry libraries with PennyLane. :property=\\\"og:image\\\":\n<https://pennylane.ai/qml/_images/thumbnail_tutorial_external_libs.png>\n:::\n\n::: {.related}\ntutorial\\_quantum\\_chemistry Quantum chemistry with PennyLane\ntutorial\\_vqe A brief overview of VQE tutorial\\_givens\\_rotations Givens\nrotations for quantum chemistry tutorial\\_adaptive\\_circuits Adaptive\ncircuits for quantum chemistry\n:::\n\n*Author: Soran Jahangiri --- Posted: 3 January 2023.*\n\nThe quantum chemistry module in PennyLane,\n`qml.qchem  <pennylane.qchem>`{.interpreted-text role=\"mod\"}, provides\nbuilt-in methods to compute molecular integrals, solve Hartree-Fock\nequations, and construct\n[fully-differentiable](https://pennylane.ai/qml/demos/tutorial_differentiable_HF.html)\nmolecular Hamiltonians. However, there are many other interesting and\nwidely used quantum chemistry libraries out there. Instead of\nreinventing the wheel, PennyLane lets you take advantage of various\nexternal resources and libraries to build upon existing research. In\nthis demo we will show you how to integrate PennyLane with\n[PySCF](https://github.com/sunqm/pyscf) and\n[OpenFermion](https://github.com/quantumlib/OpenFermion) to compute\nmolecular integrals, construct molecular Hamiltonians, and import\ninitial states.\n\nBuilding molecular Hamiltonians\n-------------------------------\n\nIn PennyLane, Hamiltonians for quantum chemistry are built with the\n`~.pennylane.qchem.molecular_hamiltonian`{.interpreted-text role=\"func\"}\nfunction by specifying a backend for solving the Hartree--Fock\nequations. The default backend is the differentiable Hartree--Fock\nsolver of the `qml.qchem <pennylane.qchem>`{.interpreted-text\nrole=\"mod\"} module. A molecular Hamiltonian can also be constructed with\na non-differentiable backend that uses the\n[OpenFermion-PySCF](https://github.com/quantumlib/OpenFermion-PySCF)\nplugin, interfaced with the electronic structure package\n[PySCF](https://github.com/sunqm/pyscf). This backend can be selected by\nsetting `method='pyscf'` in\n`~.pennylane.qchem.molecular_hamiltonian`{.interpreted-text\nrole=\"func\"}. This requires the `OpenFermion-PySCF` plugin to be\ninstalled by the user with the following:\n\n``` {.bash}\npip install openfermionpyscf\n```\n\nFor example, the molecular Hamiltonian for a water molecule can be\nconstructed like this:\n"
      ]
    },
    {
      "cell_type": "code",
      "execution_count": null,
      "metadata": {
        "collapsed": false
      },
      "outputs": [],
      "source": [
        "import pennylane as qml\nfrom pennylane import numpy as np\n\nsymbols = [\"H\", \"O\", \"H\"]\ngeometry = np.array([[-0.0399, -0.0038, 0.0000],\n                     [ 1.5780,  0.8540, 0.0000],\n                     [ 2.7909, -0.5159, 0.0000]], requires_grad = False)\n\nH, qubits = qml.qchem.molecular_hamiltonian(symbols, geometry, method=\"pyscf\")\nprint(H)"
      ]
    },
    {
      "cell_type": "markdown",
      "metadata": {},
      "source": [
        "This generates a PennyLane `~.pennylane.Hamiltonian`{.interpreted-text\nrole=\"class\"} that can be used in a VQE workflow or converted to a\n[sparse\nmatrix](https://pennylane.ai/qml/demos/tutorial_adaptive_circuits.html#sparse-hamiltonians)\nin the computational basis.\n\nAdditionally, if you have built your electronic Hamiltonian\nindependently using\n[OpenFermion](https://github.com/quantumlib/OpenFermion) tools, it can\nbe readily converted to a PennyLane observable using the\n`~.pennylane.import_operator`{.interpreted-text role=\"func\"} function.\nHere is an example:\n"
      ]
    },
    {
      "cell_type": "code",
      "execution_count": null,
      "metadata": {
        "collapsed": false
      },
      "outputs": [],
      "source": [
        "from openfermion.ops import QubitOperator\n\nH = 0.1 * QubitOperator('X0 X1') + 0.2 * QubitOperator('Z0')\nH = qml.qchem.import_operator(H)\n\nprint(f'Type: \\n {type(H)} \\n')\nprint(f'Hamiltonian: \\n {H}')"
      ]
    },
    {
      "cell_type": "markdown",
      "metadata": {},
      "source": [
        "Computing molecular integrals\n=============================\n\nIn order to build a [molecular\nHamiltonian](https://pennylane.ai/qml/demos/tutorial_quantum_chemistry.html),\nwe need one- and two-electron integrals in the molecular orbital basis.\nThese integrals are used to construct a fermionic Hamiltonian which is\nthen mapped onto the qubit basis. These molecular integrals can be\ncomputed with the\n`~.pennylane.qchem.electron_integrals`{.interpreted-text role=\"func\"}\nfunction of PennyLane. Alternatively, the integrals can be computed with\nthe [PySCF](https://github.com/sunqm/pyscf) package and used in\nPennyLane workflows such as quantum resource estimation. Let\\'s use\nwater in the [6-31G\nbasis](https://en.wikipedia.org/wiki/Basis_set_(chemistry)#Pople_basis_sets)\nas an example.\n\nFirst, we define the PySCF molecule object and run a restricted\nHartree-Fock calculation:\n"
      ]
    },
    {
      "cell_type": "code",
      "execution_count": null,
      "metadata": {
        "collapsed": false
      },
      "outputs": [],
      "source": [
        "from pyscf import gto, ao2mo, scf\n\nmol_pyscf = gto.M(atom = '''H -0.02111417 -0.00201087  0.;\n                            O  0.83504162  0.45191733  0.;\n                            H  1.47688065 -0.27300252  0.''', basis = '6-31g')\nrhf = scf.RHF(mol_pyscf)\nenergy = rhf.kernel()"
      ]
    },
    {
      "cell_type": "markdown",
      "metadata": {},
      "source": [
        "We obtain the molecular integrals `one_ao` and `two_ao` in the basis of\natomic orbitals by following the example\n[here](https://pyscf.org/quickstart.html#and-2-electron-integrals):\n"
      ]
    },
    {
      "cell_type": "code",
      "execution_count": null,
      "metadata": {
        "collapsed": false
      },
      "outputs": [],
      "source": [
        "one_ao = mol_pyscf.intor_symmetric('int1e_kin') + mol_pyscf.intor_symmetric('int1e_nuc')\ntwo_ao = mol_pyscf.intor('int2e_sph')"
      ]
    },
    {
      "cell_type": "markdown",
      "metadata": {},
      "source": [
        "These integrals are then mapped to the basis of molecular orbitals:\n"
      ]
    },
    {
      "cell_type": "code",
      "execution_count": null,
      "metadata": {
        "collapsed": false
      },
      "outputs": [],
      "source": [
        "one_mo = np.einsum('pi,pq,qj->ij', rhf.mo_coeff, one_ao, rhf.mo_coeff)\ntwo_mo = ao2mo.incore.full(two_ao, rhf.mo_coeff)"
      ]
    },
    {
      "cell_type": "markdown",
      "metadata": {},
      "source": [
        "Note that the two-electron integral tensor is represented in [chemists\\'\nnotation](http://vergil.chemistry.gatech.edu/notes/permsymm/permsymm.pdf).\nTo use it in PennyLane, we need to convert it into the so-called\n*physicists\\' notation*:\n"
      ]
    },
    {
      "cell_type": "code",
      "execution_count": null,
      "metadata": {
        "collapsed": false
      },
      "outputs": [],
      "source": [
        "two_mo = np.swapaxes(two_mo, 1, 3)"
      ]
    },
    {
      "cell_type": "markdown",
      "metadata": {},
      "source": [
        "Let\\'s now look at an example where these molecular integrals are used\nto estimate the number of non-Clifford gates and logical qubits needed\nto implement a quantum phase estimation (QPE) algorithm. We use the\ncomputed integrals to estimate these resources for a [version of\nQPE](https://docs.pennylane.ai/en/stable/code/api/pennylane.resource.DoubleFactorization.html)\nthat computes the expectation value of a double-factorized Hamiltonian\nin the second quantization.\n"
      ]
    },
    {
      "cell_type": "code",
      "execution_count": null,
      "metadata": {
        "collapsed": false
      },
      "outputs": [],
      "source": [
        "algo = qml.resource.DoubleFactorization(one_mo, two_mo)\n\nprint(f'Estimated number of non-Clifford gates: {algo.gates:.2e}')\nprint(f'Estimated number of logical qubits: {algo.qubits}')"
      ]
    },
    {
      "cell_type": "markdown",
      "metadata": {},
      "source": [
        "Importing initial states\n========================\n\nSimulating molecules with quantum algorithms requires defining an\ninitial state that should have non-zero overlap with the molecular\nground state. A trivial choice for the initial state is the Hartree-Fock\nstate which is obtained by putting the electrons in the lowest-energy\nmolecular orbitals. For molecules with a complicated electronic\nstructure, the Hartree-Fock state has only a small overlap with the\nground state, which makes executing quantum algorithms inefficient.\n\nInitial states obtained from affordable post-Hartree-Fock calculations\ncan be used to make the quantum workflow more performant. For instance,\nconfiguration interaction (CI) and coupled cluster (CC) calculations\nwith single and double (SD) excitations can be performed using PySCF and\nthe resulting wave function can be used as the initial state in the\nquantum algorithm. PennyLane provides the\n`~.pennylane.qchem.import_state`{.interpreted-text role=\"func\"} function\nthat takes a PySCF solver object, extracts the wave function and returns\na state vector in the computational basis that can be used in a quantum\ncircuit. Let's look at an example.\n\nFirst, we run CCSD calculations for the hydrogen molecule to obtain the\nsolver object.\n"
      ]
    },
    {
      "cell_type": "code",
      "execution_count": null,
      "metadata": {
        "collapsed": false
      },
      "outputs": [],
      "source": [
        "from pyscf import gto, scf, cc\n\nmol = gto.M(atom=[['H', (0, 0, 0)], ['H', (0, 0, 0.7)]])\nmyhf = scf.RHF(mol).run()\nmycc = cc.CCSD(myhf).run()"
      ]
    },
    {
      "cell_type": "markdown",
      "metadata": {},
      "source": [
        "Then, we use the `~.pennylane.qchem.import_state`{.interpreted-text\nrole=\"func\"} function to obtain the state vector.\n"
      ]
    },
    {
      "cell_type": "code",
      "execution_count": null,
      "metadata": {
        "collapsed": false
      },
      "outputs": [],
      "source": [
        "state = qml.qchem.import_state(mycc)\nprint(state)"
      ]
    },
    {
      "cell_type": "markdown",
      "metadata": {},
      "source": [
        "You can verify that this state is a superposition of the Hartree-Fock\nstate and a doubly-excited state.\n"
      ]
    },
    {
      "cell_type": "markdown",
      "metadata": {},
      "source": [
        "Conclusions\n===========\n\nThis tutorial demonstrates how to use PennyLane with external quantum\nchemistry libraries such as [PySCF](https://github.com/sunqm/pyscf) and\n[OpenFermion](https://github.com/quantumlib/OpenFermion).\n\nTo summarize:\n\n1.  We can construct molecular Hamiltonians in PennyLane by using a\n    user-installed version of PySCF by passing the argument\n    `method=pyscf` to the\n    `~.pennylane.qchem.molecular_hamiltonian`{.interpreted-text\n    role=\"func\"} function.\n2.  We can directly use one- and two-electron integrals from PySCF, but\n    we need to convert the tensor containing the two-electron integrals\n    from chemists\\' notation to physicists\\' notation.\n3.  We can easily convert OpenFermion operators to PennyLane operators\n    using the `~.pennylane.import_operator`{.interpreted-text\n    role=\"func\"} function.\n4.  Finally, we can convert PySCF wave functions to PennyLane state\n    vectors using the `~.pennylane.qchem.import_state`{.interpreted-text\n    role=\"func\"} function.\n\nAbout the author\n================\n"
      ]
    }
  ],
  "metadata": {
    "kernelspec": {
      "display_name": "Python 3",
      "language": "python",
      "name": "python3"
    },
    "language_info": {
      "codemirror_mode": {
        "name": "ipython",
        "version": 3
      },
      "file_extension": ".py",
      "mimetype": "text/x-python",
      "name": "python",
      "nbconvert_exporter": "python",
      "pygments_lexer": "ipython3",
      "version": "3.9.18"
    }
  },
  "nbformat": 4,
  "nbformat_minor": 0
}