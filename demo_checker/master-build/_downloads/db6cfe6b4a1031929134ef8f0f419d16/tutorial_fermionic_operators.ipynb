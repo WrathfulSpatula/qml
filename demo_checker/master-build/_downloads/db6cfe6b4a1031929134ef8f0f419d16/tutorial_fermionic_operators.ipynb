{
  "cells": [
    {
      "cell_type": "code",
      "execution_count": null,
      "metadata": {
        "collapsed": false
      },
      "outputs": [],
      "source": [
        "# This cell is added by sphinx-gallery\n# It can be customized to whatever you like\n%matplotlib inline"
      ]
    },
    {
      "cell_type": "markdown",
      "metadata": {},
      "source": [
        "Fermionic operators\n===================\n\n::: {.meta}\n:property=\\\"og:description\\\": Learn how to work with fermionic operators\n:property=\\\"og:image\\\":\n<https://pennylane.ai/qml/_images/thumbnail_tutorial_fermionic_operators.png>\n:::\n\n::: {.related}\ntutorial\\_quantum\\_chemistry Building molecular Hamiltonians\ntutorial\\_vqe A brief overview of VQE\n:::\n\n*Author: Soran Jahangiri --- Posted: 27 June 2023. Last updated: 27 June\n2023.*\n\nFermionic creation and annihilation operators are commonly used to\nconstruct [Hamiltonians](https://codebook.xanadu.ai/H.3) and other\nobservables of molecules and spin systems. In this demo, you will learn\nhow to use PennyLane to create fermionic operators and map them to a\nqubit representation for use in quantum algorithms.\n\nConstructing fermionic operators\n--------------------------------\n\nThe fermionic [creation and\nannihilation](https://en.wikipedia.org/wiki/Creation_and_annihilation_operators)\noperators can be constructed in PennyLane similarly to Pauli operators\nby using `~.pennylane.FermiC`{.interpreted-text role=\"class\"} and\n`~.pennylane.FermiA`{.interpreted-text role=\"class\"} for creation and\nannihilation operators, respectively.\n"
      ]
    },
    {
      "cell_type": "code",
      "execution_count": null,
      "metadata": {
        "collapsed": false
      },
      "outputs": [],
      "source": [
        "from pennylane import FermiC, FermiA\n\na0_dag = FermiC(0)\na1 = FermiA(1)"
      ]
    },
    {
      "cell_type": "markdown",
      "metadata": {},
      "source": [
        "We used the compact notations `a0_dag` to denote a creation operator\napplied to the $0\\text{th}$ orbital and `a1` to denote an annihilation\noperator applied to the $1\\text{st}$ orbital. Once created, these\noperators can be multiplied or added to each other to create new\noperators. A product of fermionic operators will be called a *Fermi\nword* and a linear combination of Fermi words will be called a *Fermi\nsentence*.\n"
      ]
    },
    {
      "cell_type": "code",
      "execution_count": null,
      "metadata": {
        "collapsed": false
      },
      "outputs": [],
      "source": [
        "fermi_word = a0_dag * a1\nfermi_sentence = 1.3 * a0_dag * a1 + 2.4 * a1\nfermi_sentence"
      ]
    },
    {
      "cell_type": "markdown",
      "metadata": {},
      "source": [
        "In this simple example, we first created the operator\n$a^{\\dagger}_0 a_1$ and then created the linear combination\n$1.3 a^{\\dagger}_0 a_1 + 2.4 a_1$. We can also perform arithmetic\noperations between Fermi words and Fermi sentences.\n"
      ]
    },
    {
      "cell_type": "code",
      "execution_count": null,
      "metadata": {
        "collapsed": false
      },
      "outputs": [],
      "source": [
        "fermi_sentence = fermi_sentence * fermi_word + 2.3 * fermi_word\nfermi_sentence"
      ]
    },
    {
      "cell_type": "markdown",
      "metadata": {},
      "source": [
        "Beyond multiplication, summation, and subtraction, we can exponentiate\nfermionic operators in PennyLane to an integer power. For instance, we\ncan create a more complicated operator\n\n$$1.2 \\times a_0^{\\dagger} + 0.5 \\times a_1 - 2.3 \\times \\left ( a_0^{\\dagger} a_1 \\right )^2,$$\n\nin the same way that you would write down the operator on a piece of\npaper:\n"
      ]
    },
    {
      "cell_type": "code",
      "execution_count": null,
      "metadata": {
        "collapsed": false
      },
      "outputs": [],
      "source": [
        "fermi_sentence = 1.2 * a0_dag + 0.5 * a1 - 2.3 * (a0_dag * a1) ** 2\nfermi_sentence"
      ]
    },
    {
      "cell_type": "markdown",
      "metadata": {},
      "source": [
        "This Fermi sentence can be mapped to the qubit basis using the\n[Jordan-Wigner](https://en.wikipedia.org/wiki/Jordan%E2%80%93Wigner_transformation)\ntransformation to get a linear combination of Pauli operators.\n"
      ]
    },
    {
      "cell_type": "code",
      "execution_count": null,
      "metadata": {
        "collapsed": false
      },
      "outputs": [],
      "source": [
        "from pennylane import jordan_wigner\n\npauli_sentence = jordan_wigner(fermi_sentence)\npauli_sentence"
      ]
    },
    {
      "cell_type": "markdown",
      "metadata": {},
      "source": [
        "Fermionic Hamiltonians\n======================\n\nNow that we have nice tools to create and manipulate fermionic\noperators, we can build some interesting fermionic Hamiltonians.\n\nA toy model\n-----------\n\nOur first example is a toy Hamiltonian inspired by the [H\u00fcckel\nmethod](https://en.wikipedia.org/wiki/H%C3%BCckel_method), which is a\nmethod for describing molecules with alternating single and double\nbonds. Our toy model is a simplified version of the H\u00fcckel Hamiltonian\nand assumes only two orbitals and a single electron.\n\n$$H = \\alpha \\left (a^{\\dagger}_0 a_0  + a^{\\dagger}_1 a_1 \\right ) +\n    \\beta \\left (a^{\\dagger}_0 a_1  + a^{\\dagger}_1 a_0 \\right ).$$\n\nThis Hamiltonian can be constructed with pre-defined values\n$\\alpha = 0.01$ and $\\beta = -0.02$.\n"
      ]
    },
    {
      "cell_type": "code",
      "execution_count": null,
      "metadata": {
        "collapsed": false
      },
      "outputs": [],
      "source": [
        "h1 = 0.01 * (FermiC(0) * FermiA(0) + FermiC(1) * FermiA(1))\nh2 = -0.02 * (FermiC(0) * FermiA(1) + FermiC(1) * FermiA(0))\nh = h1 + h2\nprint(h)"
      ]
    },
    {
      "cell_type": "markdown",
      "metadata": {},
      "source": [
        "The fermionic Hamiltonian can be converted to the qubit Hamiltonian\nwith:\n"
      ]
    },
    {
      "cell_type": "code",
      "execution_count": null,
      "metadata": {
        "collapsed": false
      },
      "outputs": [],
      "source": [
        "h = jordan_wigner(h)"
      ]
    },
    {
      "cell_type": "markdown",
      "metadata": {},
      "source": [
        "The matrix representation of the qubit Hamiltonian in the computational\nbasis can be diagonalized to get its eigenpairs.\n"
      ]
    },
    {
      "cell_type": "code",
      "execution_count": null,
      "metadata": {
        "collapsed": false
      },
      "outputs": [],
      "source": [
        "from pennylane import numpy as np\n\nval, vec = np.linalg.eigh(h.sparse_matrix().toarray())\nprint(f\"eigenvalues:\\n{val}\")\nprint()\nprint(f\"eigenvectors:\\n{np.real(vec.T)}\")"
      ]
    },
    {
      "cell_type": "markdown",
      "metadata": {},
      "source": [
        "Hydrogen molecule\n=================\n\nThe [second\nquantized](https://en.wikipedia.org/wiki/Second_quantization) molecular\nelectronic Hamiltonian is usually constructed as\n\n$$H = \\sum_{\\alpha \\in \\{\\uparrow, \\downarrow \\} } \\sum_{pq} c_{pq} a_{p,\\alpha}^{\\dagger}\na_{q, \\alpha} + \\frac{1}{2} \\sum_{\\alpha, \\beta \\in \\{\\uparrow, \\downarrow \\} } \\sum_{pqrs}\nc_{pqrs} a_{p, \\alpha}^{\\dagger} a_{q, \\beta}^{\\dagger} a_{r, \\beta} a_{s, \\alpha},$$\n\nwhere $\\alpha$ and $\\beta$ denote the electron spin and $p, q, r, s$ are\nthe orbital indices. The coefficients $c$ are integrals over molecular\norbitals that are obtained from\n[Hartree-Fock](https://pennylane.ai/qml/demos/tutorial_differentiable_HF#the-hartree-fock-method)\ncalculations. These integrals can be computed with PennyLane using the\n`~.pennylane.qchem.electron_integrals`{.interpreted-text role=\"func\"}\nfunction. We can build the molecular Hamiltonian for the hydrogen\nmolecule as an example. We first define the atom types and the atomic\ncoordinates.\n"
      ]
    },
    {
      "cell_type": "code",
      "execution_count": null,
      "metadata": {
        "collapsed": false
      },
      "outputs": [],
      "source": [
        "import pennylane as qml\n\nsymbols = [\"H\", \"H\"]\ngeometry = np.array([[-0.67294, 0.0, 0.0], [0.67294, 0.0, 0.0]], requires_grad=False)"
      ]
    },
    {
      "cell_type": "markdown",
      "metadata": {},
      "source": [
        "Then we compute the one- and two-electron integrals, which are the\ncoefficients $c$ in the second quantized molecular Hamiltonian defined\nabove. We also obtain the core constant, which is later used to\ncalculate the contribution of the nuclear energy to the Hamiltonian.\n"
      ]
    },
    {
      "cell_type": "code",
      "execution_count": null,
      "metadata": {
        "collapsed": false
      },
      "outputs": [],
      "source": [
        "mol = qml.qchem.Molecule(symbols, geometry)\ncore, one, two = qml.qchem.electron_integrals(mol)()"
      ]
    },
    {
      "cell_type": "markdown",
      "metadata": {},
      "source": [
        "These integrals are computed over molecular orbitals. Each molecular\norbital contains a pair of electrons with different spins. We have\nassumed that the spatial distribution of these electron pairs is the\nsame to simplify the calculation of the integrals. However, to properly\naccount for all electrons, we need to duplicate the integrals for\nelectrons with the same spin. For example, the $pq$ integral, which is\nthe integral over the orbital $p$ and the orbital $q$, can be used for\nboth spin-up and spin-down electrons. Then, if we have a $2 \\times 2$\nmatrix of such integrals, it will become a $4 \\times 4$ matrix. The code\nblock below simply extends the integrals by duplicating terms to account\nfor both spin-up and spin-down electrons.\n"
      ]
    },
    {
      "cell_type": "code",
      "execution_count": null,
      "metadata": {
        "collapsed": false
      },
      "outputs": [],
      "source": [
        "for i in range(4):\n    if i < 2:\n        one = one.repeat(2, axis=i)\n    two = two.repeat(2, axis=i)"
      ]
    },
    {
      "cell_type": "markdown",
      "metadata": {},
      "source": [
        "We can now construct the fermionic Hamiltonian for the hydrogen\nmolecule. The one-body terms, which are the first part in the\nHamiltonian above, can be added first. We will use\n[itertools](https://docs.python.org/3/library/itertools.html#module-itertools)\nto efficiently create all the combinations we need. Some of these\ncombinations are not allowed because of spin restrictions and we need to\nexclude them. You can find more details about constructing a molecular\nHamiltonian in reference.\n"
      ]
    },
    {
      "cell_type": "code",
      "execution_count": null,
      "metadata": {
        "collapsed": false
      },
      "outputs": [],
      "source": [
        "import itertools\n\nn = one.shape[0]\n\nh = 0.0\n\nfor p, q in itertools.product(range(n), repeat=2):\n    if p % 2 == q % 2:  # to account for spin-forbidden terms\n        h += one[p, q] * FermiC(p) * FermiA(q)"
      ]
    },
    {
      "cell_type": "markdown",
      "metadata": {},
      "source": [
        "The two-body terms can be added with:\n"
      ]
    },
    {
      "cell_type": "code",
      "execution_count": null,
      "metadata": {
        "collapsed": false
      },
      "outputs": [],
      "source": [
        "for p, q, r, s in itertools.product(range(n), repeat=4):\n    if p % 2 == s % 2 and q % 2 == r % 2:  # to account for spin-forbidden terms\n        h += two[p, q, r, s] / 2 * FermiC(p) * FermiC(q) * FermiA(r) * FermiA(s)"
      ]
    },
    {
      "cell_type": "markdown",
      "metadata": {},
      "source": [
        "We then simplify the Hamiltonian to remove terms with negligible\ncoefficients and then map it to the qubit basis.\n"
      ]
    },
    {
      "cell_type": "code",
      "execution_count": null,
      "metadata": {
        "collapsed": false
      },
      "outputs": [],
      "source": [
        "h.simplify()\nh = jordan_wigner(h)"
      ]
    },
    {
      "cell_type": "markdown",
      "metadata": {},
      "source": [
        "We also need to include the contribution of the nuclear energy.\n"
      ]
    },
    {
      "cell_type": "code",
      "execution_count": null,
      "metadata": {
        "collapsed": false
      },
      "outputs": [],
      "source": [
        "h += np.sum(core * qml.Identity(0))"
      ]
    },
    {
      "cell_type": "markdown",
      "metadata": {},
      "source": [
        "This gives us the qubit Hamiltonian which can be used as an input for\nquantum algorithms. We can also compute the ground-state energy by\ndiagonalizing the matrix representation of the Hamiltonian in the\ncomputational basis.\n"
      ]
    },
    {
      "cell_type": "code",
      "execution_count": null,
      "metadata": {
        "collapsed": false
      },
      "outputs": [],
      "source": [
        "np.linalg.eigh(h.sparse_matrix().toarray())[0].min()"
      ]
    },
    {
      "cell_type": "markdown",
      "metadata": {},
      "source": [
        "Summary\n=======\n\nThis demo explains how to create and manipulate fermionic operators in\nPennyLane, which is as easy as writing the operators on paper. PennyLane\nsupports several arithmetic operations between fermionic operators and\nprovides tools for mapping them to the qubit basis. This makes it easy\nand intuitive to construct complicated fermionic Hamiltonians such as\n[molecular\nHamiltonians](https://pennylane.ai/qml/demos/tutorial_quantum_chemistry).\n\nReferences\n==========\n\nAbout the author\n================\n"
      ]
    }
  ],
  "metadata": {
    "kernelspec": {
      "display_name": "Python 3",
      "language": "python",
      "name": "python3"
    },
    "language_info": {
      "codemirror_mode": {
        "name": "ipython",
        "version": 3
      },
      "file_extension": ".py",
      "mimetype": "text/x-python",
      "name": "python",
      "nbconvert_exporter": "python",
      "pygments_lexer": "ipython3",
      "version": "3.9.17"
    }
  },
  "nbformat": 4,
  "nbformat_minor": 0
}