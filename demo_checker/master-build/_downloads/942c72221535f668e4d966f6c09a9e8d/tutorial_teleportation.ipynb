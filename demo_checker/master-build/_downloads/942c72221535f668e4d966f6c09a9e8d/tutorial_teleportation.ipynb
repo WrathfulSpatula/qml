{
  "cells": [
    {
      "cell_type": "code",
      "execution_count": null,
      "metadata": {
        "collapsed": false
      },
      "outputs": [],
      "source": [
        "# This cell is added by sphinx-gallery\n# It can be customized to whatever you like\n%matplotlib inline"
      ]
    },
    {
      "cell_type": "markdown",
      "metadata": {},
      "source": [
        "Quantum Teleportation\n=====================\n\nThis tutorial walks you through a popular quantum information technique\nknown as *quantum teleportation*. While teleportation has been thought\nof as the stuff of sci-fi legend, we are going to prove that it is\nactually already possible today! The technique leverages many\nfoundational principles of quantum computing, and it has lots of useful\napplications across the entire field. These principles include (but are\nnot limited to): the no-cloning theorem, quantum entanglement, and the\nprinciple of deferred measurement. Let\\'s dive in!\n\n| \n\n![](../demonstrations/teleportation/socialthumbnail_large_Quantum_Teleportation.png){.align-center\nwidth=\"50.0%\"}\n\n| \n\nGoal: Transferring Quantum Information\n--------------------------------------\n\nSuppose there are two researchers named Alice and Bob, and Alice wants\nto send her quantum state to Bob. The quantum teleportation protocol\nenables Alice to do exactly this in a very elegant manner, and it can be\ndescribed in four steps:\n\n1\\. State preparation: Alice initializes her qubit to the state she\nwishes to teleport.\n\n2\\. Shared entanglement: A Bell state is created and distributed to\nAlice and Bob (one qubit each).\n\n3\\. Change of basis: Alice converts her two qubits from the Bell basis\nto the computational basis.\n\n4\\. Measurement: Alice measures her two qubits, then tells Bob how to\nconvert his qubit to obtain the desired state. Note that it is only\nquantum *information* being teleported, and not a physical particle.\n\nAn overview of the protocol can be seen here:\n\n![](../demonstrations/teleportation/teleport_circuit_full_text.svg){.align-center\nwidth=\"75.0%\"}\n\nProblem: The No-Cloning Theorem\n-------------------------------\n\nYou might be wondering why we need to teleport a state at all. Can\\'t\nAlice just make a copy of it and send the copy to Bob? It turns out that\ncopying arbitrary states is *prohibited*, which you can understand using\nsomething called the **no-cloning theorem**. The proof is surprisingly\nstraightforward. Suppose we would like to design a circuit (unitary\ntransformation) $U$ that can perform the following action:\n\n$$\\begin{aligned}\n\\begin{align*}\nU(\\vert \\psi\\rangle \\otimes \\vert s\\rangle ) &= \\vert \\psi\\rangle \\otimes \\vert \\psi\\rangle, \\\\\nU(\\vert \\varphi\\rangle \\otimes \\vert s\\rangle ) &= \\vert \\varphi \\rangle \\otimes \\vert \\varphi \\rangle,\n\\end{align*}\n\\end{aligned}$$\n\nwhere $\\vert \\psi\\rangle$ and $\\vert \\varphi\\rangle$ are arbitrary,\nnormalized single-qubit states, and $\\vert s \\rangle$ is some arbitrary,\nnormalized starting state. We will now prove that no such $U$ exists!\n\nFirst, let\\'s take the inner product of the left-hand sides of the two\nequations:\n\n$$(\\langle \\psi \\vert \\otimes \\langle s \\vert) U^\\dagger U(\\vert \\varphi\\rangle \\otimes \\vert s\\rangle ) = \\langle \\psi \\vert \\varphi\\rangle \\  \\langle s \\vert s\\rangle$$\n\nSince $\\langle s \\vert s\\rangle$ equals 1, this evaluates to\n$\\langle \\psi \\vert \\varphi \\rangle$. Next, we compare the inner product\nof the right-hand sides of the two equations:\n$(\\langle \\psi \\vert \\varphi \\rangle)^2$. These inner products must be\nequal, and they are only equal if they are a value that squares to\nitself. The only valid values for the inner product then are 1 and 0.\nBut if the inner product is 1, the states are the same; on the other\nhand, if the inner product is 0, the states are orthogonal. Therefore,\nwe can\\'t clone arbitrary states!\n\nSolution: Quantum Teleportation\n-------------------------------\n\nWe will now walk through how to share quantum information without\ncloning it, one step at a time.\n"
      ]
    },
    {
      "cell_type": "markdown",
      "metadata": {},
      "source": [
        "1. State preparation\n====================\n\n![](../demonstrations/teleportation/teleport_circuit_state_preparation.svg){.align-center\nwidth=\"75.0%\"}\n\nTeleportation involves three qubits. Two of them are held by Alice, and\nthe third by Bob. We\\'ll denote their states using subscripts:\n\n1.  $\\vert\\cdot\\rangle_S$, Alice\\'s first qubit that she will prepare in\n    some arbitrary state\n2.  $\\vert\\cdot\\rangle_A$, Alice\\'s auxiliary (or \\\"ancilla\\\") qubit\n    that she will entangle with Bob\\'s qubit for communication purposes\n3.  $\\vert \\cdot\\rangle_B$, Bob\\'s qubit that will receive the\n    teleported state\n\nTogether, their starting state is:\n\n$$\\vert 0\\rangle_S \\vert 0\\rangle_A \\vert 0\\rangle_B.$$\n\nThe first thing Alice does is prepare her first qubit in whichever state\n$\\vert\n\\psi\\rangle$ that she\\'d like to send to Bob so that their combined\nstate becomes:\n\n$$\\vert \\psi\\rangle_S \\vert 0\\rangle_A \\vert 0\\rangle_B.$$\n\nWe can use the following [quantum\nfunction](https://docs.pennylane.ai/en/stable/introduction/circuits.html#quantum-functions)\nto do the state preparation step:\n"
      ]
    },
    {
      "cell_type": "code",
      "execution_count": null,
      "metadata": {
        "collapsed": false
      },
      "outputs": [],
      "source": [
        "import pennylane as qml\nimport numpy as np\n\n\ndef state_preparation(state):\n    qml.StatePrep(state, wires=[\"S\"])"
      ]
    },
    {
      "cell_type": "markdown",
      "metadata": {},
      "source": [
        "2. Shared entanglement\n======================\n\n![](../demonstrations/teleportation/teleport_circuit_entanglement.svg){.align-center\nwidth=\"75.0%\"}\n\nThe reason why teleportation works is the use of an *entangled state* as\na shared resource between Alice and Bob. You can imagine some process\nthat generates a pair of entangled qubits, and sends one qubit to each\nparty. For simplicity (and simulation!), we will represent the\nentanglement process as part of our circuit.\n\nEntangling the qubits $A$ and $B$ leads to the combined state:\n\n$$\\frac{1}{\\sqrt{2}}\\left( \\vert \\psi\\rangle_S \\vert 0\\rangle_A \\vert 0\\rangle_B + \\vert \\psi\\rangle_S \\vert 1\\rangle_A \\vert 1\\rangle_B \\right)\\tag{1}$$\n\nThe $AB$ subsystem is now in what is known as a *Bell state*. There are\nfour maximally entangled two-qubit Bell states, and they form the Bell\nbasis:\n\n$$\\begin{aligned}\n\\begin{align*}\n\\vert \\psi_+\\rangle &= \\frac{1}{\\sqrt{2}} \\left( \\vert 00\\rangle + \\vert 11\\rangle \\right), \\\\\n\\vert \\psi_-\\rangle &= \\frac{1}{\\sqrt{2}} \\left( \\vert 00\\rangle - \\vert 11\\rangle \\right), \\\\\n\\vert \\phi_+\\rangle &= \\frac{1}{\\sqrt{2}} \\left( \\vert 01\\rangle + \\vert 10\\rangle \\right), \\\\\n\\vert \\phi_-\\rangle &= \\frac{1}{\\sqrt{2}} \\left( \\vert 01\\rangle - \\vert 10\\rangle \\right).\n\\end{align*}\n\\end{aligned}$$\n\nIn our experiment, because $AB$ started in the $\\vert 00\\rangle$ state,\nwe create the $\\vert \\psi_+\\rangle$ Bell state as is shown in equation\n(1).\n"
      ]
    },
    {
      "cell_type": "code",
      "execution_count": null,
      "metadata": {
        "collapsed": false
      },
      "outputs": [],
      "source": [
        "def entangle_qubits():\n    qml.Hadamard(wires=\"A\")\n    qml.CNOT(wires=[\"A\", \"B\"])"
      ]
    },
    {
      "cell_type": "markdown",
      "metadata": {},
      "source": [
        "From now on, the qubit subscripts will be removed from states for\nbrevity.\n\n3. Change of basis\n==================\n\n![](../demonstrations/teleportation/teleport_circuit_change_of_basis.svg){.align-center\nwidth=\"75.0%\"}\n\nThis is where things get tricky, but also very interesting. The third\nstep of the protocol is to apply a CNOT and a Hadamard to the first two\nqubits. This is done prior to the measurements, and labelled \\\"change of\nbasis\\\". But what basis is this? Notice how these two gates are the\n*opposite* of what we do to create a Bell state. If we run them in the\nopposite direction, we transform the basis back to the computational\none, and simulate a measurement in the Bell basis.\n\nAfter the basis transform, if we observe the first two qubits to be in\nthe state $\\vert 00\\rangle$, this would correspond to the outcome\n$\\vert \\psi_+\\rangle$ in the Bell basis, $\\vert 11\\rangle$ would\ncorrespond to $\\vert \\phi_-\\rangle$, etc. Let\\'s perform this change of\nbasis, one step at a time.\n\nSuppose we write our initial state $\\vert \\psi\\rangle$ as\n$\\alpha\\vert 0\\rangle + \\beta\\vert 1\\rangle$, with $\\alpha$ and $\\beta$\nbeing complex coefficients. Expanding out the terms from (1), we obtain:\n\n$$\\frac{1}{\\sqrt{2}} ( \\alpha\\vert 000\\rangle +\n\\beta\\vert 100\\rangle + \\alpha \\vert 011\\rangle +\n\\beta\\vert 111\\rangle )$$\n\nNow let\\'s apply a CNOT between Alice\\'s two qubits:\n\n$$\\frac{1}{\\sqrt{2}} ( \\alpha\\vert 000\\rangle +\n\\beta\\vert 110\\rangle + \\alpha \\vert 011\\rangle +\n\\beta\\vert 101\\rangle )$$\n\nAnd then a Hadamard on her first qubit:\n\n$$\\frac{1}{2} ( \\alpha \\vert 000\\rangle + \\alpha\\vert 100\\rangle + \\beta\\vert 010\\rangle - \\beta\\vert 110\\rangle + \\alpha \\vert 011\\rangle + \\alpha \\vert 111 \\rangle + \\beta\\vert 001\\rangle - \\beta\\vert 101 \\rangle ).$$\n\nNow we need to do some rearranging. We group the terms based on the\nfirst two qubits:\n\n$$\\frac{1}{2} \\vert 00\\rangle(\\alpha\\vert 0\\rangle + \\beta\\vert 1\\rangle) + \\frac{1}{2}\\vert 01\\rangle (\\beta\\vert 0\\rangle + \\alpha\\vert 1\\rangle) + \\frac{1}{2}\\vert 10\\rangle (\\alpha\\vert 0\\rangle - \\beta\\vert 1\\rangle) + \\frac{1}{2}\\vert 11\\rangle (-\\beta\\vert 0\\rangle + \\alpha\\vert 1\\rangle).\\tag{2}$$\n"
      ]
    },
    {
      "cell_type": "code",
      "execution_count": null,
      "metadata": {
        "collapsed": false
      },
      "outputs": [],
      "source": [
        "def basis_rotation():\n    qml.CNOT(wires=[\"S\", \"A\"])\n    qml.Hadamard(wires=\"S\")"
      ]
    },
    {
      "cell_type": "markdown",
      "metadata": {},
      "source": [
        "4. Measurement\n==============\n\n![](../demonstrations/teleportation/teleport_circuit_measurement.svg){.align-center\nwidth=\"75.0%\"}\n\nThe last step of the protocol involves Alice performing a measurement on\nher qubits, and telling Bob to perform some operations depending on what\nshe measured. But why exactly do we need to do this? In the previous\nstep, we already performed a basis rotation back to the computational\nbasis, so shouldn\\'t we be good to go? Not quite, but almost!\n\nLet\\'s take another look at equation (2). If Alice measures her two\nqubits in the computational basis, she is equally likely to obtain any\nof the four possible outcomes. If she observes the first two qubits in\nthe state $\\vert 00 \\rangle$, she would immediately know that Bob\\'s\nqubit was in the state $\\alpha \\vert 0 \\rangle + \\beta \\vert 1 \\rangle$,\nwhich is precisely the state we are trying to teleport!\n\nIf instead she observed the qubits in state $\\vert 01\\rangle$, she\\'d\nstill know what state Bob has, but it\\'s a little off from the original\nstate. In particular, we have:\n\n$$\\beta \\vert 0 \\rangle + \\alpha \\vert 1 \\rangle = X \\vert \\psi \\rangle.$$\n\nAfter obtaining these results, Alice could tell Bob to simply apply an X\ngate to his qubit to recover the original state. Similarly, if she\nobtained $\\vert 10\\rangle$, she would tell him to apply a Z gate.\n\nIn the [\\\"traditional\\\" version of quantum\nteleportation](https://quantum.country/teleportation), this is, in fact,\nexactly what happens. Alice would call up Bob on the phone, tell him\nwhich state she observed, and then he would be able to apply an\nappropriate correction. In this situation, measurements are happening\npartway through the protocol, and the results would be used to control\nthe application of future quantum gates. This is known as mid-circuit\nmeasurement, and such mid-circuit measurements are expressed in\nPennyLane using `qml.measure <pennylane.measure>`{.interpreted-text\nrole=\"func\"}. Mid-circuit measurement results can be used to control\noperations, and this is expressed in PennyLane using\n`qml.cond <pennylane.cond>`{.interpreted-text role=\"func\"}.\n"
      ]
    },
    {
      "cell_type": "code",
      "execution_count": null,
      "metadata": {
        "collapsed": false
      },
      "outputs": [],
      "source": [
        "def measure_and_update():\n    m0 = qml.measure(\"S\")\n    m1 = qml.measure(\"A\")\n    qml.cond(m1, qml.PauliX)(\"B\")\n    qml.cond(m0, qml.PauliZ)(\"B\")"
      ]
    },
    {
      "cell_type": "markdown",
      "metadata": {},
      "source": [
        "We\\'ve now defined all the building blocks for the quantum teleportation\nprotocol. Let\\'s put it all together!\n"
      ]
    },
    {
      "cell_type": "code",
      "execution_count": null,
      "metadata": {
        "collapsed": false
      },
      "outputs": [],
      "source": [
        "def teleport(state):\n    state_preparation(state)\n    entangle_qubits()\n    basis_rotation()\n    qml.Barrier([\"S\", \"A\"], only_visual=True)\n    measure_and_update()\n\n\nstate = np.array([1 / np.sqrt(2) + 0.3j, 0.4 - 0.5j])\n_ = qml.draw_mpl(teleport, style=\"pennylane\")(state)"
      ]
    },
    {
      "cell_type": "markdown",
      "metadata": {},
      "source": [
        "There is a neat concept known as the [principle of deferred\nmeasurement](https://en.wikipedia.org/wiki/Deferred_Measurement_Principle),\nand it basically states that we can push all our measurements to the\n*end* of our circuit. This can be useful for a variety of reasons, such\nas when working in a system that does not support mid-circuit\nmeasurements. In PennyLane, when you bind a circuit to a device that\ndoes not support them, it will automatically apply the principle of\ndeferred measurement and update your circuit to use controlled\noperations instead.\n"
      ]
    },
    {
      "cell_type": "code",
      "execution_count": null,
      "metadata": {
        "collapsed": false
      },
      "outputs": [],
      "source": [
        "dev = qml.device(\"default.qubit\", wires=[\"S\", \"A\", \"B\"])\n\n\n@qml.qnode(dev)\ndef teleport(state):\n    state_preparation(state)\n    entangle_qubits()\n    basis_rotation()\n    measure_and_update()\n    return qml.density_matrix(wires=[\"B\"])\n\n\n_ = qml.draw_mpl(teleport, style=\"pennylane\")(state)"
      ]
    },
    {
      "cell_type": "markdown",
      "metadata": {},
      "source": [
        "Poof! Our classical signals have been turned into CNOT and CZ gates.\nThis is exactly what the principle of deferred measurement gives us ---\nwe can apply a CNOT instead of Alice calling Bob and telling him to\napply an X gate, and likewise for the CZ gate. This is incredibly\nuseful, as it allows us to perform our correction *before* any\nmeasurements are made. Let\\'s evaluate the action of the CNOT and CZ on\nBob\\'s qubit, and ensure that Alice\\'s state has been successfully\nteleported. Applying the CNOT yields:\n\n$$\\frac{1}{2} \\vert 00\\rangle(\\alpha\\vert 0\\rangle + \\beta\\vert 1\\rangle) + \\frac{1}{2}\\vert 01\\rangle (\\alpha\\vert 0\\rangle + \\beta\\vert 1\\rangle) + \\frac{1}{2}\\vert 10\\rangle (\\alpha\\vert 0\\rangle - \\beta\\vert 1\\rangle) + \\frac{1}{2}\\vert 11\\rangle (\\alpha\\vert 0\\rangle - \\beta\\vert 1\\rangle)$$\n\nThen, applying the CZ yields:\n\n$$\\frac{1}{2} \\vert 00\\rangle(\\alpha\\vert 0\\rangle + \\beta\\vert 1\\rangle) + \\frac{1}{2}\\vert 01\\rangle (\\alpha\\vert 0\\rangle + \\beta\\vert 1\\rangle) + \\frac{1}{2}\\vert 10\\rangle (\\alpha\\vert 0\\rangle + \\beta\\vert 1\\rangle) + \\frac{1}{2}\\vert 11\\rangle (\\alpha\\vert 0\\rangle + \\beta\\vert 1\\rangle)\\tag{3}$$\n\nWhen Alice measures her two qubits at the end, no matter which outcome\nshe gets, Bob\\'s qubit will be in the state\n$\\alpha\\vert 0\\rangle + \\beta \\vert\n1\\rangle$. This means that our protocol has changed the state of Bob\\'s\nqubit into the one Alice wished to send him, which is truly incredible!\n\nWe can use\n`qml.density_matrix <pennylane.density_matrix>`{.interpreted-text\nrole=\"func\"} to trace out and return Bob\\'s subsystem as a density\nmatrix, which is a more general description of the state of his qubit.\nWe will use this to verify that Alice\\'s state was successfully\nteleported to Bob\\'s qubit. Re-arranging equation (3), we can see that\nthe final state of the system is:\n\n$$\\frac{1}{2} (\\vert 00\\rangle + \\vert 01\\rangle + \\vert 10\\rangle + \\vert 11\\rangle) \\vert \\psi\\rangle\\tag{4}$$\n\nNow, we can confirm that our implementation of the quantum teleportation\nprotocol is working as expected by comparing Bob\\'s final density matrix\nto Alice\\'s original density matrix:\n"
      ]
    },
    {
      "cell_type": "code",
      "execution_count": null,
      "metadata": {
        "collapsed": false
      },
      "outputs": [],
      "source": [
        "def teleport_state(state):\n    teleported_density_matrix = teleport(state)\n    original_density_matrix = qml.math.dm_from_state_vector(state)\n\n    if not np.allclose(teleported_density_matrix, original_density_matrix):\n        raise ValueError(\n            f\"Alice's state ({state}) not teleported properly. \"\n            f\"Final density matrix of Bob's subsystem: {teleported_density_matrix}\"\n        )\n    print(\"State successfully teleported!\")\n\n\nteleport_state(state)"
      ]
    },
    {
      "cell_type": "markdown",
      "metadata": {},
      "source": [
        "Conclusion\n==========\n\nLet\\'s recap the concepts we\\'ve learned throughout this tutorial.\nFirst, we established that quantum states cannot be arbitrarily copied\ndue to the *no-cloning theorem*. Then, we learned about *quantum\nentanglement*. Once Alice and Bob shared an entangled pair of qubits,\nAlice performed a *change of basis* from the Bell basis to the\ncomputational basis. Finally, using the *principle of deferred\nmeasurement* when needed, Alice measured her two qubits and informed Bob\non how to rotate his qubit into the desired state.\n\n![](../demonstrations/teleportation/teleport_circuit_full_gates.svg){.align-center\nwidth=\"75.0%\"}\n\nJust like that, Alice and Bob performed quantum teleportation, and with\na fairly small circuit! Some of you may now be thinking that\nteleportation is impossible, and you would be in good company if so.\nEinstein himself referred to the non-local nature of entanglement as\n\\\"spooky action at a distance\\\", but we can all rest easy: due to the\nneed for classical communication from Alice to Bob, quantum states (in\nother words, information) still cannot be teleported faster than the\nspeed of light. Don\\'t let that take away from the importance of quantum\nteleportation! This protocol is a critical tool in quantum information\nprocessing, and now it is a tool that you wield.\n\nReferences\n==========\n"
      ]
    },
    {
      "cell_type": "markdown",
      "metadata": {},
      "source": [
        "About the author\n================\n"
      ]
    }
  ],
  "metadata": {
    "kernelspec": {
      "display_name": "Python 3",
      "language": "python",
      "name": "python3"
    },
    "language_info": {
      "codemirror_mode": {
        "name": "ipython",
        "version": 3
      },
      "file_extension": ".py",
      "mimetype": "text/x-python",
      "name": "python",
      "nbconvert_exporter": "python",
      "pygments_lexer": "ipython3",
      "version": "3.9.18"
    }
  },
  "nbformat": 4,
  "nbformat_minor": 0
}