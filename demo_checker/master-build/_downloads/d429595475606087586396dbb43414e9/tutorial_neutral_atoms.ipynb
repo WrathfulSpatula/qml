{
  "cells": [
    {
      "cell_type": "code",
      "execution_count": null,
      "metadata": {
        "collapsed": false
      },
      "outputs": [],
      "source": [
        "# This cell is added by sphinx-gallery\n# It can be customized to whatever you like\n%matplotlib inline"
      ]
    },
    {
      "cell_type": "markdown",
      "metadata": {},
      "source": [
        "::: {#neutral}\nNeutral-atom quantum computers =============================\n:::\n\n::: {.meta}\n:property=\\\"og:description\\\": Learn how neutral atom quantum devices\nwork using code :property=\\\"og:image\\\":\n<https://pennylane.ai/qml/_images/thumbnail_tutorial_neutral_atoms.png>\n:::\n\n::: {.related}\ntutorial\\_pasqal Quantum computation with neutral atoms\ntutorial\\_ahs\\_aquila Pulse programming on Rydberg atom hardware\ntutorial pulse\\_programming101 Differentiable pulse programming with\nqubit in PennyLane tutorial\\_trapped\\_ions Trapped ion quantum computing\ntutorial\\_sc\\_qubits Quantum computing with superconducting qubits\ntutorial\\_photonics Photonic quantum computing\n:::\n\n*Author: Alvaro Ballon --- Posted: 30 May 2023.*\n\nIn the last few years, a new quantum technology has gained the attention\nof the quantum computing community. Thanks to recent developments in\noptical-tweezer technology, neutral atoms can be used as robust and\nversatile qubits. In 2022, a collaboration between QuEra and various\nacademic institutions produced a neutral-atom device with a whopping 256\nqubits \ud83d\ude32! It is no surprise that this family of devices has gained\ntraction in the private sector, with startups such as Pasqal, QuEra, and\nAtom Computing suddenly finding themselves in the headlines.\n\nIn this tutorial, we will explore the inner workings of neutral-atom\nquantum devices. We will also discuss their strengths and weaknesses in\nterms of DiVincenzo\\'s criteria, introduced in the blue box below. By\nthe end of this tutorial, you will have obtained a high-level\nunderstanding of neutral atom technologies and be able to follow the new\nexciting developments that are bound to come.\n\n::: {.container .alert .alert-block .alert-info}\n**DiVincenzo\\'s criteria**: In the year 2000, David DiVincenzo proposed\na wishlist for the experimental characteristics of a quantum computer.\nDiVincenzo\\'s criteria have since become the main guideline for\nphysicists and engineers building quantum computers:\n\n1\\. **Well-characterized and scalable qubits**. Many of the quantum\nsystems that we find in nature are not qubits, since we can\\'t just\nisolate two specific quantum states and tarder them. We must find a way\nto make them behave as such. Moreover, we need to put many of these\nsystems together.\n\n2\\. **Qubit initialization**. We must be able to prepare the same state\nrepeatedly within an acceptable margin of error.\n\n3\\. **Long coherence times**. Qubits will lose their quantum properties\nafter interacting with their environment for a while. We need them to\nlast long enough so that we can perform quantum operations.\n\n4\\. **Universal set of gates**. We need to perform arbitrary operations\non the qubits. To do this, we require both single-qubit gates and\ntwo-qubit gates.\n\n5\\. **Measurement of individual qubits**. To read the result of a\nquantum algorithm, we must accurately measure the final state of a\npre-chosen set of qubits.\n:::\n\nWe will start by explaining how neutral atoms can be manipulated and\nisolated enough to be used as qubits. Then, we will use PennyLane\\'s\npulse programming capabilities to understand how to apply single and\nmulti-qubit gates. Afterwards, we will learn how to perform measurements\non the atom\\'s states. Finally, we will explore the work that still\nneeds to be done to scale this technology even further.\n"
      ]
    },
    {
      "cell_type": "markdown",
      "metadata": {},
      "source": [
        "Trapping individual atoms\n=========================\n\nIn our `cousin demo </demos/tutorial_trapped_ions>`{.interpreted-text\nrole=\"doc\"} about trapped-ion technologies, we learn that we can trap\nindividual charged atoms by carefully controlled electric fields. But\nneutral atoms, by definition, have no charge, so they can\\'t be affected\nby electric fields. How can we even hope to manipulate them\nindividually? It turns out that the technology to do this has been\naround for decades. **Optical tweezers**---highly focused laser\nbeams---can grab small objects and hold them in place, no need to charge\nthem! Let\\'s see how they are able to do this.\n\nLaser beams are nothing but electromagnetic waves, that is, oscillating\nelectric and magnetic fields. It would seem that a neutral atom could\nnot be affected by them---but it can! To understand how, we need to keep\nin mind two facts. First, in a laser beam, light is more intense at the\ncenter of the beam and it dims progressively as we go toward the edges.\nThis means that the average strength of the electric fields is higher\ncloser to the center of the beam. Secondly, as small as neutral atoms\nare, they\\'re not just points. They do carry charges that can move\naround relative to each other when we expose them to electric fields.\n\nThe consequence of these two observations is that, if an atom inside a\nlaser beam tries to escape toward the edge of the beam, the negative\ncharges will be pulled toward the center of the beam, while the positive\ncharges are pushed away. But, since the electric fields are stronger\ntoward the center, the negative charges are pulled harder, so more will\naccumulate in the center. These negative charges will bring the positive\ncharge that\\'s trying to pull away back to the middle. You can look at\nthe figure below to gain a bit more intuition.\n\n![..](../demonstrations/neutral_atoms/force_gradient.png){.align-center\nwidth=\"25.0%\"}\n\nElectric and magnetic fields are more effective in atoms that are larger\nin size and whose electrons can reach high energy levels. Atoms with\nthese features are known as **Rydberg atoms** and, as we will see later,\ntheir extra sensitivity to electric fields is also necessary to\nimplemenent some quantum gates.\n\nIn the last decade, optical tweezer technology has evolved to the point\nwhere we can move atoms around into customizable arrays (check out\n`this tutorial </demos/tutorial_pasqal>`{.interpreted-text role=\"doc\"}\nand have some fun doing this!). This means that we have a lot of freedom\nin how and when our atom-encoded qubits interact with each other. Sounds\nlike a dream come true! However, there *are* some big challenges to\naddress---we\\'ll learn about these later. To get started, let\\'s\nunderstand how neutral atoms can be used as qubits.\n\nEncoding a qubit in an atom\n===========================\n\nTo encode a qubit in a neutral atom, we need to have access to two\ndistinct atomic quantum states. The most easily accessible quantum\nstates in an atom are the electronic energy states. We would like to\n**switch one electron between two different energy states**, which means\nthat we must make sure not to affect other electrons when we manipulate\nthe atom. For this reason, the ideal atoms to work with are those with\none valence electron, i.e. one \\\"loose\\\" electron that is not too\ntightly bound to the nucleus.\n\n::: {.note}\n::: {.title}\nNote\n:::\n\nIn some cases, such as the devices built by Atom Computing, qubits are\nnot encoded in atomic energy levels, but in so-called nuclear-spin\nenergy levels instead. Such qubits are known as **nuclear spin qubits**.\nIn this demo, we will not focus on the physics of these qubits. However,\nsimilar principles to those we\\'ll outline in this demo for qubit\npreparation, control, and measurement will apply to this type of qubit.\n:::\n\nA common choice is the Rubidium-85 atom, given that it\\'s a Rydberg atom\ncommonly used in atomic physics and we have the appropriate technology\nto change its energy state using lasers. If you need a refresher on how\nwe change the electronic energy levels of atoms, do take a look at the\nblue box below!\n\n::: {.container .alert .alert-block .alert-info}\n**Atomic Physics Primer:** Atoms consist of a positively charged nucleus\nand negative electrons around it. The electrons inhabit energy levels,\nwhich have a population limit. As the levels fill up, the electrons\noccupy higher and higher electronic energy states, or energy levels. But\nas long as there is space, electrons can change energy levels, with a\npreference for the lower ones. This can happen spontaneously or due to\nexternal influences.\n\nWhen the lower energy levels are not occupied, the higher energy levels\nare unstable: electrons will prefer to minimize their energy and jump to\na lower level on their own. What happens when an electron jumps from a\nhigh energy level to a lower one? Conservation of energy tells us that\nthe energy must go somewhere. Indeed, a photon with an energy equal to\nthe energy lost by the electron is emitted. This energy is proportional\nto the frequency (colour) of the photon.\n\nConversely, we can use laser light to induce the opposite process. When\nan electron is in a stable or ground state, we can use lasers with their\nfrequency set roughly to the difference in energy levels, or energy gap,\nbetween the ground state and an excited state. If a photon hits an\nelectron, it will go to that higher energy state. When the light\nstimulus is removed, the excited electrons will return to stable states.\nThe time it takes them to do so depends on the particular excited state\nthey are in since, sometimes, the laws of physics will make it harder\nfor electrons to jump back on their own.\n\n![..](../demonstrations/neutral_atoms/atomic.png){.align-center\nwidth=\"60.0%\"}\n:::\n\nBut even if we\\'ve chosen one electron in the atom, we need to make sure\nthat we are effectively working with only two energy levels in that\natom. This ensures that we have a qubit! One of the energy levels will\nbe a ground state for the valence electron, which we call the *fiducial\nstate* and denote by $\\lvert 0 \\rangle.$ The other energy level will be\nan long-lived excited state, known as a hyperfine state, denoted by\n$\\lvert 1 \\rangle.$ We\\'ll induce transitions between these two states\nusing light whose energy matches the energy difference between these\natomic levels.\n\nInitializing the qubits\n=======================\n\nWe have chosen our atom and its energy levels, so the easy part is over!\nBut there are still some difficult tasks ahead of us. In particular, we\nneed to isolate individual atoms inside our optical tweezers *and* make\nsure that they are all in the **fiducial ground state,** as required by\nDiVincenzo\\'s second criterion. This fiducial state is stable, since\nminimal-energy states will not spontaneously emit any energy.\n\nThe first step to initialize the qubits is to cool down a cloud of atoms\nin a way that all of their electrons end up in the same state. There are\nmany states of minimum energy, so we need to be careful that all\nelectrons are in the same one! For Rubidium atoms, we use a technique\nknown as **laser cooling**. It involves putting the atoms in a magnetic\ntrap within a vacuum chamber and then using lasers both to freeze them\nin place and make sure all the electrons are in the same stable state.\n\nTo understand how neutral atoms can be used to build a quantum device,\nlet\\'s figure out how all the electrons end up in the same energy state.\nIt turns out that Rubidium-85 is the ideal atom not only because it has\none valence electron, but also because it has a **closed optical loop.**\n\nRubidium-85 has two ground states $\\vert 0\\rangle$ and\n$\\vert \\bar{0}\\rangle$, which are excited using the laser to two excited\nstates $\\vert 1\\rangle$ and $\\vert \\bar{1}\\rangle$ respectively.\nHowever, both of these excited states will decay to $\\vert 0\\rangle$\nwith high probability. This means that no matter what ground state the\nelectrons occupied initially, they will most likely be driven to the\nsame ground state through the laser cooling method.\n\n![..](../demonstrations/neutral_atoms/closed_loop.png){.align-center\nwidth=\"60.0%\"}\n\nGreat! We have our cloud of atoms all frozen and in the same ground\nstate. But now we need to pick out single atoms and arrange them in nice\nways. Here\\'s where we use our optical tweezers. The width of the laser\ncan be focused enough so that we are sure that at most one atom gets\ntrapped. Moreover, one laser beam can be split into a variety of arrays\nof beams through a spatial light modulator, allowing us to rearrange the\npositions of the atoms in many ways. With our atoms in position and in\nthe fiducial ground state, we\\'re ready to do some quantum operations on\nthem!\n\nMeasuring an electronic state\n=============================\n\nNow that our fiducial state is prepared, let\\'s focus on another\nessential part of a quantum computation: measuring the state of our\nsystem. But wait\\... isn\\'t measurement the last step in a quantum\ncircuit? Aren\\'t we skipping ahead a little bit? Not really! Once we\nhave our initial state, we should measure it to verify that we have\nindeed prepared the correct state. After all, some of the steps we\ncarried out to prepare the atoms aren\\'t really foolproof; there are two\nissues that we need to address.\n\nThe first problem is that traps are designed to trap *at most* one atom.\nThis means that some traps might contain **no** atoms! With cutting-edge\ninitialization routines, about $2\\%$ of the tweezers remain empty. The\nsecond issue is that laser cooling is not deterministic, which means\nthat some atoms may not be in the ground state. We would like to exclude\nthose from our initial state. Happily, there is a simple solution that\naddresses these two problems.\n\nTo verify that a neutral atom is in the fiducial state\n$\\lvert 0 \\rangle$, we shine a photon on it that stimulates the\ntransition between this state to some short-lived excited state\n$\\lvert h \\rangle$. Electrons excited in this way will promptly decay to\nthe state $\\lvert 0 \\rangle$ again, emitting light. The electrons that\nare in some state different than $\\lvert 0 \\rangle$ never get excited,\nsince the photon does not have the right energy. And, of course, nothing\nwill happen in traps where there is no atom. The net result is that\natoms in the ground state will shine, while others won\\'t. This\nphenomenon, known as fluorescence, is also used in trapped ion\ntechnologies. The same method can be used at the end of a quantum\ncomputation to measure the final state of the atoms in the computational\nbasis.\n\n![..](../demonstrations/neutral_atoms/fluorescence.png){.align-center\nwidth=\"60.0%\"}\n\n::: {.note}\n::: {.title}\nNote\n:::\n\nWhat about atoms in the state $\\vert \\bar{0}\\rangle$? Wouldn\\'t they\nbecome excited as well? We can actually choose the energy level\n$\\vert h\\rangle$ such that the transition\n$\\vert \\bar{0}\\rangle \\rightarrow \\vert h\\rangle$ wouldn\\'t conserve\nangular momentum, so it would be suppressed.\n:::\n\nNeutral atoms and light\n=======================\n\nWe want to carry out computations using the electronic energy levels of\nthe neutral atoms, which means that we need to be able to control their\nquantum state. To do so, we need to act on it with a *light pulse*---a\nshort burst of light whose amplitude and phase are carefully controlled\nover time. To predict exactly how pulses affect the quantum states, we\nneed to write down the *Hamiltonian* of the system.\n\n::: {.note}\n::: {.title}\nNote\n:::\n\nRecall that the Hamiltonian $H$ is the observable for the energy of the\nsystem, but it also describes how the system\\'s quantum state evolves in\ntime. If a system\\'s initial state is $\\vert \\psi(0)\\rangle$ then, after\na time interval $t,$ the state is\n\n$$\\vert \\psi(t)\\rangle = \\exp\\left(-i\\int_{0}^{t}H(\\tau)d\\tau\\right)\\vert \\psi(0)\\rangle.$$\n\nIn general, this is not easy to calculate. But\n`~pennylane.evolve`{.interpreted-text role=\"func\"} comes to our rescue,\nsince it will calculate $\\vert \\psi(t)\\rangle$ for us using some very\nclever approximations.\n:::\n\nWhen a pulse of light of frequency $\\nu(t),$ amplitude $\\Omega(t)/2\\pi$\nand phase $\\phi$ is shone upon *all* the atoms in our array, the\n*Hamiltonian* describing this interaction turns out to be\n\n$$H_d = \\Omega(t)\\sum_{q\\in\\text{wires}}(\\cos(\\phi)\\sigma_{q}^x-\\sin(\\phi)\\sigma_{q}^y) - \\frac{1}{2}\\delta(t)\\sum_{q\\in\\text{wires}}(\\mathbb{I}_q -\\sigma_{q}^z).$$\n\nHere, the **detuning** $\\delta(t)$ is defined as the difference between\nthe photon\\'s energy and the energy $E_{01}$ needed to transition\nbetween the ground state $\\lvert 0 \\rangle$ and the excited state\n$\\lvert 1 \\rangle:$\n\n$$\\delta(t) = \\hbar\\nu(t)-E_{01}.$$\n\nWe will call $H_d$ the **drive Hamiltonian**, since the electronic\nstates of the atoms are being \\\"driven\\\" by the light pulse. This\nHamiltonian is time-dependent, and it may also depend on other\nparameters that describe the pulse. PennyLane\\'s\n`pennylane.pulse.ParametrizedHamiltonian`{.interpreted-text\nrole=\"class\"} class will help us deal with such a mathematical object.\nYou can learn more about Parametrized Hamiltonians in our\n[documentation](https://docs.pennylane.ai/en/latest/code/api/pennylane.pulse.ParametrizedHamiltonian.html)\nand in this\n`pulse Programming demo </demos/tutorial_pulse_programming101>`{.interpreted-text\nrole=\"doc\"}.\n\nDriving excitations with pulses\n===============================\n\nThe mathematical expression of the Hamiltonian tells us that the time\nevolution depends on the shape of the pulse, which we can control pretty\nmuch arbitrarily as long as it\\'s finite in duration. We must choose a\npulse shape that starts and dies off smoothly. It turns out that one of\nthe best choices is the *Blackman window* pulse, which minimizes noise.\nThe amplitude of a Blackman pulse of duration $T$ is given by\n\n$$\\begin{aligned}\n\\frac{\\Omega(t)}{2\\pi} = \\left\\{\\begin{array}{lr} \\left(\\frac{1-\\alpha}{2}\\right)A-\\frac{A}{2}\\cos\\left(\\frac{2\\pi t}{T}\\right)+\\frac{\\alpha A}{2}\\cos\\left(\\frac{4\\pi t}{T}\\right), & \\text{if } 0 \\leq t \\leq T \\\\ 0  & \\text{otherwise.} \\end{array}\\right.\n\\end{aligned}$$\n\nHere, $A$ is the peak amplitude, which we will treat as an adjustable\nparameter. A standard choice is to fix $\\alpha = 0.16;$ which we will\nuse in this demo. We will also set $T=0.2$ ns, although this can be\neasily changed in programmable devices. Let\\'s plot this function to get\nan idea of what the pulse looks like. First, let\\'s import all the\nrelevant libraries.\n"
      ]
    },
    {
      "cell_type": "code",
      "execution_count": null,
      "metadata": {
        "collapsed": false
      },
      "outputs": [],
      "source": [
        "import pennylane as qml\nfrom pennylane import numpy as np\nimport matplotlib.pyplot as plt\nimport jax\nfrom jax import numpy as jnp  # Needed for pulse programming\n\njax.config.update(\"jax_platform_name\", \"cpu\")  # Tell jax to use CPU by default"
      ]
    },
    {
      "cell_type": "markdown",
      "metadata": {},
      "source": [
        "Now, let\\'s define the `blackman_window` function and plot it.\n"
      ]
    },
    {
      "cell_type": "code",
      "execution_count": null,
      "metadata": {
        "collapsed": false
      },
      "outputs": [],
      "source": [
        "duration = 0.2  # We'll set all of our pulses' duration to 0.2\n\n\ndef blackman_window(peak, time):\n\n    blackman = (\n        peak * 0.42\n        - 1 / 2 * peak * jnp.cos(2 * jnp.pi * time / duration)\n        + peak * 0.08 * jnp.cos(4 * jnp.pi * time / duration)\n    )\n\n    return blackman\n\n\nt_points = np.linspace(0, duration, 100)\ny_points = [blackman_window(1, t) for t in t_points]\n\nplt.xlabel(\"Time\", fontsize=10)\nplt.ylabel(\"Amplitude\", fontsize=10)\n\nplt.title(f\"Blackman Window Pulse (duration = {duration})\")\nplt.plot(t_points, y_points, c=\"#66c4ed\")\nplt.show()"
      ]
    },
    {
      "cell_type": "markdown",
      "metadata": {},
      "source": [
        "We will stick to using Blackman window pulses for the rest of this\ntutorial.\n\nLet us explore how an interaction with this pulse changes the quantum\nstate. The drive Hamiltonian is already coded for us in PennyLane\\'s\n`~pennylane.pulse.rydberg_drive`{.interpreted-text role=\"func\"}. For\nconciseness, let\\'s import it and call it `H_d.` Then, we can use\n`~pennylane.evolve`{.interpreted-text role=\"func\"} to calculate how an\ninitial state interacting with a pulse evolves in time. First, let\\'s\nassume that the detuning $\\delta$ is zero (indicating that the drive\nlaser and Rydberg transition are in resonance).\n"
      ]
    },
    {
      "cell_type": "code",
      "execution_count": null,
      "metadata": {
        "collapsed": false
      },
      "outputs": [],
      "source": [
        "from pennylane.pulse import rydberg_drive as H_d\n\n# Choose some arbitrary parameters\npeak = 2\nphase = np.pi / 2\ndetuning = 0\n\n# For now, let's act on only one neutral atom\nsingle_qubit_dev = qml.device(\"default.qubit.jax\", wires=1)\n\n\n@qml.qnode(single_qubit_dev)\ndef state_evolution():\n\n    # Use qml.evolve to find the final state of the atom after interacting with the pulse\n    qml.evolve(H_d(blackman_window, phase, detuning, wires=[0]))([peak], t=[0, duration])\n\n    return qml.state()\n\n\nprint(\"The final state is {}\".format(state_evolution().round(2)))"
      ]
    },
    {
      "cell_type": "markdown",
      "metadata": {},
      "source": [
        "We see that the electronic state changes indeed. As a sanity check,\nlet\\'s see what happens when the detuning is large, such that we expect\nnot to drive the transition.\n"
      ]
    },
    {
      "cell_type": "code",
      "execution_count": null,
      "metadata": {
        "collapsed": false
      },
      "outputs": [],
      "source": [
        "# Choose some arbitrary parameters\n\npeak = 2\nphase = np.pi / 2\ndetuning = 100  # Some large detuning to prove the point\n\n\n@qml.qnode(single_qubit_dev)\ndef state_evolution_detuned():\n\n    # Use qml.evolve to find the final state of the atom after interacting with the pulse\n    qml.evolve(H_d(blackman_window, phase, detuning, wires=[0]))([peak], t=[0, duration])\n\n    return qml.state()\n\n\nprint(\n    \"The final state is {}, which is the initial state!\".format(state_evolution_detuned().round(2))\n)"
      ]
    },
    {
      "cell_type": "markdown",
      "metadata": {},
      "source": [
        "All works as expected!\n\nSingle-qubit gates\n==================\n\nNote that, so far, we have paid no mind to the values for the peak\namplitude nor the phase---we just chose some arbitrary values. But we\ncan actually adjust these values to create some well-known quantum\ngates. That\\'s the magic of pulse programming! Let\\'s see how to\nproperly choose these values.\n\nWhen the detuning is zero and the pulse acts only on one qubit,\nSchrodinger\\'s equation tells us we can write the evolved state for one\nqubit as\n\n$$\\vert \\psi(T)\\rangle = \\exp\\left(-i\\int_{0}^{T}\\Omega(t)(\\cos(\\phi)\\sigma^x-\\sin(\\phi)\\sigma^y)dt\\right)\\vert \\psi(0)\\rangle.$$\n\nFor a fixed value of the phase $\\phi,$ the evolution depends only on the\nintegral of $\\Omega(t)$ over the duration of the pulse $T.$ The integral\ncan be calculated exactly for our Blackman window, in terms of the peak\namplitude:\n\n$$\\frac{1}{2\\pi}\\int_{0}^{T}\\Omega(t)dt = \\left(\\frac{1-\\alpha}{2}\\right)A\\times T = 0.42*0.2*A.$$\n\nFor example, for $\\phi = 0$, the evolved state is of the form\n$\\vert\\psi(t)\\rangle = e^{-i\\theta \\sigma^x },$ with\n$\\theta = \\int_{0}^{T}\\Omega(t).$ This is none other than the rotation\ngate $RX(\\theta).$ Therefore, if we want to implement a rotation by an\nangle $\\theta,$ it suffices to use a Blackman pulse with peak amplitude\n\n$$A = \\frac{\\theta}{2\\pi\\times 0.42 \\times 0.2}.$$\n\nWe can program the pulse easily using PennyLane, and verify that it\ngives us the correct result.\n"
      ]
    },
    {
      "cell_type": "code",
      "execution_count": null,
      "metadata": {
        "collapsed": false
      },
      "outputs": [],
      "source": [
        "def neutral_atom_RX(theta):\n\n    peak = theta / duration / 0.42 / (2 * jnp.pi)  # Recall that duration is 0.2\n\n    # Set phase and detuning equal to zero for RX gate\n    qml.evolve(H_d(blackman_window, 0, 0, wires=[0]))([peak], t=[0, duration])\n\n\nprint(\n    \"For theta = pi/2, the matrix for the pulse-based RX gate is \\n {} \\n\".format(\n        qml.matrix(neutral_atom_RX)(jnp.pi / 2).round(2)\n    )\n)\nprint(\n    \"The matrix for the exact RX(pi/2) gate is \\n {}\".format(\n        qml.matrix(qml.RX)(jnp.pi / 2, wires=0).round(2)\n    )\n)"
      ]
    },
    {
      "cell_type": "markdown",
      "metadata": {},
      "source": [
        "A similar argument can be made for $RY$ rotations, with the only\ndifference being that $\\phi = -\\pi/2.$\n"
      ]
    },
    {
      "cell_type": "code",
      "execution_count": null,
      "metadata": {
        "collapsed": false
      },
      "outputs": [],
      "source": [
        "def neutral_atom_RY(theta):\n\n    peak = theta / duration / 0.42 / (2 * jnp.pi)  # Recall that duration is 0.2\n\n    # Set phase equal to pi/2 and detuning equal to zero for RY gate\n    qml.evolve(H_d(blackman_window, -jnp.pi / 2, 0, wires=[0]))([peak], t=[0, duration])\n\n\nprint(\n    \"For theta = pi/2, the matrix for the pulse-based RY gate is \\n {} \\n\".format(\n        qml.matrix(neutral_atom_RY)(jnp.pi / 2).round(2)\n    )\n)\nprint(\n    \"The matrix for the exact RY(pi/2) gate is \\n {}\".format(\n        qml.matrix(qml.RY)(jnp.pi / 2, wires=0).round(2)\n    )\n)"
      ]
    },
    {
      "cell_type": "markdown",
      "metadata": {},
      "source": [
        "We have implemented two orthogonal rotations in our neutral-atom device.\nThis means that we have a universal set of single-qubit gates: all\none-qubit gates can be implemented using some combination of $RX$ and\n$RY$! The easy part is over---now we need to figure out how to apply\ntwo-qubit gates.\n\nThe Rydberg blockade\n====================\n\nIn the case of a neutral-atom device, implementing a two-qubit gate\namounts to more than just applying pulses. We must make sure that the\ntwo atoms (i.e. our qubits) in question interact in a controlled way.\nThe atoms are neutral, though, so do they even interact? They do,\nthrough various electromagnetic forces that arise due to the\ndistributions of charges in the atoms, which are all accounted for in\nthe so-called *Van der Waals* interaction.\n\nThe Van der Waals interaction is usually pretty weak and short-ranged,\nbut its effect will noticeably grow if we work with Rydberg atoms. The\nstates of high energy that the electron in the atom can occupy sare\nknown as **Rydberg states**. We will choose one such Rydberg state,\nwhich we denote by $\\vert r\\rangle,$ to serve as an auxiliary state in\nthe implementation of two-qubit gates. Focusing only on the ground state\n$\\vert 0\\rangle$ and the Rydberg state $\\vert r\\rangle$ as accessible\nstates, the Ryberg interaction is described by the *interaction\nHamiltonian*.\n\n$$H_i = \\sum_{i<j}^{N}\\frac{C_6}{R_{ij}^6}\\hat{n}_{i}\\hat{n}_j$$\n\nfor a system of $N$ atoms. Here,\n$\\hat{n}_{i}=(\\mathbb{I}+\\sigma^{z}_{i})/2,$ $C_6$ is a coupling\nconstant that describes the interaction strength between the atoms, and\n$R_{ij}$ is the distance between atom $i$ and atom $j.$ If we add a\npulse that addresses the transition between $\\vert 0\\rangle$ and\n$\\vert r\\rangle,$ the full Hamiltonian for $N$ atoms is given by\n\n$$H = \\sum_{k=1}^{N}(\\cos(\\phi)\\sigma_{k}^x-\\sin(\\phi)\\sigma_{k}^y) - \\frac{1}{2}\\delta(t)\\sum_{k=1}^{N}(\\mathbb{I}_k -\\sigma_{k}^z)+ \\sum_{i<j}^{N}\\frac{C_6}{R_{ij}^6}\\hat{n}_{i}\\hat{n}_j.$$\n\nNote that the first two terms are the same as $H_d$, but bear in mind\nthat the two-level system we\\'re working with in this case is the one\nspanned by the states $\\vert 0\\rangle$ and $\\vert r\\rangle,$ as opposed\nto $\\vert 0\\rangle$ and $\\vert 1\\rangle.$ Let us **focus only on two\natoms** and create the interaction Hamiltonian in terms of the distance\nbetween the two atoms and the coupling strength $C_6$. This Hamiltonian\nis also built into Pennylane, in the\n`pennylane.pulse.rydberg_interaction`{.interpreted-text role=\"func\"}\nfunction.\n"
      ]
    },
    {
      "cell_type": "code",
      "execution_count": null,
      "metadata": {
        "collapsed": false
      },
      "outputs": [],
      "source": [
        "def H_i(distance, coupling):\n\n    # Only two atoms, placed in the coordinates (0,0) and (0,r)\n    atomic_coordinates = [[0, 0], [0, distance]]\n\n    # Return the interaction term for two atoms in terms of the distance\n    return qml.pulse.rydberg_interaction(\n        atomic_coordinates, interaction_coeff=coupling, wires=[0, 1]\n    )"
      ]
    },
    {
      "cell_type": "markdown",
      "metadata": {},
      "source": [
        "One way to assess how these extra interaction terms affect the physics\nof the system is to see how the energy levels change. These correspond\nto the eigenvalues of the full Hamiltonian. Let\\'s plot them for\ndifferent values of the distance, fixed zero detuning, and other fixed\nvalues of the other parameters for easy visualization.\n"
      ]
    },
    {
      "cell_type": "code",
      "execution_count": null,
      "metadata": {
        "collapsed": false
      },
      "outputs": [],
      "source": [
        "peak = 6\nphase = np.pi / 2\ndetuning = 0\ncoupling = 1\ntime = 0.1\n\n\ndef energy_gap(distance):\n\n    \"\"\"Calculates the energy eigenvalues for the full Hamiltonian, as a function \n    of the distance between the atoms.\"\"\"\n\n    # create the terms\n    drive_term = H_d(blackman_window, phase, detuning, wires=[0, 1])\n    interaction_term = H_i(distance, coupling)\n\n    # combine and evaluate the Hamiltonian with peak and time parameters\n    H  = (interaction_term + drive_term)([peak], time)\n\n    # Calculate the eigenvalues for the full Hamiltonian\n    eigenvalues = jnp.linalg.eigvals(qml.matrix(H))\n    return jnp.sort(eigenvalues - eigenvalues[0])\n\n\ndistances = np.linspace(0.55, 1.3, 30)\nenergies = [np.real(energy_gap(d)) for d in distances]\n\nplot_colors = [\"#e565e5\", \"#66c4ed\", \"#ffd86d\", \"#9e9e9e\"]\n\nfor i in range(4):\n    y = [result[i] for result in energies]\n    plt.plot(distances, y, c=plot_colors[i])\n\nplt.xlabel(\"Distance between atoms\")\nplt.ylabel(\"Energy levels\")\n\nplt.text(1.25, 85, \"|rr>\", c=\"#9e9e9e\")\nplt.text(1.2, 50, \"|0r>+|r0>\", c=\"#ffd86d\")\nplt.text(1.2, 25, \"|0r>-|r0>\", c=\"#66c4ed\")\nplt.text(1.25, 6, \"|00>\", c=\"#e565e5\")\nplt.show()"
      ]
    },
    {
      "cell_type": "markdown",
      "metadata": {},
      "source": [
        "Let\\'s analyze what we see above. When the atoms are far away, the\nenergy levels are evenly spaced. This means that if a pulse excites the\nsystem from $\\vert 00 \\rangle$ (both atoms in the ground state) to\n$\\vert 0r \\rangle$ (one atom in the ground state, one in the Rydberg\nstate), then a similar second pulse could excite the system into\n$\\vert rr \\rangle$ (both atoms in the Ryberg state). However, as the\natoms move close to each other, this is no longer true. When the\ndistance becomes small, as soon as one of the atoms reaches the Rydberg\nstate, the other one cannot reach that state with a similar pulse.\n\n::: {.note}\n::: {.title}\nNote\n:::\n\nWe are not using any realistic values for either the amplitude or the\ncoupling strength. These have been chosen in arbitrary units for\nvisualization purposes. If you would like to know more about the\nspecifications for real quantum hardware, check out\n`this demo </demos/ahs_aquila>`{.interpreted-text role=\"doc\"}.\n:::\n\nThis phenomenon is called the **Rydberg blockade.** When the distance\nbetween two atoms is below a certain distance known as the **blockade\nradius,** one atom being in the Rydberg state \\\"blocks\\\" the other one\nfrom reaching its Rydberg state. Let\\'s see how the Ryberg blockade\nhelps us build two-qubit gates.\n\nThe Ctrl-Z gate\n===============\n\nThe native two-qubit gate for neutral atoms devices turns out to be the\n$CZ$ gate, which can be implemented with a sequence of $RX$ rotations\n(in the space spanned by $\\vert 0 \\rangle$ and $\\vert r \\rangle$) on a\nset of two atoms: the **control atom** and the **target atom.** In\nparticular, three pulses are needed: a $\\pi$-**pulse** (inducing a\nrotation by an angle $\\pi$) on the control atom a $2\\pi$-**pulse**\n(inducing a rotation by an angle $2\\pi$) on the target atom, and another\n$\\pi$-**pulse** on the control atom, in that order. Combined with the\neffects of the Rydberg blockade, this pulse combination will implement\nthe desired gate. To see this, let\\'s code the pulses needed first.\n"
      ]
    },
    {
      "cell_type": "code",
      "execution_count": null,
      "metadata": {
        "collapsed": false
      },
      "outputs": [],
      "source": [
        "def two_pi_pulse(distance, coupling, wires=[0]):\n\n    # Build full Hamiltonian\n    full_hamiltonian = H_d(blackman_window, 0, 0, wires) + H_i(distance, coupling)\n\n    # Return the 2 pi pulse\n    qml.evolve(full_hamiltonian)([2 * jnp.pi / 0.42 / 0.2 / (2 * jnp.pi)], t=[0, 0.2])\n\n\ndef pi_pulse(distance, coupling, wires=[0]):\n\n    full_hamiltonian = H_d(blackman_window, 0, 0, wires) + H_i(distance, coupling)\n\n    # Return the pi pulse\n    qml.evolve(full_hamiltonian)([jnp.pi / 0.42 / 0.2 / (2 * jnp.pi)], t=[0, 0.2])"
      ]
    },
    {
      "cell_type": "markdown",
      "metadata": {},
      "source": [
        "When acting on individual atoms, these pulses have the net effect of\nadding a phase of $-1$ to the state. But the presence of the Rydberg\nblocakde changes this outcome. Then, let\\'s see the effect the sequence\nof pulses has on the $\\vert 00 \\rangle$ state when the atoms are close\nenough.\n"
      ]
    },
    {
      "cell_type": "code",
      "execution_count": null,
      "metadata": {
        "collapsed": false
      },
      "outputs": [],
      "source": [
        "dev_two_qubits = qml.device(\"default.qubit.jax\", wires=2)\n\n@qml.qnode(dev_two_qubits)\ndef neutral_atom_CZ(distance, coupling):\n\n    pi_pulse(distance, coupling, wires=[0])\n\n    two_pi_pulse(distance, coupling, wires=[1])\n\n    pi_pulse(distance, coupling, wires=[0])\n\n    return qml.state()\n\n\nprint(\n    \"The final state after the set of pulses is {} when atoms are close.\".format(\n        neutral_atom_CZ(0.2, 1).round(2)\n    )\n)\nprint(\n    \"The final state after the set of pulses is {} when atoms are far.\".format(\n        neutral_atom_CZ(2, 1).round(2)\n    )\n)"
      ]
    },
    {
      "cell_type": "markdown",
      "metadata": {},
      "source": [
        "The effect is to multiply the two-qubit state by $-1$, which doesn\\'t\nhappen without the Rydberg blockade! Indeed, when the atoms are far away\nfrom each other, each individual atomic state gets multiplied by $-1.$\nTherefore, there would be no total phase change since the two-atom state\ngains a multiplier of $(-1)\\times(-1)=1$. It turns out that the Rydberg\nblockade is only important when the initial state is $\\vert 00 \\rangle.$\n\n![..](../demonstrations/neutral_atoms/control_z00.png){.align-center\nwidth=\"60.0%\"}\n\nIf one of the atoms were to be in the state $\\vert 1 \\rangle,$ then the\npulse wouldn\\'t affect such an atom since it\\'s not tuned to the\n$\\vert r \\rangle \\rightarrow \\vert 1 \\rangle$ transition.\n\n![..](../demonstrations/neutral_atoms/control_z01.png){.align-center\nwidth=\"60.0%\"}\n\nThe net effect of the sequence of pulses is summarized in the following\ntable.\n\n```{=html}\n<style>\n    .docstable {\n        max-width: 300px;\n    }\n    .docstable tr.row-even th, .docstable tr.row-even td {\n        text-align: center;\n    }\n    .docstable tr.row-odd th, .docstable tr.row-odd td {\n        text-align: center;\n    }\n</style>\n<div class=\"d-flex justify-content-center\">\n```\n::: {.rst-class}\ndocstable\n\n  ---------------------------------------------------------\n  Initial state             Final state\n  ------------------------- -------------------------------\n  $\\vert 00\\rangle$         $-\\vert 00\\rangle$\n\n  $\\vert 01\\rangle$         $-\\vert 01\\rangle$\n\n  $\\vert 10\\rangle$         $-\\vert 10\\rangle$\n\n  $\\vert 11\\rangle$         $\\vert 11\\rangle$\n  ---------------------------------------------------------\n:::\n\n```{=html}\n</div>\n```\nUp to a global phase, this corresponds to the $CZ$ gate. Together with\nthe $RX$ and $RY$ gates, we have a universal set of gates, since the\n[CNOT]{.title-ref} gate can be expressed in terms of $CZ$ via the\nequation\n\n![..](../demonstrations/neutral_atoms/cnot_and_cz.png){.align-center\nwidth=\"60.0%\"}\n\nChallenges and future improvements\n==================================\n\nGreat, this all seems to work like a charm\\... at least in theory. In\npractice, there are still challenges to overcome. We\\'ve managed to\nefficiently prepare qubits, apply gates, and measure, satisfying\nDiVincenzo\\'s second, fourth, and fifth criteria. However, as with most\nquantum architectures, there are some challenges to overcome with regard\nto scalability and decoherence times.\n\nAn important issue to deal with in quantum hardware in general. Quantum\nstates are short-lived in the presence of external influences. We can\nnever achieve a perfect vacuum in the chamber, and the particles and\ncharges around the atoms will destroy our carefully crafted quantum\nstates in a matter of microseconds. While our qubit states are\nlong-lived, the auxiliary Rydberg state is more prone to decohere, which\nlimits the amount of computations we can perform in a succession.\nOverall improving our register preparation, gates, and measurement\nprotocols is of the essence to make more progress on neutral-atom\ntechnology.\n\nWhile we are able to trap many atoms with our current laser technology,\nscaling optical tweezer arrays to thousands of qubits poses an obstacle.\nWe rely on spatial modulators to divide our laser beams, but this also\nreduces the strength of the tweezers. If we split a laser beam too much,\nthe tweezers become too weak to contain an atom. Of course, we could\nsimply use more laser sources, but the spatial requirements for the\nhardware would also grow. Alternatively, we can use laser sources with\nhigher intensity, but such technology is still being developed. Another\nsolution is to use photons through optical fibres to communicate between\ndifferent processors, allowing for further connectivity and scalability.\n\nAnother issue with scalability is the preparation times of the\nregisters. While, with hundreds of qubits, we can still prepare and\narrange the atoms in reasonable times, it becomes increasingly costly\nthe more atoms we have. And we do need to reprepare the neutral atom\narray when we are done with a computation. It\\'s not as easy as moving\nthe atoms around faster---if we try to move the atoms around too fast,\nthey will escape from the traps! Therefore, engineers are working on\nmore efficient ways to move the tweezers around, minimizing the number\nof steps needed to prepare the initial state[^1].\n\nFinally, let us remark that there are some nuances with gate\nimplementation---it\\'s not nearly as simple in real-life as it is in\ntheory. It is not easy to address individual atoms with the driving\nlaser pulses. This is necessary for universal quantum computing, as we\nsaw in the previous section. True local atom drives are still in the\nworks, but even without them, we can still use these non-universal\ndevices for applications in quantum simulation.\n\nConclusion\n==========\n\nNeutral-atom quantum hardware is a promising and quickly developing\ntechnology which we should keep an eye on. The ability to easily create\ncustom qubit topologies and the coherence time of the atoms are its main\nstrong points, and its weaknesses are actually no too different from\nother qubit-based architectures. We can easily program neutral-atom\ndevices using pulses, for which PennyLane is of great help. If you want\nto learn more, check out our tutorials on the\n`Aquila device, </demos/ahs_aquila>`{.interpreted-text role=\"doc\"}\n`neutral atom configurations, </demos/tutorial_pasqal>`{.interpreted-text\nrole=\"doc\"} and\n`pulse programming </demos/tutorial_pulse_programming101>`{.interpreted-text\nrole=\"doc\"}. And do take a look at the references below to dive into\nmuch more detail about the topics introduced here.\n\nReferences\n==========\n\nAbout the author\n================\n\n[^1]: K. Wintersperger et al. (2023) \\\"Neutral Atom Quantum Computing\n    Hardware: Performance and End-User Perspective\\\",\n    ([arXiv](https://arxiv.org/abs/2304.14360))\n"
      ]
    }
  ],
  "metadata": {
    "kernelspec": {
      "display_name": "Python 3",
      "language": "python",
      "name": "python3"
    },
    "language_info": {
      "codemirror_mode": {
        "name": "ipython",
        "version": 3
      },
      "file_extension": ".py",
      "mimetype": "text/x-python",
      "name": "python",
      "nbconvert_exporter": "python",
      "pygments_lexer": "ipython3",
      "version": "3.9.18"
    }
  },
  "nbformat": 4,
  "nbformat_minor": 0
}