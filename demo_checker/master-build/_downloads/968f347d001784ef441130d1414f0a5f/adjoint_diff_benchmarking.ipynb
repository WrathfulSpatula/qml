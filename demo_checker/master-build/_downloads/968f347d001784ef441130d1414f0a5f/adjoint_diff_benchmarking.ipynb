{
  "cells": [
    {
      "cell_type": "code",
      "execution_count": null,
      "metadata": {
        "collapsed": false
      },
      "outputs": [],
      "source": [
        "# This cell is added by sphinx-gallery\n# It can be customized to whatever you like\n%matplotlib inline"
      ]
    },
    {
      "cell_type": "markdown",
      "metadata": {},
      "source": [
        "Adjoint Differentiation {#adjoint_differentiation_benchmarking}\n=======================\n\n::: {.meta}\n:property=\\\"og:description\\\": Benchmarking file for adjoint diff\ndemonstration. :property=\\\"og:image\\\":\n<https://pennylane.ai/qml/_static/thumbs/code.png>\n:::\n\n*Author: Christina Lee --- Posted: 23 November 2021. Last updated: 23\nNovember 2021.*\n"
      ]
    },
    {
      "cell_type": "markdown",
      "metadata": {},
      "source": [
        "This page is supplementary material to the [Adjoint\nDifferentiation](https://pennylane.ai/qml/demos/tutorial_adjoint_diff.html)\ndemonstration. The below script produces the benchmarking images used.\n"
      ]
    },
    {
      "cell_type": "code",
      "execution_count": null,
      "metadata": {
        "collapsed": false
      },
      "outputs": [],
      "source": [
        "import timeit\nimport matplotlib.pyplot as plt\nimport pennylane as qml\nfrom pennylane import numpy as np\n\nplt.style.use(\"bmh\")\n\nn_samples = 5\n\ndef get_time(qnode, params):\n    globals_dict = {'grad': qml.grad, 'circuit': qnode, 'params': params}\n    return timeit.timeit(\"grad(circuit)(params)\", globals=globals_dict, number=n_samples)\n\ndef wires_scaling(n_wires, n_layers):\n\n    rng = np.random.default_rng(seed=42)\n\n    t_adjoint = []\n    t_ps = []\n    t_backprop = []\n\n    def circuit(params, wires):\n        qml.StronglyEntanglingLayers(params, wires=range(wires))\n        return qml.expval(qml.PauliZ(0) @ qml.PauliZ(1) @ qml.PauliZ(2))\n\n    for i_wires in n_wires:\n        \n        dev = qml.device(\"lightning.qubit\", wires=i_wires)\n        dev_python = qml.device(\"default.qubit\", wires=i_wires)\n        \n        circuit_adjoint = qml.QNode(lambda x: circuit(x, wires=i_wires), dev, diff_method=\"adjoint\")\n        circuit_ps = qml.QNode(lambda x: circuit(x, wires=i_wires), dev, diff_method=\"parameter-shift\")\n        circuit_backprop = qml.QNode(lambda x: circuit(x, wires=i_wires), dev_python, diff_method=\"backprop\")\n\n        # set up the parameters\n        param_shape = qml.StronglyEntanglingLayers.shape(n_wires=i_wires, n_layers=n_layers)\n        params = rng.standard_normal(param_shape, requires_grad=True)\n\n        t_adjoint.append(get_time(circuit_adjoint, params))\n        t_backprop.append(get_time(circuit_backprop, params))\n        t_ps.append(get_time(circuit_ps, params))\n\n    return t_adjoint, t_backprop, t_ps\n\n\ndef layers_scaling(n_wires, n_layers):\n    \n    rng = np.random.default_rng(seed=42)\n\n    dev = qml.device(\"lightning.qubit\", wires=n_wires)\n    dev_python = qml.device('default.qubit', wires=n_wires)\n\n    t_adjoint = []\n    t_ps = []\n    t_backprop = []\n\n    def circuit(params):\n        qml.StronglyEntanglingLayers(params, wires=range(n_wires))\n        return qml.expval(qml.PauliZ(0) @ qml.PauliZ(1) @ qml.PauliZ(2))\n\n    circuit_adjoint = qml.QNode(circuit, dev, diff_method=\"adjoint\")\n    circuit_ps = qml.QNode(circuit, dev, diff_method=\"parameter-shift\")\n    circuit_backprop = qml.QNode(circuit, dev_python, diff_method=\"backprop\")\n\n    for i_layers in n_layers:\n\n        # set up the parameters\n        param_shape = qml.StronglyEntanglingLayers.shape(n_wires=n_wires, n_layers=i_layers)\n        params = rng.standard_normal(param_shape, requires_grad=True)\n        \n        t_adjoint.append(get_time(circuit_adjoint, params))\n        t_backprop.append(get_time(circuit_backprop, params))\n        t_ps.append(get_time(circuit_ps, params))\n\n    return t_adjoint, t_backprop, t_ps\n\nif __name__ == \"__main__\":\n\n    layers_list= [1, 3, 5, 7, 9]\n    n_wires = 5\n    adjoint_layers, backprop_layers, ps_layers = layers_scaling(n_wires, layers_list)\n\n    \n    wires_list = [3, 6, 9, 12, 15]\n    n_layers = 3\n    adjoint_wires, backprop_wires, ps_wires = wires_scaling(wires_list, n_layers)\n\n    # Generating the graphic\n    fig, (ax1, ax2) = plt.subplots(1, 2, figsize=(10, 4))\n\n    ax1.plot(wires_list, adjoint_wires, '.-', label=\"adjoint\")\n    ax1.plot(wires_list, ps_wires, '.-', label=\"parameter-shift\")\n    ax1.plot(wires_list, backprop_wires, '.-', label=\"backprop\")\n\n    ax1.legend()\n\n    ax1.set_xlabel(\"Number of wires\")\n    ax1.set_xticks(wires_list)\n    ax1.set_ylabel(\"Log Time\")\n    ax1.set_yscale(\"log\")\n    ax1.set_title(\"Scaling with wires\")\n\n    ax2.plot(layers_list, adjoint_layers, '.-', label=\"adjoint\")\n    ax2.plot(layers_list, ps_layers, '.-', label=\"parameter-shift\")\n    ax2.plot(layers_list, backprop_layers, '.-', label=\"backprop\")\n\n    ax2.legend()\n\n    ax2.set_xlabel(\"Number of layers\")\n    ax2.set_xticks(layers_list)\n    ax2.set_ylabel(\"Time\")\n    ax2.set_title(\"Scaling with Layers\")\n\n    plt.savefig(\"adjoint_diff/scaling.png\")"
      ]
    },
    {
      "cell_type": "markdown",
      "metadata": {},
      "source": [
        "![](../demonstrations/adjoint_diff/scaling.png){.align-center\nwidth=\"80.0%\"}\n\nAbout the author\n================\n"
      ]
    }
  ],
  "metadata": {
    "kernelspec": {
      "display_name": "Python 3",
      "language": "python",
      "name": "python3"
    },
    "language_info": {
      "codemirror_mode": {
        "name": "ipython",
        "version": 3
      },
      "file_extension": ".py",
      "mimetype": "text/x-python",
      "name": "python",
      "nbconvert_exporter": "python",
      "pygments_lexer": "ipython3",
      "version": "3.9.18"
    }
  },
  "nbformat": 4,
  "nbformat_minor": 0
}