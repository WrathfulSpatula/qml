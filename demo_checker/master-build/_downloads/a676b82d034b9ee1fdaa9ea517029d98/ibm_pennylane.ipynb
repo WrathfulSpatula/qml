{
  "cells": [
    {
      "cell_type": "code",
      "execution_count": null,
      "metadata": {
        "collapsed": false
      },
      "outputs": [],
      "source": [
        "# This cell is added by sphinx-gallery\n# It can be customized to whatever you like\n%matplotlib inline"
      ]
    },
    {
      "cell_type": "markdown",
      "metadata": {},
      "source": [
        "Using PennyLane with IBM\\'s quantum devices and Qiskit\n===================================\n\n::: {.meta}\n:property=\\\"og:description\\\": Learn how to use IBM devices with\nPennylane. :property=\\\"og:image\\\":\n<https://pennylane.ai/qml/_images/thumbnail_tutorial_ibm_pennylane.png>\n:::\n\n::: {.related}\nquantum\\_volume Quantum Volume tutorial\\_vqe A brief overview of VQE\n:::\n\n*Authors: Kaur Kristjuhan, Clara Ferreira Cores, Mark Nicholas Jones;\nMolecular Quantum Solutions (MQS) --- Posted: 20 June 2023. Last\nupdated: 20 June 2023.*\n\n::: {.warning}\n::: {.title}\nWarning\n:::\n\nThis demo currently does not work as the Qiskit Runtime VQE program has\nbeen retired.\n:::\n\nBigger and better quantum computers are built every year. Instead of\nwaiting for the perfect quantum computer to be released, we can already\ntry out the best hardware that exists today. Experimenting on\ncutting-edge devices helps us understand the technology and improve the\nway we develop quantum software. PennyLane is a fantastic tool for\nprototyping quantum algorithms of all kinds, while IBM provides access\nto the newest and most powerful superconducting quantum devices\navailable today. Let\\'s combine the two!\n\nIn this tutorial, we\\'ll show you how to use PennyLane to interface with\nIBM\\'s quantum computing platform. We will learn how to:\n\n-   discover what kind of devices IBM offers;\n-   connect to IBM devices through Pennylane\\'s device class;\n-   use Qiskit Runtime to run hybrid algorithms;\n-   compare different devices to improve our quantum algorithms.\n"
      ]
    },
    {
      "cell_type": "markdown",
      "metadata": {},
      "source": [
        "Using IBM devices\n=================\n\nIBM offers access to a variety of devices, both classical simulators and\nreal quantum hardware. By default, these devices are not included in\nPennyLane, but after installing the pennylane-qiskit plugin with the\ncommand `pip install pennylane-qiskit`, they can be used just like any\nother device offered in PennyLane! Currently, there are three devices\navailable --- Aer, BasicAer and IBMQ --- that can be initialized as\nfollows:\n"
      ]
    },
    {
      "cell_type": "code",
      "execution_count": null,
      "metadata": {
        "collapsed": false
      },
      "outputs": [],
      "source": [
        "import pennylane as qml\nimport qiskit\n\nqubits = 4\ndev_aer = qml.device(\"qiskit.aer\", wires=qubits)\ndev_basicaer = qml.device(\"qiskit.basicaer\", wires=qubits)\ntry:\n    dev_ibmq = qml.device(\"qiskit.ibmq\", wires=qubits)\nexcept Exception as e:\n    print(e)"
      ]
    },
    {
      "cell_type": "markdown",
      "metadata": {},
      "source": [
        "The last device (qiskit.ibmq) can cause an error if we don\\'t provide a\nvalid account token through Qiskit. The IBMQ device is used to access\nquantum hardware, so it also requires access to an IBMQ account, which\ncan be specified using an identifying token. You can find your token by\ncreating or logging into your [IBMQ\naccount](https://quantum-computing.ibm.com). Be careful not to publish\ncode that reveals your token to other people! One way to avoid this is\nby saving your token in a [PennyLane configuration\nfile](https://docs.pennylane.ai/en/stable/introduction/configuration.html).\nTo specify which machine or computational framework these devices\nactually connect to, we can use the `backend` argument.\n"
      ]
    },
    {
      "cell_type": "code",
      "execution_count": null,
      "metadata": {
        "collapsed": false
      },
      "outputs": [],
      "source": [
        "dev_aer = qml.device(\"qiskit.aer\", wires=qubits, backend=\"aer_simulator_statevector\")"
      ]
    },
    {
      "cell_type": "markdown",
      "metadata": {},
      "source": [
        "For the IBMQ device, different quantum computers can be used by changing\nthe backend to the name of the specific quantum computer, such as\n`'ibmq_manila'` or `'ibm_nairobi'`. To see which backends exist, we can\ncall the `capabilities` function:\n"
      ]
    },
    {
      "cell_type": "code",
      "execution_count": null,
      "metadata": {
        "collapsed": false
      },
      "outputs": [],
      "source": [
        "print(dev_aer.capabilities()[\"backend\"])"
      ]
    },
    {
      "cell_type": "markdown",
      "metadata": {},
      "source": [
        "::: {.rst-class}\nsphx-glr-script-out\n\n``` {.none}\n['aer_simulator', 'aer_simulator_statevector', 'aer_simulator_density_matrix',\n'aer_simulator_stabilizer', 'aer_simulator_matrix_product_state',\n'aer_simulator_extended_stabilizer', 'aer_simulator_unitary', 'aer_simulator_superop',\n'qasm_simulator', 'statevector_simulator', 'unitary_simulator', 'pulse_simulator']\n```\n:::\n"
      ]
    },
    {
      "cell_type": "markdown",
      "metadata": {},
      "source": [
        "You can find even more details about these devices directly from the\nIBMQ platform. You can find information about the size, topology,\nquantum volume and noise profile of all the devices that they have\navailable. Currently, the smallest device has 5 qubits and the largest\nhas 127. On the IBMQ platform you can also check which devices are free\nto use and whether any of them are temporarily unavailable. You can even\ncheck your active jobs and estimated time in the queue for any programs\nyou execute.\n"
      ]
    },
    {
      "cell_type": "markdown",
      "metadata": {},
      "source": [
        "Qiskit Runtime\n==============\n\nQiskit Runtime is a quantum computing service provided by IBM intended\nto make hybrid algorithms more efficient to execute. Hybrid algorithms\nare algorithms where a classical computer and quantum computer work\ntogether. This often involves the classical algorithm iteratively\noptimizing the quantum circuit, which the quantum computer repeatedly\nruns.\n\nOne such example is the VQE algorithm, which can be used to calculate\nthe ground state energy of molecules. It contains an optimization loop,\nwhich repeatedly requests the device to run a parameterized quantum\ncircuit. Because the optimization algorithm changes the values of the\nparameters, the circuit requested is different each iteration. Also, the\nchange is dependent on the results of the previous circuit, which means\nthat there needs to be constant communication back and forth between the\nquantum computer and the classical computer in charge of the\noptimization.\n\nThe solution that Qiskit Runtime provides is placing a classical\ncomputer in close physical proximity of the quantum computer. The user\nuploads a job to the classical computer, which runs the entire hybrid\nalgorithm together with the quantum hardware, with no intermediate user\ninput. This automates the iterative process, which otherwise requires\ntime and resources for communication between the user and the hardware\nprovider.\n"
      ]
    },
    {
      "cell_type": "markdown",
      "metadata": {},
      "source": [
        "Using Qiskit Runtime\n====================\n\nThe pennylane-qiskit plugin includes some tools to help create a Qiskit\nRuntime job. Since using Qiskit Runtime only makes sense when using real\nquantum hardware, we must again specify our IBMQ account details to run\nthese jobs.\n\nFirst, we set up our problem as usual, and then retrieve a program ID\nfrom IBM, which gives us a place to upload our job\n"
      ]
    },
    {
      "cell_type": "code",
      "execution_count": null,
      "metadata": {
        "collapsed": false
      },
      "outputs": [],
      "source": [
        "from pennylane_qiskit import vqe_runner\nfrom pennylane import qchem\nfrom pennylane import numpy as np\n\nsymbols = [\"H\", \"H\"]\ncoordinates = np.array([0.0, 0.0, -0.6614, 0.0, 0.0, 0.6614])\nbasis_set = \"sto-3g\"\nelectrons = 2\n\nH, qubits = qchem.molecular_hamiltonian(\n    symbols,\n    coordinates,\n    basis=basis_set,\n)\n\ntry:\n    dev = qml.device(\"qiskit.ibmq.circuit_runner\", wires=4)\nexcept Exception as e:\n    print(e)"
      ]
    },
    {
      "cell_type": "markdown",
      "metadata": {},
      "source": [
        "Next, we specify our quantum circuit. Although there are many circuits\nto choose from, it is important to know that before a circuit is\nexecuted on hardware, it undergoes a transpilation step, which converts\nyour circuit into a different, but equivalent, circuit. The purpose of\nthis step is to ensure that only operations that are native to the\nquantum computer are used. With parameterized gates, however, this may\ncause some unexpected behavior, such as the emergence of more parameters\nwhen the transpiler attempts to decompose a complicated gate, such as\n`~pennylane.AllSinglesDoubles`{.interpreted-text role=\"class\"}. These\ntypes of issues will likely be fixed in the future, but, when in doubt,\nit is preferable to use simpler gates where possible. We will use a\nsimple four-qubit circuit with one parameter that is designed\nspecifically for the H2 molecule:\n"
      ]
    },
    {
      "cell_type": "code",
      "execution_count": null,
      "metadata": {
        "collapsed": false
      },
      "outputs": [],
      "source": [
        "def four_qubit_ansatz(theta):\n    # initial state 1100:\n    qml.PauliX(wires=0)\n    qml.PauliX(wires=1)\n\n    # change of basis\n    qml.RX(np.pi / 2, wires=0)\n    qml.Hadamard(wires=1)\n    qml.Hadamard(wires=2)\n    qml.Hadamard(wires=3)\n\n    qml.CNOT(wires=[3, 2])\n    qml.CNOT(wires=[2, 1])\n    qml.CNOT(wires=[1, 0])\n\n    qml.RZ(theta, wires=0)\n\n    qml.CNOT(wires=[1, 0])\n    qml.CNOT(wires=[2, 1])\n    qml.CNOT(wires=[3, 2])\n\n    # invert change of basis\n    qml.RX(-np.pi / 2, wires=0)\n    qml.Hadamard(wires=1)\n    qml.Hadamard(wires=2)\n    qml.Hadamard(wires=3)"
      ]
    },
    {
      "cell_type": "markdown",
      "metadata": {},
      "source": [
        "Finally, we can run our example VQE algorithm, by using the `vqe_runner`\nfunction. It has many options that you can specify, such as the number\nof shots, the maximum number of iterations and the initial values of the\nparameters.\n"
      ]
    },
    {
      "cell_type": "code",
      "execution_count": null,
      "metadata": {
        "collapsed": false
      },
      "outputs": [],
      "source": [
        "try:\n    job = vqe_runner(\n        backend=\"ibmq_qasm_simulator\",\n        hamiltonian=H,\n        ansatz=four_qubit_ansatz,\n        x0=[0.0],\n        shots=8000,\n        optimizer=\"SPSA\",\n        optimizer_config={\"maxiter\": 30},\n        kwargs={\"hub\": \"ibm-q\", \"group\": \"open\", \"project\": \"main\"},\n    )\n    print(job.result())\n\nexcept Exception as e:\n    print(e)"
      ]
    },
    {
      "cell_type": "markdown",
      "metadata": {},
      "source": [
        "::: {.rst-class}\nsphx-glr-script-out\n\n``` {.none}\n{aux_operator_eigenvalues: None\n      cost_function_evals: 60\n               eigenstate: {'0011': 0.10781929326423913, '1100': 0.9941705085145103}\n               eigenvalue: (-1.1317596845378903+0j)\n       optimal_parameters: None\n            optimal_point: array([2.9219612])\n            optimal_value: -1.1317596845378903\n          optimizer_evals: None\n           optimizer_time: 16.73882269859314}\n```\n:::\n"
      ]
    },
    {
      "cell_type": "markdown",
      "metadata": {},
      "source": [
        "The results are saved in the `job` variable in SciPy optimization\nformat. You can also check the results produced by any IBM device by\nlogging in to your IBMQ account.\n"
      ]
    },
    {
      "cell_type": "markdown",
      "metadata": {},
      "source": [
        "Benchmarking\n============\n\nOne of the reasons why we even want to have access to these various\ndevices and backends is so that we can benchmark the capabilities of the\nalgorithms that we develop. Some simulators are particularly good with\ncertain types of circuits, whereas other simulators are more general and\nmay provide resources for simulating noise which mimics the kind of\nerrors that real quantum hardware produces. Switching between your\ndevices helps you learn more about your algorithm and can potentially\nprovide guidance on how to make it better. For example, we can compare\nthe performance of the default PennyLane simulator to the Qiskit\n`'aer_simulator'` by running the same VQE algorithm on both. The\ndifference between these two devices is that the `'aer_simulator'` uses\na finite number of shots to estimate the energy in each iteration,\nrather than performing an exact calculation using the information hidden\nin the vector representation of the quantum state.\n"
      ]
    },
    {
      "cell_type": "code",
      "execution_count": null,
      "metadata": {
        "collapsed": false
      },
      "outputs": [],
      "source": [
        "dev1 = qml.device(\"default.qubit\", wires=4)\nshots = 8000\ndev2 = qml.device(\"qiskit.aer\", wires=4, backend=\"aer_simulator\", shots=shots)\n\n\n@qml.qnode(dev1)\ndef cost_fn_1(theta):\n    four_qubit_ansatz(theta)\n    return qml.expval(H)\n\n\n@qml.qnode(dev2)\ndef cost_fn_2(theta):\n    four_qubit_ansatz(theta)\n    return qml.expval(H)\n\n# we can also use the qnode to draw the circuit\nimport matplotlib.pyplot as plt\nqml.draw_mpl(cost_fn_1, decimals=2)(theta=1.)\nplt.show()"
      ]
    },
    {
      "cell_type": "markdown",
      "metadata": {},
      "source": [
        "![](../demonstrations/ibm_pennylane/figure_1.png){.align-center\nwidth=\"80.0%\"}\n"
      ]
    },
    {
      "cell_type": "code",
      "execution_count": null,
      "metadata": {
        "collapsed": false
      },
      "outputs": [],
      "source": [
        "stepsize = 0.4\nmax_iterations = 40\nopt = qml.GradientDescentOptimizer(stepsize=stepsize)\ntheta_1 = np.array(0., requires_grad=True)\ntheta_2 = np.array(0., requires_grad=True)\nenergies_1 = []\nenergies_2 = []\nfor n in range(max_iterations):\n    theta_1, prev_energy_1 = opt.step_and_cost(cost_fn_1, theta_1)\n    theta_2, prev_energy_2 = opt.step_and_cost(cost_fn_2, theta_2)\n    print(prev_energy_1, prev_energy_2)\n    energies_1.append(prev_energy_1)\n    energies_2.append(prev_energy_2)"
      ]
    },
    {
      "cell_type": "markdown",
      "metadata": {},
      "source": [
        "::: {.rst-class}\nsphx-glr-script-out\n\n``` {.none}\n-1.1173489211359304 -1.1190829868933736\n-1.1279998277357466 -1.1288232086760344\n-1.1326490062948753 -1.1301129826377698\n-1.1346624646306156 -1.1359551977827906\n-1.135531456349987 -1.1361153521202156\n-1.1359059478903804 -1.1365135907218555\n-1.1360672311675288 -1.1378046643806679\n-1.1361366722397177 -1.135703178347981\n-1.1361665667682972 -1.1357895389865689\n-1.1361794357654167 -1.1369628601568447\n-1.1361849754890518 -1.1365783784951322\n-1.1361873601539711 -1.1367306582741445\n-1.1361883866679017 -1.1358320382653255\n-1.1361888285450743 -1.1357663570027223\n-1.1361890187570935 -1.135670418637738\n-1.1361891006364095 -1.1369084485357166\n-1.1361891358824536 -1.139272401360956\n-1.1361891510545838 -1.137130432389924\n-1.136189157585629 -1.1377776180459274\n-1.1361891603970047 -1.1358917536737867\n-1.1361891616071986 -1.1370070425290821\n-1.1361891621281424 -1.135792429417887\n-1.13618916235239 -1.1350561467266231\n-1.13618916244892 -1.1366759212135573\n-1.1361891624904732 -1.1351253597692734\n-1.13618916250836 -1.1362073324228987\n -1.13618916251606 -1.1366017151897079\n-1.136189162519374 -1.1362493563165617\n-1.136189162520801 -1.1378309783921152\n-1.1361891625214149 -1.1350975937163135\n-1.1361891625216796 -1.1372437534918245\n-1.136189162521793 -1.1361363466968788\n-1.1361891625218425 -1.136401712436813\n-1.1361891625218634 -1.1346185510801001\n-1.136189162521872 -1.1351658522378076\n-1.1361891625218763 -1.1350958264741222\n-1.1361891625218783 -1.135516284054897\n-1.136189162521879 -1.137538330500378\n -1.1361891625218792 -1.1359072863719688\n-1.1361891625218794 -1.1369053955536899\n```\n:::\n"
      ]
    },
    {
      "cell_type": "markdown",
      "metadata": {},
      "source": [
        "We can clearly see the difference between the two devices when we plot\nthe energies over each iteration:\n"
      ]
    },
    {
      "cell_type": "code",
      "execution_count": null,
      "metadata": {
        "collapsed": false
      },
      "outputs": [],
      "source": [
        "plt.plot(energies_1, color=\"r\", label=\"default.qubit\")\nplt.plot(energies_2, color=\"b\", label=\"qiskit.aer\")\n\n# min energy = min eigenvalue\nmin_energy = min(qml.eigvals(H))\nz = [min_energy] * max_iterations\n\nplt.plot(z, \"--\", color=\"k\", label=\"Exact answer\")\nplt.xlabel(\"VQE iterations\")\nplt.ylabel(\"Energy (Ha)\")\nplt.legend()\nplt.show()"
      ]
    },
    {
      "cell_type": "markdown",
      "metadata": {},
      "source": [
        "![](../demonstrations/ibm_pennylane/figure_2.png){.align-center\nwidth=\"80.0%\"}\n"
      ]
    },
    {
      "cell_type": "markdown",
      "metadata": {},
      "source": [
        "The device with the finite number of shots is unable to converge to the\nright answer because it is limited by the precision of the result in\neach iteration. This is an effect that will certainly appear in real\nquantum devices too, and it can be instructive to study this effect\nindependently of all the other limitations on real devices, such as\ndecoherence, limited topology and readout errors.\n\nThis tutorial has demonstrated how and why to use quantum computing\nhardware provided by IBM using PennyLane. To read more about the details\nand possibilities of the Qiskit plugin for PennyLane, [read the\ndocumentation](https://docs.pennylane.ai/projects/qiskit/en/latest/index.html)\n\nAbout the authors \\-\\-\\-\\-\\-\\-\\-\\-\\-\\-\\-\\-\\-\\-\\--.. include::\n../\\_static/authors/kaur\\_kristjuhan.txt .. include::\n../\\_static/authors/clara\\_ferreira\\_cores.txt .. include::\n../\\_static/authors/mark\\_nicholas\\_jones.txt\n"
      ]
    }
  ],
  "metadata": {
    "kernelspec": {
      "display_name": "Python 3",
      "language": "python",
      "name": "python3"
    },
    "language_info": {
      "codemirror_mode": {
        "name": "ipython",
        "version": 3
      },
      "file_extension": ".py",
      "mimetype": "text/x-python",
      "name": "python",
      "nbconvert_exporter": "python",
      "pygments_lexer": "ipython3",
      "version": "3.9.18"
    }
  },
  "nbformat": 4,
  "nbformat_minor": 0
}