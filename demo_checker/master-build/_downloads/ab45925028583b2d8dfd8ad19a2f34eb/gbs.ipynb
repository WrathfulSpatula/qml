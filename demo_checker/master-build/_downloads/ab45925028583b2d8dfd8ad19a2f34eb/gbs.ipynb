{
  "cells": [
    {
      "cell_type": "code",
      "execution_count": null,
      "metadata": {
        "collapsed": false
      },
      "outputs": [],
      "source": [
        "# This cell is added by sphinx-gallery\n# It can be customized to whatever you like\n%matplotlib inline"
      ]
    },
    {
      "cell_type": "markdown",
      "metadata": {},
      "source": [
        "Quantum advantage with Gaussian Boson Sampling\n==============================================\n\n::: {.meta}\n:property=\\\"og:description\\\": Using light to perform tasks beyond the\nreach of classical computers.\n\n:property=\\\"og:image\\\": <https://pennylane.ai/qml/_images/gbs_expt2.png>\n:::\n\n::: {.related}\ntutorial\\_gaussian\\_transformation Gaussian transformation\nqsim\\_beyond\\_classical Beyond classical computing with qsim qonn\nOptimizing a quantum optical neural network tutorial\\_photonics Photonic\nquantum computers\n:::\n\n*Authors: Josh Izaac and Nathan Killoran --- Posted: 04 December 2020.\nLast updated: 04 December 2020.*\n\n::: {.warning}\n::: {.title}\nWarning\n:::\n\nThis demo is only compatible with PennyLane version `0.29` or below.\n:::\n\nOn the journey to large-scale fault-tolerant quantum computers, one of\nthe first major milestones is to demonstrate a quantum device carrying\nout tasks that are beyond the reach of any classical algorithm. The\nlaunch of Xanadu\\'s Borealis device marked an important milestone within\nthe quantum computing community, wherein our very own quantum\ncomputational advantage experiment using quantum photonics was\ndemonstrated in our [Nature paper](https://xanadu.ai/qca-paper). Among\nother quantum advantage achievements are the Google Quantum team\\'s\nexperiment as can be seen in their paper [Quantum supremacy using a\nprogrammable superconducting\nprocessor](https://www.nature.com/articles/s41586-019-1666-5), and the\nexperiment from the team led by Chao-Yang Lu and Jian-Wei as can be seen\nin their paper [Quantum computational advantage using\nphotons](https://science.sciencemag.org/content/early/2020/12/02/science.abe8770?rss=1)\n.\n\nWhile Google\\'s experiment performed the task of\n`random circuit sampling </demos/qsim_beyond_classical>`{.interpreted-text\nrole=\"doc\"} using a superconducting processor, both Chao-Yang Lu and\nJian-Wei\\'s team and Xanadu leveraged the quantum properties of light to\ntackle a task called [Gaussian Boson\nSampling](https://strawberryfields.ai/photonics/concepts/gbs.html)\n(GBS).\n\nThis tutorial will walk you through the basic elements of GBS, motivate\nwhy it is classically challenging, and show you how to explore GBS using\nPennyLane and the photonic quantum devices accessible via the\n[PennyLane-Strawberry Fields\nplugin](https://pennylane-sf.readthedocs.io). If you are interested in\npossible applications of GBS, or want to access programmable GBS\nhardware via the cloud, check out the [Strawberry Fields\nwebsite](https://strawberryfields.ai/) for more details.\n\n| \n\n[![image](/demonstrations/gbs_expt2.png){.align-center\nwidth=\"80.0%\"}](javascript:void(0);)\n\n![*Illustration of the experimental setup used by Zhong et al. in\nQuantum computational advantage using\nphotons*.](/demonstrations/gbs_expt1.png){.align-center width=\"80.0%\"}\n\nThe origins of GBS\n------------------\n\nLet\\'s first explain the name.\n[Boson](https://en.wikipedia.org/wiki/Boson) refers to bosonic matter,\nwhich, along with fermions, makes up one of the two elementary classes\nof particles. The most prevalent bosonic system in our everyday lives is\nlight, which is made of particles called photons. Another famous\nexample, though much harder to find, is the Higgs boson. The\ndistinguishing characteristic of bosons is that they follow\n\\\"Bose-Einstein statistics\\\", which very loosely means that the\nparticles like to bunch together (contrast this to fermionic matter like\nelectrons, which must follow the Pauli Exclusion Principle and keep\napart).\n\nThis property can be observed in simple interference experiments such as\nthe [Hong-Ou Mandel\nsetup](https://en.wikipedia.org/wiki/Hong%E2%80%93Ou%E2%80%93Mandel_effect).\nIf two single photons are interfered on a balanced beamsplitter, they\nwill both emerge at the same output port---there is zero probability\nthat they will emerge at separate outputs. This is a simple but notable\nquantum property of light; if electrons were brought together in a\nsimilar experiement, they would always appear at separate output ports.\n\nGaussian Boson Sampling is, in fact, a member of a larger family of\n\\\"Boson Sampling\\\" algorithms, stemming back to the initial proposal of\nAaronson and Arkhipov in 2013. Boson Sampling is quantum interferometry\nwrit large. Aaronson and Arkhipov\\'s original proposal was to inject\nmany single photons into distinct input ports of a large interferometer,\nthen measure which output ports they appear at. The natural interference\nproperties of bosons means that photons will appear at the output ports\nin very unique and specific ways. Boson Sampling was not proposed with\nany kind of practical real-world use-case in mind. Like the random\ncircuit sampling, it\\'s just a quantum system being its best self. With\nsufficient size and quality, it is strongly believed to be hard for a\nclassical computer to simulate this efficiently.\n\nFinally, the \\\"Gaussian\\\" in GBS refers to the fact that we modify the\noriginal Boson Sampling proposal slightly: instead of injecting single\nphotons---which are hard to jointly create in the size and quality\nneeded to demonstrate Boson Sampling conclusively---we instead use\nstates of light that are experimentally less demanding (though still\nchallenging!). These states of light are called Gaussian states, because\nthey bear strong connections to the [Gaussian (or Normal)\ndistribution](https://en.wikipedia.org/wiki/Normal_distribution) from\nstatistics. In practice, we use a particular Gaussian state called a\n[squeezed state](https://en.wikipedia.org/wiki/Squeezed_states_of_light)\nfor the inputs, since these are arguably the most non-classical of\nGaussian states.\n\n::: {.note}\n::: {.title}\nNote\n:::\n\nWhile computationally hard to simulate, Boson Sampling devices, on their\nown, are not capable of universal quantum computing. However, in\ncombination with other components, GBS is a key building block for a\nuniversal device.\n:::\n\nCoding a GBS algorithm\n----------------------\n\nThe researchers in experimentally demonstrate a GBS device by preparing\n50 squeezed states and injecting them into a 100-mode interferometer. In\nthis demo, in order to keep things classically simulable, we will stick\nto a much simpler setting consisting of 4 squeezed states injected into\na 4-mode interferometer. At a high level, an interferometer on $N$ modes\ncan be represented using an $N\\times N$ unitary matrix $U$. When\ndecomposed into a quantum optical circuit, the interferometer will be\nmade up of beamsplitters and phase shifters.\n\n[![image](/demonstrations/gbs_circuit2.png){.align-center\nwidth=\"90.0%\"}](javascript:void(0);)\n\n```{=html}\n<br>\n```\nSimulating this circuit using PennyLane is easy; we can simply read off\nthe gates from left to right, and convert it into a QNode.\n"
      ]
    },
    {
      "cell_type": "code",
      "execution_count": null,
      "metadata": {
        "collapsed": false
      },
      "outputs": [],
      "source": [
        "import numpy as np\n\n# set the random seed\nnp.random.seed(42)\n\n# import PennyLane\nimport pennylane as qml"
      ]
    },
    {
      "cell_type": "markdown",
      "metadata": {},
      "source": [
        "We must define the unitary matrix we would like to embed in the circuit.\nWe will use SciPy to generate a Haar-random unitary:\n"
      ]
    },
    {
      "cell_type": "code",
      "execution_count": null,
      "metadata": {
        "collapsed": false
      },
      "outputs": [],
      "source": [
        "from scipy.stats import unitary_group\n\n# define the linear interferometer\nU = unitary_group.rvs(4)\nprint(U)"
      ]
    },
    {
      "cell_type": "markdown",
      "metadata": {},
      "source": [
        "::: {.rst-class}\nsphx-glr-script-out\n\nOut:\n\n``` {.none}\n[[ 0.23648826-0.48221431j  0.06829648+0.04447898j  0.51150074-0.09529866j\n  0.55205719-0.35974699j]\n [-0.11148167+0.69780321j -0.24943828+0.08410701j  0.46705929-0.43192981j\n   0.16220654-0.01817602j]\n[-0.22351926-0.25918352j  0.24364996-0.05375623j -0.09259829-0.53810588j\n   0.27267708+0.66941977j]\n  [ 0.11519953-0.28596729j -0.90164923-0.22099186j -0.09627758-0.13105595j\n  -0.0200152 +0.12766128j]]\n```\n:::\n\nWe can now use this to construct the circuit, choosing a compatible\ndevice. For the simulation, we can use the Strawberry Fields Gaussian\nbackend. This backend is perfectly suited for simulation of GBS, as the\ninitial states are Gaussian, and all gates transform Gaussian states to\nother Gaussian states.\n"
      ]
    },
    {
      "cell_type": "code",
      "execution_count": null,
      "metadata": {
        "collapsed": false
      },
      "outputs": [],
      "source": [
        "n_wires = 4\ncutoff = 10\n\ndev = qml.device(\"strawberryfields.gaussian\", wires=n_wires, cutoff_dim=cutoff)\n\n\n@qml.qnode(dev)\ndef gbs_circuit():\n    # prepare the input squeezed states\n    for i in range(n_wires):\n        qml.Squeezing(1.0, 0.0, wires=i)\n\n    # linear interferometer\n    qml.InterferometerUnitary(U, wires=range(n_wires))\n    return qml.probs(wires=range(n_wires))"
      ]
    },
    {
      "cell_type": "markdown",
      "metadata": {},
      "source": [
        "A couple of things to note in this particular example:\n\n1.  To prepare the input single mode squeezed vacuum state\n    $|re^{i\\phi}\\rangle$, where $r = 1$ and $\\phi=0$, we apply a\n    squeezing gate (`~pennylane.Squeezing`{.interpreted-text\n    role=\"class\"}) to each of the wires (initially in the vacuum state).\n2.  Next we apply the linear interferometer to all four wires using\n    `~pennylane.Interferometer`{.interpreted-text role=\"class\"} and the\n    unitary matrix `U`. This operator decomposes the unitary matrix\n    representing the linear interferometer into single-mode rotation\n    gates (`~pennylane.PhaseShift`{.interpreted-text role=\"class\"}) and\n    two-mode beamsplitters (`~pennylane.Beamsplitter`{.interpreted-text\n    role=\"class\"}). After applying the interferometer, we will denote\n    the output state by $|\\psi'\\rangle$.\n3.  GBS takes place physically in an infinite-dimensional Hilbert space,\n    which is not practical for simulation. We need to set an upper limit\n    on the maximum number of photons we can detect. This is the `cutoff`\n    value we defined above; we will only be considering detection events\n    containing 0 to 9 photons per mode.\n\nWe can now execute the QNode, and extract the resulting probability\ndistribution:\n"
      ]
    },
    {
      "cell_type": "code",
      "execution_count": null,
      "metadata": {
        "collapsed": false
      },
      "outputs": [],
      "source": [
        "probs = gbs_circuit().reshape([cutoff] * n_wires)\nprint(probs.shape)"
      ]
    },
    {
      "cell_type": "markdown",
      "metadata": {},
      "source": [
        "::: {.rst-class}\nsphx-glr-script-out\n\nOut:\n\n``` {.none}\n(10, 10, 10, 10)\n```\n:::\n\n\\#\\#\\#\\#\\#\\#\\#\\#\\#\\#\\#\\#\\#\\#\\#\\#\\#\\#\\#\\#\\#\\#\\#\\#\\#\\#\\#\\#\\#\\#\\#\\#\\#\\#\\#\\#\\#\\#\\#\\#\\#\\#\\#\\#\\#\\#\\#\\#\\#\\#\\#\\#\\#\\#\\#\\#\\#\\#\\#\\#\\#\\#\\#\\#\\#\\#\\#\\#\\#\n\n:   For example, element `[1,2,0,1]` represents the probability of\n    detecting 1 photon on wire `0` and wire `3`, and 2 photons at wire\n    `1`, i.e., the value\n\n    $$\\text{prob}(1,2,0,1) = \\left|\\langle{1,2,0,1} \\mid \\psi'\\rangle \\right|^2.$$\n\n    Let\\'s extract and view the probabilities of measuring various Fock\n    states.\n"
      ]
    },
    {
      "cell_type": "code",
      "execution_count": null,
      "metadata": {
        "collapsed": false
      },
      "outputs": [],
      "source": [
        "# Fock states to measure at output\nmeasure_states = [(0, 0, 0, 0), (1, 1, 0, 0), (0, 1, 0, 1), (1, 1, 1, 1), (2, 0, 0, 0)]\n\n# extract the probabilities of calculating several\n# different Fock states at the output, and print them out\nfor i in measure_states:\n    print(f\"|{''.join(str(j) for j in i)}>: {probs[i]}\")"
      ]
    },
    {
      "cell_type": "markdown",
      "metadata": {},
      "source": [
        "::: {.rst-class}\nsphx-glr-script-out\n\nOut:\n\n``` {.none}\n|0000>: 0.17637844761413496\n|1100>: 0.03473293649420282\n|0101>: 0.011870900427255589\n|1111>: 0.005957399165336106\n|2000>: 0.02957384308320549\n```\n:::\n\n\\#\\#\\#\\#\\#\\#\\#\\#\\#\\#\\#\\#\\#\\#\\#\\#\\#\\#\\#\\#\\#\\#\\#\\#\\#\\#\\#\\#\\#\\#\\#\\#\\#\\#\\#\\#\\#\\#\\#\\#\\#\\#\\#\\#\\#\\#\\#\\#\\#\\#\\#\\#\\#\\#\\#\\#\\#\\#\\#\\#\\#\\#\\#\\#\\#\\#\\#\\#\\#\n\n:   The GBS Distribution\n    ====================\n\n    Hamilton et al. showed that the probability of measuring a final\n    state containing only 0 or 1 photons per mode is given by\n\n    $$\\left|\\langle{n_1,n_2,\\dots,n_N}\\middle|{\\psi'}\\rangle\\right|^2 =\n    \\frac{\\left|\\text{Haf}[(U(\\bigoplus_i\\mathrm{tanh}(r_i))U^T)]_{st}\\right|^2}{\\prod_{i=1}^N \\cosh(r_i)}$$\n\n    i.e., the sampled single-photon probability distribution is\n    proportional to the **hafnian** of a submatrix of\n    $U(\\bigoplus_i\\mathrm{tanh}(r_i))U^T$.\n\n    ::: {.note}\n    ::: {.title}\n    Note\n    :::\n\n    The hafnian of a matrix is defined by\n\n    $$\\text{Haf}(A) = \\sum_{\\sigma \\in \\text{PMP}_{2N}}\\prod_{i=1}^N A_{\\sigma(2i-1)\\sigma(2i)},$$\n\n    where $\\text{PMP}_{2N}$ is the set of all perfect matching\n    permutations of $2N$ elements. In graph theory, the hafnian\n    calculates the number of perfect\n    [matchings](https://en.wikipedia.org/wiki/Matching_(graph_theory))\n    in a graph with adjacency matrix $A$.\n\n    Compare this to the permanent, which calculates the number of\n    perfect matchings on a *bipartite* graph. Notably, the permanent\n    appears in vanilla Boson Sampling in a similar way that the hafnian\n    appears in GBS. The hafnian turns out to be a generalization of the\n    permanent, with the relationship\n\n    $$\\begin{aligned}\n    \\text{Per(A)} = \\text{Haf}\\left(\\left[\\begin{matrix}\n        0&A\\\\ A^T&0\n    \\end{matrix}\\right]\\right).\n    \\end{aligned}$$\n    :::\n\n    As any algorithm that could calculate (or even approximate) the\n    hafnian could also calculate the permanent---a [\\#P-hard\n    problem](https://en.wikipedia.org/wiki/%E2%99%AFP)\\-\\--it follows\n    that calculating or approximating the hafnian must also be a\n    classically hard problem. This lies behind the classical hardness of\n    GBS.\n\n    In this demo, we will use the same squeezing parameter, $z=r$, for\n    all input states; this allows us to simplify this equation. To start\n    with, the hafnian expression simply becomes\n    $\\text{Haf}[(UU^T\\mathrm{tanh}(r))]_{st}$, removing the need for the\n    direct sum.\n\n    Thus, we have\n\n    $$\\left|\\left\\langle{n_1,n_2,\\dots,n_N}\\middle|{\\psi'}\\right\\rangle\\right|^2 =\n    \\frac{\\left|\\text{Haf}[(UU^T\\tanh(r))]_{st}\\right|^2}{n_1!n_2!\\cdots n_N!\\cosh^N(r)}.$$\n\n    Now that we have the theoretical formulas, as well as the\n    probabilities from our simulated GBS QNode, we can compare the two\n    and see whether they agree.\n\n    In order to calculate the probability of different GBS events\n    classically, we need a method for calculating the hafnian. For this,\n    we will use [The Walrus](https://the-walrus.readthedocs.io) library\n    (which is installed as a dependency of the PennyLane-SF plugin):\n"
      ]
    },
    {
      "cell_type": "code",
      "execution_count": null,
      "metadata": {
        "collapsed": false
      },
      "outputs": [],
      "source": [
        "from thewalrus import hafnian as haf"
      ]
    },
    {
      "cell_type": "markdown",
      "metadata": {},
      "source": [
        "Now, for the right-hand side numerator, we first calculate the submatrix\n$A = [(UU^T\\mathrm{tanh}(r))]_{st}$:\n"
      ]
    },
    {
      "cell_type": "code",
      "execution_count": null,
      "metadata": {
        "collapsed": false
      },
      "outputs": [],
      "source": [
        "A = np.dot(U, U.T) * np.tanh(1)"
      ]
    },
    {
      "cell_type": "markdown",
      "metadata": {},
      "source": [
        "In GBS, we determine the submatrix by taking the rows and columns\ncorresponding to the measured Fock state. For example, to calculate the\nsubmatrix in the case of the output measurement\n$\\left|{1,1,0,0}\\right\\rangle$, we have\n"
      ]
    },
    {
      "cell_type": "code",
      "execution_count": null,
      "metadata": {
        "collapsed": false
      },
      "outputs": [],
      "source": [
        "print(A[:, [0, 1]][[0, 1]])"
      ]
    },
    {
      "cell_type": "markdown",
      "metadata": {},
      "source": [
        "::: {.rst-class}\nsphx-glr-script-out\n\nOut:\n\n``` {.none}\n[[ 0.19343159-0.54582922j  0.43418269-0.09169615j]\n [ 0.43418269-0.09169615j -0.27554025-0.46222197j]]\n```\n:::\n\n\\#\\#\\#\\#\\#\\#\\#\\#\\#\\#\\#\\#\\#\\#\\#\\#\\#\\#\\#\\#\\#\\#\\#\\#\\#\\#\\#\\#\\#\\#\\#\\#\\#\\#\\#\\#\\#\\#\\#\\#\\#\\#\\#\\#\\#\\#\\#\\#\\#\\#\\#\\#\\#\\#\\#\\#\\#\\#\\#\\#\\#\\#\\#\\#\\#\\#\\#\\#\\#\n\n:   i.e., we consider only the rows and columns where a photon was\n    detected, which gives us the submatrix corresponding to indices $0$\n    and $1$.\n"
      ]
    },
    {
      "cell_type": "markdown",
      "metadata": {},
      "source": [
        "Comparing to simulation\n=======================\n\nNow that we have a method for calculating the hafnian, let\\'s compare\nthe output to that provided by the PennyLane QNode.\n\n**Measuring** $|0,0,0,0\\rangle$ **at the output**\n\nThis corresponds to the hafnian of an *empty* matrix, which is simply 1:\n"
      ]
    },
    {
      "cell_type": "code",
      "execution_count": null,
      "metadata": {
        "collapsed": false
      },
      "outputs": [],
      "source": [
        "print(1 / np.cosh(1) ** 4)\nprint(probs[0, 0, 0, 0])"
      ]
    },
    {
      "cell_type": "markdown",
      "metadata": {},
      "source": [
        "::: {.rst-class}\nsphx-glr-script-out\n\nOut:\n\n``` {.none}\n0.1763784476141347\n0.17637844761413496\n```\n:::\n\n\\#\\#\\#\\#\\#\\#\\#\\#\\#\\#\\#\\#\\#\\#\\#\\#\\#\\#\\#\\#\\#\\#\\#\\#\\#\\#\\#\\#\\#\\#\\#\\#\\#\\#\\#\\#\\#\\#\\#\\#\\#\\#\\#\\#\\#\\#\\#\\#\\#\\#\\#\\#\\#\\#\\#\\#\\#\\#\\#\\#\\#\\#\\#\\#\\#\\#\\#\\#\\#\n\n:   **Measuring** $|1,1,0,0\\rangle$ **at the output**\n"
      ]
    },
    {
      "cell_type": "code",
      "execution_count": null,
      "metadata": {
        "collapsed": false
      },
      "outputs": [],
      "source": [
        "A = (np.dot(U, U.T) * np.tanh(1))[:, [0, 1]][[0, 1]]\nprint(np.abs(haf(A)) ** 2 / np.cosh(1) ** 4)\nprint(probs[1, 1, 0, 0])"
      ]
    },
    {
      "cell_type": "markdown",
      "metadata": {},
      "source": [
        "::: {.rst-class}\nsphx-glr-script-out\n\nOut:\n\n``` {.none}\n0.03473293649420271\n0.03473293649420282\n```\n:::\n\n\\#\\#\\#\\#\\#\\#\\#\\#\\#\\#\\#\\#\\#\\#\\#\\#\\#\\#\\#\\#\\#\\#\\#\\#\\#\\#\\#\\#\\#\\#\\#\\#\\#\\#\\#\\#\\#\\#\\#\\#\\#\\#\\#\\#\\#\\#\\#\\#\\#\\#\\#\\#\\#\\#\\#\\#\\#\\#\\#\\#\\#\\#\\#\\#\\#\\#\\#\\#\\#\n\n:   **Measuring** $|0,1,0,1\\rangle$ **at the output**\n"
      ]
    },
    {
      "cell_type": "code",
      "execution_count": null,
      "metadata": {
        "collapsed": false
      },
      "outputs": [],
      "source": [
        "A = (np.dot(U, U.T) * np.tanh(1))[:, [1, 3]][[1, 3]]\nprint(np.abs(haf(A)) ** 2 / np.cosh(1) ** 4)\nprint(probs[0, 1, 0, 1])"
      ]
    },
    {
      "cell_type": "markdown",
      "metadata": {},
      "source": [
        "::: {.rst-class}\nsphx-glr-script-out\n\nOut:\n\n``` {.none}\n0.011870900427255558\n0.011870900427255589\n```\n:::\n\n\\#\\#\\#\\#\\#\\#\\#\\#\\#\\#\\#\\#\\#\\#\\#\\#\\#\\#\\#\\#\\#\\#\\#\\#\\#\\#\\#\\#\\#\\#\\#\\#\\#\\#\\#\\#\\#\\#\\#\\#\\#\\#\\#\\#\\#\\#\\#\\#\\#\\#\\#\\#\\#\\#\\#\\#\\#\\#\\#\\#\\#\\#\\#\\#\\#\\#\\#\\#\\#\n\n:   **Measuring** $|1,1,1,1\\rangle$ **at the output**\n\n    This corresponds to the hafnian of the full matrix\n    $A=UU^T\\mathrm{tanh}(r)$:\n"
      ]
    },
    {
      "cell_type": "code",
      "execution_count": null,
      "metadata": {
        "collapsed": false
      },
      "outputs": [],
      "source": [
        "A = np.dot(U, U.T) * np.tanh(1)\nprint(np.abs(haf(A)) ** 2 / np.cosh(1) ** 4)\nprint(probs[1, 1, 1, 1])"
      ]
    },
    {
      "cell_type": "markdown",
      "metadata": {},
      "source": [
        "::: {.rst-class}\nsphx-glr-script-out\n\nOut:\n\n``` {.none}\n0.005957399165336081\n0.005957399165336106\n```\n:::\n\n\\#\\#\\#\\#\\#\\#\\#\\#\\#\\#\\#\\#\\#\\#\\#\\#\\#\\#\\#\\#\\#\\#\\#\\#\\#\\#\\#\\#\\#\\#\\#\\#\\#\\#\\#\\#\\#\\#\\#\\#\\#\\#\\#\\#\\#\\#\\#\\#\\#\\#\\#\\#\\#\\#\\#\\#\\#\\#\\#\\#\\#\\#\\#\\#\\#\\#\\#\\#\\#\n\n:   **Measuring** $|2,0,0,0\\rangle$ **at the output**\n\n    Since we have two photons in mode `q[0]`, we take two copies of the\n    first row and first column, making sure to divide by $2!$:\n"
      ]
    },
    {
      "cell_type": "code",
      "execution_count": null,
      "metadata": {
        "collapsed": false
      },
      "outputs": [],
      "source": [
        "A = (np.dot(U, U.T) * np.tanh(1))[:, [0, 0]][[0, 0]]\nprint(np.abs(haf(A)) ** 2 / (2 * np.cosh(1) ** 4))\nprint(probs[2, 0, 0, 0])"
      ]
    },
    {
      "cell_type": "markdown",
      "metadata": {},
      "source": [
        "::: {.rst-class}\nsphx-glr-script-out\n\nOut:\n\n``` {.none}\n0.029573843083205383\n0.02957384308320549\n```\n:::\n\nThe PennyLane simulation results agree (with almost negligible numerical\nerror) to the expected result from the Gaussian boson sampling equation!\n\nThis demo provides an entry-level walkthrough to the ideas behind GBS,\nproviding you with the basic code needed for exploring the ideas behind\nthe photonic quantum advantage paper. Try changing the number of modes,\nthe number of injected squeezed states, or the cutoff dimension, and see\nhow each of these affect the classical computation time. If you\\'re\ninterested in learning more about GBS, or about photonic quantum\ncomputing in general, the [Strawberry Fields\nwebsite](https://strawberryfields.ai/) is a great resource.\n\nReferences\n==========\n\nAbout the authors\n=================\n"
      ]
    }
  ],
  "metadata": {
    "kernelspec": {
      "display_name": "Python 3",
      "language": "python",
      "name": "python3"
    },
    "language_info": {
      "codemirror_mode": {
        "name": "ipython",
        "version": 3
      },
      "file_extension": ".py",
      "mimetype": "text/x-python",
      "name": "python",
      "nbconvert_exporter": "python",
      "pygments_lexer": "ipython3",
      "version": "3.9.17"
    }
  },
  "nbformat": 4,
  "nbformat_minor": 0
}