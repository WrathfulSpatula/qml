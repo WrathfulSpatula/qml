{
  "cells": [
    {
      "cell_type": "code",
      "execution_count": null,
      "metadata": {
        "collapsed": false
      },
      "outputs": [],
      "source": [
        "# This cell is added by sphinx-gallery\n# It can be customized to whatever you like\n%matplotlib inline"
      ]
    },
    {
      "cell_type": "markdown",
      "metadata": {},
      "source": [
        "Building a quantum lock using phase kickback\n============================================\n\n::: {.meta}\n:property=\\\"og:description\\\": Use phase kickback to create an\nunbreakable quantum lock :property=\\\"og:image\\\":\n<https://pennylane.ai/qml/_images/thumbnail_tutorial_phase_kickback.png>\n:::\n\n::: {.related}\ntutorial\\_qubit\\_rotation Basic tutorial: qubit rotation\n:::\n\nGreetings, quantum adventurers! In this exciting tutorial, we'll be\nexploring the concept of quantum phase kickback, used in many quantum\nalgorithms such as the Deutsch--Jozsa algorithm, and quantum phase\nestimation. Here, we\\'ll be utilizing it to create a \"quantum lock\". Are\nyou ready to dive into the quantum world and learn how to create an\nunbreakable lock? Let's go!\n"
      ]
    },
    {
      "cell_type": "markdown",
      "metadata": {},
      "source": [
        "Introduction to phase kickback\n==============================\n\nPhase kickback is a powerful quantum phenomenon that uses entanglement\nproperties to allow for the transfer of phase information from a target\nregister to a control qubit. It plays a vital role in the design of many\nquantum algorithms.\n\nIn a phase kickback circuit, an ancilla qubit is prepared in a\nsuperposition state using a Hadamard gate and it acts as a control qubit\nfor a controlled unitary gate applied to the target register. When the\ntarget register is in an eigenstate of the unitary gate, the\ncorresponding eigenvalue's phase is \"kicked back\" to the control qubit.\nA subsequent Hadamard gate on the ancilla qubit enables the extraction\nof the phase information through measurement.\n"
      ]
    },
    {
      "cell_type": "markdown",
      "metadata": {},
      "source": [
        "![](../demonstrations/phase_kickback/Phase_Kickback.png){.align-center\nwidth=\"50.0%\"}\n\nIf you want to know more about the details, do not hesitate to consult\nthe node [\\[P.1\\]](https://codebook.xanadu.ai/P.1) of the Xanadu Quantum\nCodebook.\n"
      ]
    },
    {
      "cell_type": "markdown",
      "metadata": {},
      "source": [
        "Setting up PennyLane\n====================\n\nFirst, let's import the necessary PennyLane libraries and create a\ndevice to run our quantum circuits. Here we will work with 5 qubits, we\nwill use qubit \\[0\\] as the control ancilla qubit, and qubits\n\\[1,2,3,4\\] will be our target qubits where we will encode\n$|\\psi\\rangle$.\n"
      ]
    },
    {
      "cell_type": "code",
      "execution_count": null,
      "metadata": {
        "collapsed": false
      },
      "outputs": [],
      "source": [
        "import pennylane as qml\nfrom pennylane import numpy as np\n\nnum_wires = 5\ndev = qml.device(\"default.qubit\", wires=num_wires, shots=1)"
      ]
    },
    {
      "cell_type": "markdown",
      "metadata": {},
      "source": [
        "Building the quantum lock\n=========================\n\nNow let's create the most formidable lock in the universe: the \"quantum\nlock\"! Here our lock is represented by a unitary $U$, which has all but\none eigenvalue equal to 1. Our one \"key\" eigenstate has eigenvalue -1:\n\n$$U|\\text{key}\\rangle = -|\\text{key}\\rangle$$\n\nBut how can we differentiate the \\\"key\\\" eigenstate from the other\neigenstate when the information is contained in the phase? That\\'s where\nphase kickback comes in! When the correct eigenstate is input, the -1\nphase imparted by $U$ is kicked back to the ancilla, effectively\nchanging its state from $|+\\rangle$ to $|-\\rangle$. Then the outcome of\nthe measurement on the control qubit tells us whether the correct\neigenstate was inputted or not. In this case, $|1\\rangle = H|-\\rangle$\nrepresents unlocking the lock, and $|0\\rangle = H|+\\rangle$ represents\nfailure. To make things simple, here we'll work with a lock-in\ncomputational basis. In this setting, the key corresponds to a binary\nencoded integer $m$ , which will be our key eigenstate:\n\n$$\\begin{aligned}\nU|n\\rangle =\n\\begin{cases}\n  -|n\\rangle, & \\text{if } n=m \\\\\n  |n\\rangle, & \\text{if } n\\neq m\n\\end{cases}\n\\end{aligned}$$\n\nWe'll make use of `~.pennylane.FlipSign`{.interpreted-text role=\"class\"}\nto build our lock:\n"
      ]
    },
    {
      "cell_type": "code",
      "execution_count": null,
      "metadata": {
        "collapsed": false
      },
      "outputs": [],
      "source": [
        "def quantum_lock(secret_key):\n    return qml.FlipSign(secret_key, wires=list(range(1, num_wires)))"
      ]
    },
    {
      "cell_type": "markdown",
      "metadata": {},
      "source": [
        "Next, we need to prepare the corresponding eigenstate for a key we want\nto try out. Remember, the lock is only unlocked by the \\\"key\\\"\neigenstate with eigenvalue -1. We'll make use of\n`~.pennylane.BasisState`{.interpreted-text role=\"class\"} to build the\nkey:\n"
      ]
    },
    {
      "cell_type": "code",
      "execution_count": null,
      "metadata": {
        "collapsed": false
      },
      "outputs": [],
      "source": [
        "def build_key(key):\n    return qml.BasisState(key, wires=list(range(1, num_wires)))"
      ]
    },
    {
      "cell_type": "markdown",
      "metadata": {},
      "source": [
        "Now we'll put it all together to build our quantum locking mechanism:\n"
      ]
    },
    {
      "cell_type": "code",
      "execution_count": null,
      "metadata": {
        "collapsed": false
      },
      "outputs": [],
      "source": [
        "@qml.qnode(dev)\ndef quantum_locking_mechanism(lock, key):\n    build_key(key)\n    qml.Hadamard(wires=0)  # Hadamard on ancilla qubit\n    qml.ctrl(lock, control=0)  # Controlled unitary operation\n    qml.Hadamard(wires=0)  # Hadamard again on ancilla qubit\n    return qml.sample(wires=0)\n\n\ndef check_key(lock, key):\n    if quantum_locking_mechanism(lock, key) == 1:\n        print(\"Great job, you have uncovered the mysteries of the quantum universe!\")\n    else:\n        print(\"Nice try, but that's not the right key!\")"
      ]
    },
    {
      "cell_type": "markdown",
      "metadata": {},
      "source": [
        "Opening the Quantum Lock\n========================\n\nTo open the quantum lock, we'll need the correct input state or \"quantum\nkey\". Let's see how the quantum system evolves when we input the right\nkey.\n\nWe first apply a Hadamard to our control qubit:\n\n$$\\frac{|0\\rangle|\\text{key}\\rangle + |1\\rangle|\\text{key}\\rangle}{\\sqrt{2}}$$\n\nBy applying the controlled unitary operation we get:\n\n$$\\frac{|0\\rangle|\\text{key}\\rangle - |1\\rangle|\\text{key}\\rangle}{\\sqrt{2}} = |-\\rangle|\\text{key}\\rangle$$\n\nFinally, we apply a Hadamard to our control qubit again to get:\n\n$$|1\\rangle|\\text{key}\\rangle$$\n\nAnd just like that, we've uncovered the quantum secrets hidden by the\nlock. Let's now crack open our quantum lock in code!\n"
      ]
    },
    {
      "cell_type": "code",
      "execution_count": null,
      "metadata": {
        "collapsed": false
      },
      "outputs": [],
      "source": [
        "secret_key = np.array([0, 1, 1, 1])\nlock = quantum_lock(secret_key)\n\ncheck_key(lock, secret_key)"
      ]
    },
    {
      "cell_type": "markdown",
      "metadata": {},
      "source": [
        "What happens with an incorrect quantum key?\n===========================================\n\nNow, we'll try using the wrong key and see if we can still unlock the\nquantum lock. Will we be able to break through its quantum defenses?\nLet's see how the quantum system evolves when we input the wrong key.\n\nWe first apply a Hadamard to our control qubit:\n\n$$\\frac{|0\\rangle|\\text{incorrect key}\\rangle + |1\\rangle|\\text{incorrect key}\\rangle}{\\sqrt{2}}$$\n\nApplying the controlled unitary operation, in this case, acts as the\nidentity gate, hence we get:\n\n$$\\frac{|0\\rangle|\\text{incorrect key}\\rangle + |1\\rangle|\\text{incorrect key}\\rangle}{\\sqrt{2}} = |+\\rangle|\\text{incorrect key}\\rangle$$\n\nFinally, we apply a Hadamard to our control qubit again to get:\n\n$$|0\\rangle|\\text{incorrect key}\\rangle$$\n\nAs you can see, we were unable to fool the almighty lock. Don't believe\nme? See for yourself!\n"
      ]
    },
    {
      "cell_type": "code",
      "execution_count": null,
      "metadata": {
        "collapsed": false
      },
      "outputs": [],
      "source": [
        "incorrect_key = np.array([1, 1, 1, 1])\n\ncheck_key(lock, incorrect_key)"
      ]
    },
    {
      "cell_type": "markdown",
      "metadata": {},
      "source": [
        "Conclusion\n==========\n\nCongratulations! \ud83c\udf89 You've successfully explored the remarkable\nphenomenon of phase kickback and created an unbreakable \"quantum lock\".\nNow you can impress your friends with your newfound quantum knowledge\nand your incredible quantum lock-picking skills!\n\nAbout the author\n================\n"
      ]
    }
  ],
  "metadata": {
    "kernelspec": {
      "display_name": "Python 3",
      "language": "python",
      "name": "python3"
    },
    "language_info": {
      "codemirror_mode": {
        "name": "ipython",
        "version": 3
      },
      "file_extension": ".py",
      "mimetype": "text/x-python",
      "name": "python",
      "nbconvert_exporter": "python",
      "pygments_lexer": "ipython3",
      "version": "3.9.18"
    }
  },
  "nbformat": 4,
  "nbformat_minor": 0
}