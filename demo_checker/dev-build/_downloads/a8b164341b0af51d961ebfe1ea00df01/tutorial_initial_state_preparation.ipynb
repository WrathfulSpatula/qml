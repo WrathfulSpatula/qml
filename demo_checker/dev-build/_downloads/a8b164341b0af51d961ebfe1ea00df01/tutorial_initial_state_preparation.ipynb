{
  "cells": [
    {
      "cell_type": "code",
      "execution_count": null,
      "metadata": {
        "collapsed": false
      },
      "outputs": [],
      "source": [
        "# This cell is added by sphinx-gallery\n# It can be customized to whatever you like\n%matplotlib inline"
      ]
    },
    {
      "cell_type": "markdown",
      "metadata": {},
      "source": [
        "Initial state preparation for quantum chemistry\n===============================================\n\nA high-quality initial state can significantly reduce the runtime of\nmany quantum algorithms. From the variational quantum eigensolver (VQE)\nto quantum phase estimation (QPE) and even the recent\n[intermediate-scale quantum\n(ISQ)](https://pennylane.ai/blog/2023/06/from-nisq-to-isq/) algorithms,\nobtaining the ground state of a chemical system requires a good initial\nstate. For instance, in the case of VQE, a good initial state directly\ntranslates into fewer optimization steps. In QPE, the probability of\nmeasuring the ground-state energy is directly proportional to the\noverlap squared of the initial and ground states. Even beyond quantum\nchemistry, good initial guesses are important for algorithms like\nquantum approximate optimization (QAOA) and Grover search.\n\nMuch like searching for a needle in a haystack, there are a lot of\nthings you might try to prepare a good guess for the ground state in the\nhigh-dimensional Hilbert space. In this tutorial, we show how to use\ntraditional computational chemistry techniques to get a good initial\nstate. Such an initial state will not be exactly the ground state, but\nit will certainly be better than the standard guess of a computational\nbasis state $\\ket{0}^{\\otimes N}$ or the Hartree-Fock state.\n\n![](../demonstrations/initial_state_preparation/qchem_input_states.png){.align-center\nwidth=\"65.0%\"}\n\nImporting initial states\n------------------------\n\nWe can import initial states obtained from several post-Hartree-Fock\nquantum chemistry methods to PennyLane. These methods are incredibly\ndiverse in terms of their outputs, not always returning an object that\nis easy to turn into a PennyLane state vector.\n\nWe have already done this hard conversion work: all that you need to do\nis run these methods and pass their outputs to PennyLane\\'s\n`~.pennylane.qchem.import_state`{.interpreted-text role=\"func\"}\nfunction. The currently supported methods are configuration interaction\nwith singles and doubles (CISD), coupled cluster (CCSD), density-matrix\nrenormalization group (DMRG) and semistochastic heat-bath configuration\ninteraction (SHCI).\n\nWe now show how this works on the linear $\\text{H}_3^+$ molecule as an\nexample.\n\n### CISD states\n\nThe first line of attack for initial state preparation is often a CISD\ncalculation, performed with the [PySCF](https://github.com/pyscf/pyscf)\nlibrary. CISD is unsophisticated, but it is fast. It will not be of much\nhelp for strongly correlated molecules, but it is better than\nHartree-Fock. Here is the code example using the restricted Hartree-Fock\norbitals (`~.pennylane.qchem.import_state`{.interpreted-text\nrole=\"func\"} works for unrestricted orbitals, too).\n"
      ]
    },
    {
      "cell_type": "code",
      "execution_count": null,
      "metadata": {
        "collapsed": false
      },
      "outputs": [],
      "source": [
        "from pyscf import gto, scf, ci\nfrom pennylane.qchem import import_state\nfrom pennylane import numpy as np\n\nR = 1.2\n# create the H3+ molecule\nmol = gto.M(atom=[[\"H\", (0, 0, 0)],\n                  [\"H\", (0, 0, R)],\n                  [\"H\", (0, 0, 2 * R)]], charge=1)\n# perfrom restricted Hartree-Fock and then CISD\nmyhf = scf.RHF(mol).run()\nmyci = ci.CISD(myhf).run()\nwf_cisd = import_state(myci, tol=1e-1)\nprint(f\"CISD-based state vector: \\n{np.round(wf_cisd.real, 4)}\")"
      ]
    },
    {
      "cell_type": "markdown",
      "metadata": {},
      "source": [
        "The final object, PennyLane\\'s state vector `wf_cisd`, is ready to be\nused as an initial state in a quantum circuit in PennyLane\\--we will\nshowcase this below for VQE.\n\nConversion for CISD to a state vector is straightforward: simply assign\nthe PySCF-stored CI coefficients to appropriate entries in the state\nvector based on the determinant they correspond to. The second attribute\npassed to `import_state()`, `tol`, specifies the cutoff beyond which\ncontributions to the wavefunctions are neglected. Internally,\nwavefunctions are stored in their Slater determinant representation. If\ntheir prefactor coefficient is below `tol`, those determinants are\ndropped from the expression.\n"
      ]
    },
    {
      "cell_type": "markdown",
      "metadata": {},
      "source": [
        "CCSD states\n===========\n\nThe function `~.pennylane.qchem.import_state`{.interpreted-text\nrole=\"func\"} is general and works similarly for CCSD. It can\nautomatically detect the input type and apply the appropriate conversion\nprotocol.\n"
      ]
    },
    {
      "cell_type": "code",
      "execution_count": null,
      "metadata": {
        "collapsed": false
      },
      "outputs": [],
      "source": [
        "from pyscf import cc\n\nmycc = cc.CCSD(myhf).run()\nwf_ccsd = import_state(mycc, tol=1e-1)\nprint(f\"CCSD-based state vector: \\n{np.round(wf_ccsd.real, 4)}\")"
      ]
    },
    {
      "cell_type": "markdown",
      "metadata": {},
      "source": [
        "For CCSD conversion, at present the exponential form is expanded and\nterms are collected **to second order** to obtain the CI coefficients.\n\nDMRG states\n===========\n\nFor more complex or more correlated molecules, initial states from DMRG\nor SHCI will be better options. DMRG calculations involve using the\nlibrary [Block2](https://github.com/block-hczhai/block2-preview), which\ncan be installed with `pip`:\n\n``` {.bash}\npip install block2\n```\n\nThe DMRG calculation is run on top of the molecular orbitals obtained by\nHartree-Fock, stored in the `myhf` object, which we can reuse from\nbefore.\n\n``` {.python}\nfrom pyscf import mcscf\nfrom pyblock2.driver.core import DMRGDriver, SymmetryTypes\nfrom pyblock2._pyscf.ao2mo import integrals as itg\n\n# obtain molecular integrals and other parameters for DMRG\nmc = mcscf.CASCI(myhf, mol.nao, mol.nelectron)\nncas, n_elec, spin, ecore, h1e, g2e, orb_sym = \\\n                itg.get_rhf_integrals(myhf, mc.ncore, mc.ncas, g2e_symm=8)\n\n# initialize the DMRG solver, Hamiltonian (as matrix-product operator, MPO) and\n# state (as matrix-product state, MPS)\ndriver = DMRGDriver(scratch=\"./dmrg_temp\", symm_type=SymmetryTypes.SZ)\ndriver.initialize_system(n_sites=ncas, n_elec=n_elec, spin=spin, orb_sym=orb_sym)\nmpo = driver.get_qc_mpo(h1e=h1e, g2e=g2e, ecore=ecore, iprint=0)\nket = driver.get_random_mps(tag=\"GS\")\n\n# execute DMRG by modifying the ket state in-place to minimize the energy\ndriver.dmrg(mpo, ket, n_sweeps=30,bond_dims=[100,200],\\\n                noises=[1e-3,1e-5],thrds=[1e-6,1e-7],tol=1e-6)\n\n# post-process the MPS to get an initial state\ndets, coeffs = driver.get_csf_coefficients(ket, iprint=0)\ndets = dets.tolist()\nwf_dmrg = import_state((dets, coeffs), tol=1e-1)\nprint(f\"DMRG-based state vector: \\n {np.round(wf_dmrg, 4)}\")\n```\n\n``` {.bash}\nDMRG-based state vector\n [ 0.      0.      0.      0.      0.      0.      0.      0.      0.\n   0.      0.      0.     -0.2243  0.      0.      0.      0.      0.\n   0.      0.      0.      0.      0.      0.      0.      0.      0.\n   0.      0.      0.      0.      0.      0.      0.      0.      0.\n   0.      0.      0.      0.      0.      0.      0.      0.      0.\n   0.      0.      0.      0.9745  0.      0.      0.      0.      0.\n   0.      0.      0.      0.      0.      0.      0.      0.      0.\n   0.    ]\n```\n"
      ]
    },
    {
      "cell_type": "markdown",
      "metadata": {},
      "source": [
        "The crucial part is calling `get_csf_coefficients()` on the solution\nstored in MPS form in the `ket`. This triggers an internal\nreconstruction calculation that converts the MPS to the sum of Slater\ndeterminants form, returning the output as a tuple\n`(array([int]), array(float]))`. The first element expresses a given\nSlater determinant using Fock occupation vectors of length equal to the\nnumber of spatial orbitals. In Block2 notation, the entries can be `0`\n(orbital unoccupied), `1` (orbital occupied with spin-up electron), `2`\n(occupied with spin-down), and `3` (doubly occupied). The first element,\n`array([int])`, must be converted to `list` for\n`~.pennylane.qchem.import_state`{.interpreted-text role=\"func\"} to\naccept it. The second element stores the CI coefficients.\n\nIn principle, this functionality can be used to generate any initial\nstate, provided the user specifies a list of Slater determinants and\ntheir coefficients in this form. Let\\'s take this opportunity to create\nthe Hartree-Fock initial state, to compare the other states against it\nlater on.\n"
      ]
    },
    {
      "cell_type": "code",
      "execution_count": null,
      "metadata": {
        "collapsed": false
      },
      "outputs": [],
      "source": [
        "from pennylane import numpy as np\n\nhf_primer = ([[3, 0, 0]], np.array([1.0]))\nwf_hf = import_state(hf_primer)"
      ]
    },
    {
      "cell_type": "markdown",
      "metadata": {},
      "source": [
        "SHCI states\n===========\n\nThe SHCI calculations utilize the library\n[Dice](https://github.com/sanshar/Dice), and can be run using PySCF\nthrough the interface module\n[SHCI-SCF](https://github.com/pyscf/shciscf). For Dice, the execution\nprocess is similar to that of DMRG:\n\n``` {.python}\nfrom pyscf.shciscf import shci\n\n# prepare PySCF CASCI object, whose solver will be the SHCI method\nncas, nelecas_a, nelecas_b = mol.nao, mol.nelectron // 2, mol.nelectron // 2\nmyshci = mcscf.CASCI(myhf, ncas, (nelecas_a, nelecas_b))\n\n# set up essentials for the SHCI solver\noutput_file = f\"shci_output.out\"\nmyshci.fcisolver = shci.SHCI(myhf.mol)\nmyshci.fcisolver.outputFile = output_file\n\n# execute SHCI through the PySCF interface\ne_tot, e_ci, ss, mo_coeff, mo_energies = myshci.kernel(verbose=5)\n\n# post-process the shci_output.out to extract the wave function \n# results and create the tuple of dets (list([str])) and coeffs (array([float]))\n# shci_data = (dets, coeffs)\nwf_shci = import_state(shci_data, tol=1e-1)\nprint(f\"SHCI-based state vector\\n{wf_shci}\")\n```\n\n``` {.bash}\nSHCI-based state vector\n [ 0.      0.      0.      0.      0.      0.      0.      0.      0.\n   0.      0.      0.      0.2243  0.      0.      0.      0.      0.\n   0.      0.      0.      0.      0.      0.      0.      0.      0.\n   0.      0.      0.      0.      0.      0.      0.      0.      0.\n   0.      0.      0.      0.      0.      0.      0.      0.      0.\n   0.      0.      0.     -0.9745  0.      0.      0.      0.      0.\n   0.      0.      0.      0.      0.      0.      0.      0.      0.\n   0.    ]\n```\n"
      ]
    },
    {
      "cell_type": "markdown",
      "metadata": {},
      "source": [
        "The Dice output file prints determinants using symbols `0` (unoccupied\norbital), `a` and `b` (orbital occupied with spin-up and spin-down\nelectron, respectively), and `2` (doubly occupied orbital). These\ndeterminant outputs, and corresponding coefficients, should be extracted\nand arranged as `(list([str]), array(float]))`, where each string\ncombines all the determinant symbols `0, a, b, 2` for a single\ndeterminant with no spaces. For example, for the HF state we created in\nthe DMRG section, the SHCI output should read\n`([[\"200\"]], np.array([1.]))`\n"
      ]
    },
    {
      "cell_type": "markdown",
      "metadata": {},
      "source": [
        "Application: speed up VQE\n=========================\n\nLet us now demonstrate how the choice of a better initial state shortens\nthe runtime of VQE for obtaining the ground-state energy of a molecule.\nAs a first step, create our linear $\\text{H}_3^+$ molecule, a device,\nand a simple VQE circuit with single and double excitations:\n"
      ]
    },
    {
      "cell_type": "code",
      "execution_count": null,
      "metadata": {
        "collapsed": false
      },
      "outputs": [],
      "source": [
        "import pennylane as qml\nfrom pennylane import qchem\n\n# generate the molecular Hamiltonian for H3+\nsymbols = [\"H\", \"H\", \"H\"]\ngeometry = np.array([[0, 0, 0], [0, 0, R/0.529], [0, 0, 2*R/0.529]])\n\nH2mol, qubits = qchem.molecular_hamiltonian(symbols, geometry, charge=1)\nwires = list(range(qubits))\ndev = qml.device(\"default.qubit\", wires=qubits)\n\n# create all possible excitations in H3+\nsingles, doubles = qchem.excitations(2, qubits)\nexcitations = singles + doubles"
      ]
    },
    {
      "cell_type": "markdown",
      "metadata": {},
      "source": [
        "Now let\\'s run VQE with the Hartree-Fock initial state. We first build\nthe VQE circuit:\n"
      ]
    },
    {
      "cell_type": "code",
      "execution_count": null,
      "metadata": {
        "collapsed": false
      },
      "outputs": [],
      "source": [
        "@qml.qnode(dev)\ndef circuit_VQE(theta, initial_state):\n    qml.StatePrep(initial_state, wires=wires)\n    for i, excitation in enumerate(excitations):\n        if len(excitation) == 4:\n            qml.DoubleExcitation(theta[i], wires=excitation)\n        else:\n            qml.SingleExcitation(theta[i], wires=excitation)\n    return qml.expval(H2mol)"
      ]
    },
    {
      "cell_type": "markdown",
      "metadata": {},
      "source": [
        "Next, we create the VQE optimizer, initialize the variational parameters\nand run the VQE optimization.\n"
      ]
    },
    {
      "cell_type": "code",
      "execution_count": null,
      "metadata": {
        "collapsed": false
      },
      "outputs": [],
      "source": [
        "opt = qml.GradientDescentOptimizer(stepsize=0.4)\ntheta = np.array(np.zeros(len(excitations)), requires_grad=True)\ndelta_E, iteration = 10, 0\nresults_hf = []\n\n# run the VQE optimization loop until convergence threshold is reached\nwhile abs(delta_E) > 1e-5:\n    theta, prev_energy = opt.step_and_cost(circuit_VQE, theta, initial_state=wf_hf)\n    new_energy = circuit_VQE(theta, initial_state=wf_hf)\n    delta_E = new_energy - prev_energy\n    results_hf.append(new_energy)\n    if len(results_hf) % 5 == 0:\n        print(f\"Step = {len(results_hf)},  Energy = {new_energy:.6f} Ha\")\nprint(f\"Starting with HF state took {len(results_hf)} iterations until convergence.\")"
      ]
    },
    {
      "cell_type": "markdown",
      "metadata": {},
      "source": [
        "And compare with how things go when you run it with the CISD initial\nstate:\n"
      ]
    },
    {
      "cell_type": "code",
      "execution_count": null,
      "metadata": {
        "collapsed": false
      },
      "outputs": [],
      "source": [
        "theta = np.array(np.zeros(len(excitations)), requires_grad=True)\ndelta_E, iteration = 10, 0\nresults_cisd = []\n\nwhile abs(delta_E) > 1e-5:\n    theta, prev_energy = opt.step_and_cost(circuit_VQE, theta, initial_state=wf_cisd)\n    new_energy = circuit_VQE(theta, initial_state=wf_cisd)\n    delta_E = new_energy - prev_energy\n    results_cisd.append(new_energy)\n    if len(results_cisd) % 5 == 0:\n        print(f\"Step = {len(results_cisd)},  Energy = {new_energy:.6f} Ha\")\nprint(f\"Starting with CISD state took {len(results_cisd)} iterations until convergence.\")"
      ]
    },
    {
      "cell_type": "markdown",
      "metadata": {},
      "source": [
        "Let\\'s visualize the comparison between the two initial states, and see\nthat indeed we get to the ground state much faster by starting with the\nCISD state.\n"
      ]
    },
    {
      "cell_type": "code",
      "execution_count": null,
      "metadata": {
        "collapsed": false
      },
      "outputs": [],
      "source": [
        "import matplotlib.pyplot as plt\n\nfig, ax = plt.subplots()\nax.plot(range(len(results_hf)), results_hf, color=\"r\", marker=\"o\", label=\"wf_hf\")\nax.plot(range(len(results_cisd)), results_cisd, color=\"b\", marker=\"o\", label=\"wf_cisd\")\nax.legend(fontsize=16)\nax.tick_params(axis=\"both\", labelsize=16)\nax.set_xlabel(\"Iteration\", fontsize=20)\nax.set_ylabel(\"Energy, Ha\", fontsize=20)\nplt.tight_layout()\nplt.show()"
      ]
    },
    {
      "cell_type": "markdown",
      "metadata": {},
      "source": [
        "Indeed, the CISD state significantly shortens the VQE runtime.\n\nIt is sometimes possible to foresee the extent of this speed-up of a\nparticular initial state by computing its overlap with the ground\nstate\\--a traditional metric of success for initial states in quantum\nalgorithms. Because in our examples the states are regular arrays,\ncomputing an overlap between different states is as easy as computing a\ndot product\n"
      ]
    },
    {
      "cell_type": "code",
      "execution_count": null,
      "metadata": {
        "collapsed": false
      },
      "outputs": [],
      "source": [
        "print(np.dot(wf_cisd, wf_hf).real)\nprint(np.dot(wf_ccsd, wf_hf).real)\nprint(np.dot(wf_cisd, wf_ccsd).real)"
      ]
    },
    {
      "cell_type": "markdown",
      "metadata": {},
      "source": [
        "In this particular case of $\\text{H}_3^+$, even CISD gives the exact\nwavefunction, hence both overlaps with the HF state are identical. In\nmore correlated molecules, overlaps will show that the more\nmultireference methods DMRG and SHCI are farther away from the\nHartree-Fock state, allowing them to perform better (you can check this\nby printing the overlaps with DMRG and SHCI in a more correlated\nmolecule). If a ground state in such a case was known, the overlap to it\ncould tell us directly the quality of the initial state.\n"
      ]
    },
    {
      "cell_type": "markdown",
      "metadata": {},
      "source": [
        "Conclusion\n==========\n\nThis demo shows how to import initial states from outputs of traditional\nquantum chemistry methods for use in PennyLane. We showcased simple\nworkflows for how to run a variety of state-of-the-art post-Hartree-Fock\nmethods, from libraries such as [PySCF](https://github.com/pyscf/pyscf),\n[Block2](https://github.com/block-hczhai/block2-preview) and\n[Dice](https://github.com/sanshar/Dice), to generate outputs that can\nthen be converted to PennyLane\\'s state vector format with a single line\nof code. With these initial states, we use the example of VQE to\ndemonstrate how a better choice of initial state can lead to improved\nalgorithmic performance. For the molecule used in our example, the CISD\nstate was sufficient: however, in more correlated molecules, DMRG and\nSHCI initial states typically provide the best speed-ups.\n\nAbout the author\n================\n"
      ]
    }
  ],
  "metadata": {
    "kernelspec": {
      "display_name": "Python 3",
      "language": "python",
      "name": "python3"
    },
    "language_info": {
      "codemirror_mode": {
        "name": "ipython",
        "version": 3
      },
      "file_extension": ".py",
      "mimetype": "text/x-python",
      "name": "python",
      "nbconvert_exporter": "python",
      "pygments_lexer": "ipython3",
      "version": "3.9.18"
    }
  },
  "nbformat": 4,
  "nbformat_minor": 0
}