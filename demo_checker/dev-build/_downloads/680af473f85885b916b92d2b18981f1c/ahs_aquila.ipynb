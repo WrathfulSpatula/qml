{
  "cells": [
    {
      "cell_type": "code",
      "execution_count": null,
      "metadata": {
        "collapsed": false
      },
      "outputs": [],
      "source": [
        "# This cell is added by sphinx-gallery\n# It can be customized to whatever you like\n%matplotlib inline"
      ]
    },
    {
      "cell_type": "markdown",
      "metadata": {},
      "source": [
        "Pulse programming on Rydberg atom hardware\n==========================================\n\n::: {.meta}\n:property=\\\"og:description\\\": Perform measurements on neutral atom\nhardware through PennyLane :property=\\\"og:image\\\":\n<https://pennylane.ai/qml/_images/thumbnail_tutorial_pulse_on_hardware.png>\n:::\n\n::: {.related}\ntutorial\\_pasqal Quantum computation with neutral atoms\ntutorial\\_pulse\\_programming101 Differentiable pulse programming with\nqubits in PennyLane\n:::\n\n*Author: Lillian M.A. Frederiksen --- Posted: 16 May 2023.*\n\nNeutral atom hardware is a new innovation in quantum technology that has\nbeen gaining traction in recent years thanks to new developments in\noptical tweezer technology. One such device, [QuEra's\nAquila](https://www.quera.com/aquila), is capable of running circuits\nwith up to 256 physical qubits! The [Aquila\ndevice](https://aws.amazon.com/braket/quantum-computers/quera/) is now\naccessible and programmable via pulse programming in PennyLane and the\n[PennyLane-Braket SDK\nplugin](https://github.com/aws/amazon-braket-pennylane-plugin-python).\nIn this demo, we will learn how to define a Hamiltonian for a driven\nRydberg atom system in PennyLane, and use it to first simulate a pulse\nprogram on Rydberg atoms, and then upload it and measure the effect of\nRydberg blockade on a hardware device!\n\n| \n\n![](../demonstrations/ahs_aquila/aquila_demo_image.png){.align-center\nwidth=\"70.0%\"}\n\n| \n\nPulse programming basics in PennyLane\n-------------------------------------\n\nPulse programming in PennyLane is a paradigm based on low-level control\nof electromagnetic driving pulses. Pulse programs are written directly\non the hardware level, skipping the abstraction of decomposing\nalgorithms into fixed native gate sets. While these abstractions are\noften used in proposed error correction schemes to achieve fault\ntolerance in a universal quantum computer, in noisy and\nintermediate-sized quantum computers, they can add unnecessary overhead\n(and thereby introduce more noise).\n\nIn quantum computing architectures where qubits are realized through\nphysical systems with discrete energy levels, transitions from one state\nto another are driven by electromagnetic fields tuned to be at or near\nthe relevant energy gap. These electromagnetic fields can vary as a\nfunction of time. The full system Hamiltonian is then a combination of\nthe Hamiltonian describing the state of the hardware when unperturbed,\nand a time-dependent drive.\n\nPulse control gives some insight into the low-level implementation of\nmore abstract quantum computations. In most digital quantum\narchitectures, the native gates of the computer are, at the\nimplementation level, electromagnetic control pulses that have been\nfinely tuned to perform a particular logical gate.\n\nThis alternative approach requires a different type of control than what\nyou might be used to in PennyLane, where circuits are generally defined\nin terms of a series of gates. Specifically, pulse control is\nimplemented via the functionality provided in the Pennylane\n`~pennylane.pulse`{.interpreted-text role=\"mod\"} module. For more\ninformation on pulse programming in PennyLane, see the [PennyLane\ndocs](https://docs.pennylane.ai/en/stable/code/qml_pulse.html), or check\nout the demo about [running a ctrl-VQE algorithm with pulse\ncontrol](https://pennylane.ai/qml/demos/tutorial_pulse_programming101.html)\non the PennyLane [default.qubit]{.title-ref} simulator.\n\nThe QuEra Aquila device\n-----------------------\n\nThe Aquila QPU works with programmable arrays of up to 256 Rubidium-87\natoms (Rb-87), trapped in vacuum by tightly focused laser beams. These\natoms can be arranged in (almost) [arbitrary user-specified\ngeometries](https://pennylane.ai/qml/demos/tutorial_pasqal.html) to\ndetermine inter-qubit interactions. On the Aquila device, it is possible\nto specify 1D and 2D atom arrangements. Atom positions may be slightly\nshifted to accommodate hardware limitations, and must obey lattice\nconstraints for spacing. This will be explored in more detail below.\n\nDifferent energy levels of these atoms are used to encode qubits.\n\nA primary application of pulse control in Rydberg atom systems like\nAquila is the implementation of analog Hamiltonian simulation. This is a\ntechnique that aims to investigate the behaviour of some system of\ninterest using a programmable, controllable device that emulates the\ntarget system. For example, Rydberg atom systems have been used to probe\nthe behaviour of quantum spin liquids and antiferromagnetic Ising\nmodels.\n\nConstructing a pulse program to run on the Aquila hardware is done in\ntwo steps, each of which allows us to modify different parts of the\nsystem Hamiltonian:\n\n1.  Define atom positions, which determines qubit connectivity\n2.  Specify the quantum evolution via the drive parameters\n\nLet\\'s start with the atom positions and the resulting Hamiltonian term\ndescribing inter-qubit interactions.\n\n### Interaction term and atom arrangement\n\nIn this treatment of the Hamiltonian, we will assume that we are\noperating such that we only allow access to two states; the low and high\nenergy states are referred to as the ground ($\\ket{g}$) and Rydberg\n($\\ket{r}$) states respectively.\n\nQubit interaction in a Rydberg atom system is mediated by a mechanism\ncalled Rydberg blockade, which arises due to van der Waals forces\nbetween the atoms. This is described by the interaction Hamiltonian:\n\n$$\\hat{H}_{int} = \\sum_{j=1}^{N-1}\\sum_{k=j+1}^{N} \\frac{C_6}{R^6_{jk}}\\hat{n}_j\\hat{n}_k$$\n\nwhere $n_j=\\ket{r_j}\\bra{r_j}$ is the number operator acting on atom\n$j$, $R_{jk} = \\lvert x_j - x_k \\lvert$ is the distance between atoms\n$j$ and $k$, and $C_6$ is a fixed value determined by the nature of the\nground and Rydberg states (for Aquila,\n$5.24 \\times 10^{-24} \\text{rad m}^6 / \\text{s}$, referring to the\n$| 70S_{1/2} \\rangle$ state of the Rb-87 atom).\n\nThere are two key things to be aware of in the interaction term. First,\nthe energy contribution of the interaction between each pair of atoms is\nonly non-zero when both atoms are in the Rydberg state, so that\n$\\bra{\\psi}\\hat{n}_k \\hat{n}_j\\ket{\\psi}=1$. Second, the energy\ncontribution for each pair of atoms is inversely proportional to the\ndistance between them. Thus, as we move two atoms closer together, it\nbecomes increasingly energetically expensive for both to be in the\nRydberg state.\n\nIn the Aquila system, to modify these interactions, we define a\n*register* (the layout of the atoms).\n\nBelow is a conceptual diagram demonstrating this interaction for a pair\nof atoms. At a distance, a similar energetic cost is paid to from 0 to 1\nexcitation and from 1 to 2 excitations. However, as we move the atoms\ninto closer proximity, we see a rapidly increasing energy cost to drive\nto the doubly excited state.\n\n![Energy levels for the ground ($\\ket{gg}$), single Rydberg excitation\n($\\ket{gr}$, $\\ket{rg}$), and double Rydberg excitation ($\\ket{rr}$)\nstates](../demonstrations/ahs_aquila/rydberg_blockade_diagram.png){.align-center\nwidth=\"95.0%\"}\n\nThe modification of the energy levels when atoms are in proximity gives\nrise to Rydberg blockade, where atoms that have been driven by a pulse\nthat would, in isolation, leave them in the excited state instead remain\nin the ground state due to neighboring atoms being excited.\n\nThis brings us to our discussion of the second part of the Hamiltonian:\nthe drive term.\n\n### The driven Rydberg Hamiltonian\n\nThe atoms in a Rydberg system can be driven by application of a laser\npulse, which can be described by 3 parameters: amplitude (also called\nRabi frequency) $\\Omega$, detuning $\\Delta$, and phase $\\phi$. While in\ntheory, a drive pulse can be applied to individual atoms, the current\ncontrol setup for the Aquila hardware only allows the application of a\nglobal drive pulse.\n\nLet's look at how this plays out in the Hamiltonian describing a global\ndrive targeting the ground to Rydberg state transition. The driven\nHamiltonian of the system is:\n\n$$\\hat{H}_{drive} = \\sum_{k=1}^N \\frac{\\Omega(t)}{2} (e^{i \\phi(t)}\\ket{g_k}\\bra{r_k} + e^{-i \\phi(t)} \\ket{r_k}\\bra{g_k}) - \\Delta(t) \\hat{n}_k$$\n\nwhere $\\ket{r}$ and $\\ket{g}$ are the Rydberg and ground states.\n\nNow that we know a bit about the system we will be manipulating, let us\nlook at how to connect to a real device.\n\nGetting started with Amazon Braket\n----------------------------------\n\nFor this demo, we will integrate PennyLane with Amazon Braket to perform\nmeasurements on Rydberg atom based hardware provided by QuEra.\n\nIn PennyLane, Amazon Braket is accessed through the PennyLane-Braket\nplugin. The installation instructions for the plugin can be found\n[here](https://amazon-braket-pennylane-plugin-python.readthedocs.io/en/latest/installation.html).\n\nThe Pennylane-Braket plugin also comes pre-installed in the Braket\nmanaged notebooks accessible through the [AWS\nconsole](https://aws.amazon.com/braket/).\n\nThe remote hardware devices available on Amazon Braket can be found\n[here](https://docs.aws.amazon.com/braket/latest/developerguide/braket-devices.html),\nalong with information about each system, including which paradigm\n(gate-based, continuous variable or analog Hamiltonian simulation) it\noperates under. Each device has a unique identifier known as an ARN. In\nPennyLane, AHS-based Braket devices are accessed through a PennyLane\ndevice named `braket.aws.ahs`, along with specification of the\ncorresponding ARN.\n\n::: {.note}\n::: {.title}\nNote\n:::\n\nTo access remote services on Amazon Braket, you must first [create an\naccount on AWS](https://aws.amazon.com/braket/getting-started/) and also\nfollow the [setup\ninstructions](https://github.com/aws/amazon-braket-sdk-python) for\naccessing Braket from Python.\n:::\n\n### Connecting to Aquila\n\nOnce you are set up with a Braket account, you can access the Aquila\ndevice. It is available online in particular time windows, which can be\nfound [here](https://www.quera.com/aquila) , though you can submit tasks\nto the queue at any time. Note that depending on queue lengths, there\ncan be some wait time to receive results even during the availability\nwindow of the device.\n\nA simulated version on the Aquila hardware, `braket.local.ahs`, is also\navailable, and is an excellent resource for testing out programs before\ncommitting to a particular hardware task. It is important to be aware\nthat some tasks that succeed in simulation will not be able to be sent\nto hardware due to physical constraints of the measurement and control\nsetup. Also, be aware of the hardware specifications and capabilities\nwhen planning your pulse program. These capabilities are accessible at\nany time from the hardware device; we will demonstrate in more detail\nhow to access these specifications as we go through this demo.\n\n::: {.note}\n::: {.title}\nNote\n:::\n\nThose cells of this demo that contain the real device `aquila` will only\nrun when hardware is online. If you want to run it at other times to\nexperiment with the concepts, the hardware device can be switched out\nwith the Braket AHS simulator. When interpreting the section of the demo\nregarding discretization for hardware, bear in mind that the simulator\ndoes not discretize the functions before upload, so it will not\naccurately demonstrate the discretization behaviour.\n:::\n\nLet us access both the remote hardware device, and a local Rydberg atom\nsimulator from AWS, and then we can start defining our pulse program.\n"
      ]
    },
    {
      "cell_type": "code",
      "execution_count": null,
      "metadata": {
        "collapsed": false
      },
      "outputs": [],
      "source": [
        "import pennylane as qml\n\naquila = qml.device(\n    \"braket.aws.ahs\",\n    device_arn=\"arn:aws:braket:us-east-1::device/qpu/quera/Aquila\",\n    wires=3,\n)\n\nrydberg_simulator = qml.device(\"braket.local.ahs\", wires=3)"
      ]
    },
    {
      "cell_type": "markdown",
      "metadata": {},
      "source": [
        "Creating a Rydberg Hamiltonian\n==============================\n\nTo create a pulse program, we first create a\n`~pennylane.pulse.ParametrizedHamiltonian`{.interpreted-text\nrole=\"class\"} that describes a Rydberg system and drive we want to\nimplement. Once created, this can be used with the `default.qubit`\ndevice to simulate the system\\'s behaviour directly in PennyLane, as\nwell as with the AWS simulator and hardware services.\n\nAtom layout and interaction term\n--------------------------------\n\nRecall that placing atoms in close proximity creates a blockade effect,\nwhere it is energetically favourable for only one atom in each pair to\nbe in the Rydberg state.\n\nHere we define a lattice of 3 atoms, all close enough together that we\nwould expect only one of them to be excited at a time. We can see the\nhardware specifications for the atom lattice via:\n"
      ]
    },
    {
      "cell_type": "code",
      "execution_count": null,
      "metadata": {
        "collapsed": false
      },
      "outputs": [],
      "source": [
        "# units from the hardware backend are specified in SI units, in this case metres\naquila.hardware_capabilities[\"lattice\"].dict()"
      ]
    },
    {
      "cell_type": "markdown",
      "metadata": {},
      "source": [
        "::: {.rst-class}\nsphx-glr-script-out\n\nOut:\n\n``` {.none}\n{'area': {'width': Decimal('0.000075'), 'height': Decimal('0.000076')},\n 'geometry': {'spacingRadialMin': Decimal('0.000004'),\n  'spacingVerticalMin': Decimal('0.000004'),\n  'positionResolution': Decimal('1E-7'),\n  'numberSitesMax': 256}}\n```\n:::\n\nWe can see that the atom field has a width of $75 \\, \\mu m$ and a height\nof $76 \\, \\mu m$. Additionally, we can see that the minimum radial\nspacing and minimal vertical spacing between two atoms are both\n$4 \\, \\mu m$, and the resolution for atom placement is $0.1 \\, \\mu m$.\nFor more details accessing and interpreting these specifications, see\nAmazon Braket's starter [Aquila example\nnotebook](https://github.com/aws/amazon-braket-examples/blob/main/examples/analog_hamiltonian_simulation/01_Introduction_to_Aquila.ipynb).\n\nIn PennyLane, we will specify these distances in micrometres. Let\\'s set\nthe coordinates to be three points on an equilateral triangle with a\nside length of $5 \\, \\mu m$, which should be well within the blockade\nradius:\n"
      ]
    },
    {
      "cell_type": "code",
      "execution_count": null,
      "metadata": {
        "collapsed": false
      },
      "outputs": [],
      "source": [
        "import numpy as np\nimport matplotlib.pyplot as plt\n\na = 5\n\ncoordinates = [(0, 0), (a, 0), (a / 2, np.sqrt(a**2 - (a / 2) ** 2))]\n\nprint(f\"coordinates: {coordinates}\")"
      ]
    },
    {
      "cell_type": "markdown",
      "metadata": {},
      "source": [
        "::: {.rst-class}\nsphx-glr-script-out\n\nOut:\n\n``` {.none}\ncoordinates: [(0, 0), (5, 0), (2.5, 4.330127018922194)]\n```\n:::\n"
      ]
    },
    {
      "cell_type": "code",
      "execution_count": null,
      "metadata": {
        "collapsed": false
      },
      "outputs": [],
      "source": [
        "plt.scatter([x for x, y in coordinates], [y for x, y in coordinates])\nplt.xlabel(\"\u03bcm\")\nplt.ylabel(\"\u03bcm\")"
      ]
    },
    {
      "cell_type": "markdown",
      "metadata": {},
      "source": [
        "![](../demonstrations/ahs_aquila/rydberg_blockade_coordinates.png){.align-center\nwidth=\"40.0%\"}\n\nIf we want to create a Hamiltonian that we can use in PennyLane to\naccurately simulate a system, we need the correct physical constants; in\nthis case, we need an accurate value of $C_6$ to calculate the\ninteraction term (different atoms and different sets of energy levels\nwill have different physical constants). We can access these via\n"
      ]
    },
    {
      "cell_type": "code",
      "execution_count": null,
      "metadata": {
        "collapsed": false
      },
      "outputs": [],
      "source": [
        "settings = aquila.settings\nsettings"
      ]
    },
    {
      "cell_type": "markdown",
      "metadata": {},
      "source": [
        "::: {.rst-class}\nsphx-glr-script-out\n\nOut:\n\n``` {.none}\n{'interaction_coeff': 862619.7915580727}\n```\n:::\n\nPennyLane provides a helper function that creates the relevant\nHamiltonian, `~pennylane.pulse.rydberg_interaction`{.interpreted-text\nrole=\"func\"}. We pass this function the atom coordinates, along with the\n`settings` we retrieved above, to create the interaction term for the\nHamiltonian:\n\n$$\\hat{H} = \\sum_{j=1}^{N-1}\\sum_{k=j+1}^{N} \\frac{C_6}{R^6_{jk}}\\hat{n}_j\\hat{n}_k$$\n"
      ]
    },
    {
      "cell_type": "code",
      "execution_count": null,
      "metadata": {
        "collapsed": false
      },
      "outputs": [],
      "source": [
        "H_interaction = qml.pulse.rydberg_interaction(coordinates, **settings)"
      ]
    },
    {
      "cell_type": "markdown",
      "metadata": {},
      "source": [
        "Driving field\n=============\n\nThe global drive is in relation to the transition between the ground and\nrydberg states. It is defined by 3 components: the *amplitude* (Rabi\nfrequency), the *phase*, and the *detuning*. Let us consider the\nhardware limitations on each of these. We can access the dictionary for\nhardware specifications for driving the Rydberg transition just as we\ndid for the lattice specifications above:\n"
      ]
    },
    {
      "cell_type": "code",
      "execution_count": null,
      "metadata": {
        "collapsed": false
      },
      "outputs": [],
      "source": [
        "aquila.hardware_capabilities[\"rydberg\"].dict()"
      ]
    },
    {
      "cell_type": "markdown",
      "metadata": {},
      "source": [
        "::: {.rst-class}\nsphx-glr-script-out\n\nOut:\n\n``` {.none}\n{'c6Coefficient': Decimal('5.42E-24'),\n 'rydbergGlobal': {'rabiFrequencyRange': (Decimal('0.0'),\n   Decimal('15800000.0')),\n  'rabiFrequencyResolution': Decimal('400.0'),\n  'rabiFrequencySlewRateMax': Decimal('250000000000000.0'),\n  'detuningRange': (Decimal('-125000000.0'), Decimal('125000000.0')),\n  'detuningResolution': Decimal('0.2'),\n  'detuningSlewRateMax': Decimal('2500000000000000.0'),\n  'phaseRange': (Decimal('-99.0'), Decimal('99.0')),\n  'phaseResolution': Decimal('5E-7'),\n  'timeResolution': Decimal('1E-9'),\n  'timeDeltaMin': Decimal('5E-8'),\n  'timeMin': Decimal('0.0'),\n  'timeMax': Decimal('0.000004')}}\n```\n:::\n\nIt is important to note that these quantities are in radians per second\nrather than Hz where relevant, and are all in SI units. This means that\nfor amplitude and detuning, we will need to convert from angular\nfrequency in rad/s to standard frequency in MHz (the expected input unit\nin PennyLane) to understand the limits on PennyLane inputs. For example,\nfor the largest possible detuning value specified in PennyLane should be\n19.89 MHz:\n"
      ]
    },
    {
      "cell_type": "code",
      "execution_count": null,
      "metadata": {
        "collapsed": false
      },
      "outputs": [],
      "source": [
        "def angular_SI_to_MHz(angular_SI):\n    \"\"\"Converts a value in rad/s or (rad/s)/s into MHz or MHz/s\"\"\"\n    return angular_SI / (2 * np.pi) * 1e-6\n\n\nangular_SI_to_MHz(125000000.00)"
      ]
    },
    {
      "cell_type": "markdown",
      "metadata": {},
      "source": [
        "::: {.rst-class}\nsphx-glr-script-out\n\nOut:\n\n``` {.none}\n19.89436788648692\n```\n:::\n\nFor further details on how to access the specifications and their\ndescriptions for the device, including accessing units and more detailed\ndescriptions, see [AWS Aquila Notebook\n01](https://github.com/aws/amazon-braket-examples/blob/main/examples/analog_hamiltonian_simulation/01_Introduction_to_Aquila.ipynb).\n\nA summary of the general hardware restrictions for Rydberg drive in\nPennyLane\\'s expected units can be seen in the table below. Note that\nthese can be subject to change, and for thoroughness it is best practice\nto confirm these numbers by accessing the device\\'s\n`hardware_capabilities` as shown above.\n\nAll values in units of frequency (amplitude and detuning) are provided\nhere in the input units expected by PennyLane (MHz). For simulations,\nthese numbers will be converted to angular frequency \\# (multiplied by\n$2 \\pi$) internally as needed.\n\nNote that when uploaded to hardware, the amplitude and detuning will be\npiecewise linear functions, while phase is piecewise constant. For\namplitude and detuning, there is a maximum rate of change for the\nhardware output.\n\n::: {.rst-class}\ndocstable\n\n+---------+-----------+-----------+---------+---------+---------------+\n| :       | ::: {.    | ::: {.    | :       | :       | ::            |\n| :: {.ce | centered} | centered} | :: {.ce | :: {.ce | : {.centered} |\n| ntered} | :::       | :::       | ntered} | ntered} | :::           |\n| :::     |           |           | :::     | :::     |               |\n|         | Minimum   | Maximum   |         |         | Maximum rate  |\n| Pa      | value     | value     | Res     | PWC or  | of change     |\n| rameter |           |           | olution | PWL     |               |\n+=========+===========+===========+=========+=========+===============+\n| Am      | 0 MHz     | > 2.51465 | 64 MHz  | > PWL   | 39788735      |\n| plitude |           | > MHz     |         |         | MHz/s         |\n+---------+-----------+-----------+---------+---------+---------------+\n| Phase   | -99 rad   | > +99 rad | 5e-7    | > PWC   | N/A           |\n|         |           |           | rad     |         |               |\n+---------+-----------+-----------+---------+---------+---------------+\n| D       | -19       | +19       | 3.2e-8  | > PWL   | > 39788735    |\n| etuning | .89436788 | .89436788 | MHz     |         | > MHz/s       |\n|         | MHz       | MHz       |         |         |               |\n+---------+-----------+-----------+---------+---------+---------------+\n:::\n\nFor the amplitude, there is an additional restriction that the first and\nlast set-point in the pulse must be 0 MHz. The phase has a similar\nrestriction for the first set-point, though the last set-point can take\nany value in the allowed range. There are no special restriction on the\nstart and end points for detuning.\n\nA few additional limitations to be aware of are:\n\n-   For hardware upload, the full pulse program must not exceed\n    $4 \\, \\mu s.$\n-   The conversion from PennyLane to hardware upload will place set\n    points every 50ns---consider this time resolution when defining\n    pulses.\n\nEach of the 3 parameters can either be constant for the duration of the\npulse, or they can be defined by a callable, where the callable should\nrespect the above hardware output capabilities at all time points. For\nan initial drive term, let\\'s start by defining a simple pulse with a\ntime-dependent amplitude. Phase and detuning will both be set to 0.\n\nFor the pulse shape, we\\'ll create a gaussian envelope. Because we also\nwant to run the simulation in PennyLane, we need to define the pulse\nfunction using `jax.numpy`. The time is expected to be specified in\nmicroseconds for the callable.\n"
      ]
    },
    {
      "cell_type": "code",
      "execution_count": null,
      "metadata": {
        "collapsed": false
      },
      "outputs": [],
      "source": [
        "import jax.numpy as jnp\n\n\ndef gaussian_fn(p, t):\n    return p[0] * jnp.exp(-((t-p[1])**2) / (2*p[2]**2))\n\n\n# Visualize pulse, time in \u03bcs\n\nmax_amplitude = 0.6\ndisplacement = 0.9\nsigma = 0.3\n\namplitude_params = [max_amplitude, displacement, sigma]\n\ntime = np.linspace(0, 1.75, 176)\ny = [gaussian_fn(amplitude_params, t) for t in time]\nplt.xlabel(\"Time [$\\mu s$]\")\nplt.ylabel(\"Amplitude [MHz]\")\n\nplt.plot(time, y)"
      ]
    },
    {
      "cell_type": "markdown",
      "metadata": {},
      "source": [
        "![](../demonstrations/ahs_aquila/gaussian_fn.png){.align-center\nwidth=\"50.0%\"}\n\nWe can then define our drive using via\n`~pennylane.pulse.rydberg_drive`{.interpreted-text role=\"func\"}:\n"
      ]
    },
    {
      "cell_type": "code",
      "execution_count": null,
      "metadata": {
        "collapsed": false
      },
      "outputs": [],
      "source": [
        "global_drive = qml.pulse.rydberg_drive(amplitude=gaussian_fn,\n                                       phase=0,\n                                       detuning=0,\n                                       wires=[0, 1, 2])"
      ]
    },
    {
      "cell_type": "markdown",
      "metadata": {},
      "source": [
        "With only amplitude as non-zero, the overall driven Hamiltonian in this\ncase simplifies to:\n\n$$\\hat{H} = \\sum_{k=1}^N \\frac{\\Omega(t)}{2} (\\ket{g_k}\\bra{r_k} - \\ket{r_k}\\bra{g_k}) + \\sum_{j=1}^{N-1}\\sum_{k=j+1}^{N} \\frac{C_6}{R^6_{jk}}\\hat{n}_j\\hat{n}_k$$\n\nNow we will use our `ParametrizedHamiltonian` terms to run a pulse\nprogram!\n"
      ]
    },
    {
      "cell_type": "markdown",
      "metadata": {},
      "source": [
        "Simulating in PennyLane to find a pi-pulse\n==========================================\n\nA pi-pulse is any pulse calibrated to perform a 180 degree ($\\pi$\nradian) rotation on the Bloch Sphere that takes us from the ground state\nof the un-driven system to the excited state when applied. This\ncorresponds to a $\\sigma_X = \\ket{g}\\bra{r} + \\ket{r}\\bra{g}$ gate in\nthe ground-rydberg basis on each qubit. Here we will create one, and\nobserve the effect of applying it with the interaction term \"turned\noff\". Ignoring the inter-qubit interactions for now allows us to\ncalibrate a pi-pulse without worrying about the effect of Rydberg\nblockade.\n\nWith the interaction term off, each qubit will evolve according to the\nunitary evolution\n$U = \\text{exp}\\left(-i \\frac{1}{2} \\int d\\tau \\Omega(\\tau) \\sigma_X \\right)$\nand we construct $\\Omega(t)$ such that\n$\\int d\\tau \\frac{1}{2} \\Omega(\\tau) = \\frac{\\pi}{2}$, i.e.\n$U = \\exp(-i \\frac{\\pi}{2} \\sigma_X) = -\\sigma_X$.\n\nWe will implement the pi-pulse using the drive term defined above, and\ntune the parameters of the gaussian envelope to implement the desired\npulse.\n\nIn the absence of the interaction term, each atom acts as a completely\nindependent system, so we don\\'t see any Rydberg blockade. Below, we've\nexperimented with the parameters of the gaussian pulse envelope via\ntrial-and-error to find settings that result in a pi-pulse:\n"
      ]
    },
    {
      "cell_type": "code",
      "execution_count": null,
      "metadata": {
        "collapsed": false
      },
      "outputs": [],
      "source": [
        "import jax\n\nmax_amplitude = 2.0\ndisplacement = 1.0\nsigma = 0.3\n\namplitude_params = [max_amplitude, displacement, sigma]\n\nparams = [amplitude_params]\nts = [0.0, 1.75]\n\ndefault_qubit = qml.device(\"default.qubit.jax\", wires=3, shots=1000)\n\n\n@qml.qnode(default_qubit, interface=\"jax\")\ndef circuit(parameters):\n    qml.evolve(global_drive)(parameters, ts)\n    return qml.counts()\n\n\ncircuit(params)"
      ]
    },
    {
      "cell_type": "markdown",
      "metadata": {},
      "source": [
        "::: {.rst-class}\nsphx-glr-script-out\n\nOut:\n\n``` {.none}\n{'110': 1, '111': 999}\n```\n:::\n\nSimulating Rydberg blockade in PennyLane\n========================================\n\nTo simulate the effect of Rydberg blockade, we create a new circuit that\nincludes both the drive and the interaction term. We can run this\nsimulation either in PennyLane, or using the local simulator provided by\nAWS:\n"
      ]
    },
    {
      "cell_type": "code",
      "execution_count": null,
      "metadata": {
        "collapsed": false
      },
      "outputs": [],
      "source": [
        "def circuit(params):\n    qml.evolve(H_interaction + global_drive)(params, ts)\n    return qml.counts()\n\n\ncircuit_qml = qml.QNode(circuit, default_qubit, interface=\"jax\")\ncircuit_ahs = qml.QNode(circuit, rydberg_simulator)\n\nprint(f\"PennyLane simulation: {circuit_qml(params)}\")\nprint(f\"AWS local simulation: {circuit_ahs(params)}\")"
      ]
    },
    {
      "cell_type": "markdown",
      "metadata": {},
      "source": [
        "::: {.rst-class}\nsphx-glr-script-out\n\nOut:\n\n``` {.none}\nPennyLane simulation: {'000': 76, '001': 286, '010': 300, '100': 338}\nAWS local simulation: {'000': 63, '001': 354, '010': 273, '100': 310}\n```\n:::\n\nWhen we apply the pi-pulse, but now to the full Hamiltonian including\nthe interaction term, we observe that only one of the three qubits is in\nthe excited state. This is indeed the expected effect of Rydberg\nblockade arising from the interaction term.\n\nThe radius within which two neighboring atoms are effectively prevented\nfrom both being excited is referred to as the *blockade radius* $R_b$.\nThe blockade radius is proportional to the $C_6^{1/6}$ value for the\ntransition (determining the scale of the coefficient $V_{jk}$). However,\nit is not determined by the interaction term alone-the blockade radius\nis also inversely proportional to how hard we drive the atoms. The\nblockade radius can be estimated as\n\n$$R_b = (C_6/\\sqrt{\\Omega^2 + \\Delta^2})^{1/6}$$\n\nWhere $\\Omega$ and $\\Delta$ describe the amplitude and detuning of the\ndrive, respectively.\n\n![Rydberg blockade doesn\\'t allow neighboring atoms in close proximity\nto all be in the excited\nstate.](../demonstrations/ahs_aquila/rydberg_blockade.png){.align-center\nwidth=\"95.0%\"}\n\nRydberg blockade on the QuEra hardware\n======================================\n\nLet's look at how we would move this simple pulse program from local\nsimulations to hardware.\n\nBefore uploading to hardware, it's best to consider whether there are\nany constraints we need to be aware of. Only our amplitude parameter is\nnon-zero, so let's review the limitations we need to respect for\ndefining an amplitude on hardware:\n\n-   All values must be within 0 to 2.51465 MHz\n-   The output will be linear between set-points, and the rate of change\n    must never exceed 39788735 MHz/s\n-   The amplitude sequence must start and end at 0 MHz\n"
      ]
    },
    {
      "cell_type": "code",
      "execution_count": null,
      "metadata": {
        "collapsed": false
      },
      "outputs": [],
      "source": [
        "times = np.linspace(0, 1.75, 1000)\namplitude = [gaussian_fn(amplitude_params, t) for t in times]\n\nstart_val = amplitude[0]\nstop_val = amplitude[-1]\nmax_val = np.max(amplitude)\nmax_rate = np.max([(amplitude[i + 1] - amplitude[i]) / 50e-9 for i in range(999)])\n\nprint(f\"start value: {start_val:.3} MHz\")\nprint(f\"stop value: {stop_val:.3} MHz\")\nprint(f\"maximum value: {max_val:.3} MHz\")\nprint(f\"maximum rate of change: {max_rate:.3} MHz/s\")"
      ]
    },
    {
      "cell_type": "markdown",
      "metadata": {},
      "source": [
        "::: {.rst-class}\nsphx-glr-script-out\n\nOut:\n\n``` {.none}\nstart value: 0.00773 MHz\nstop value: 0.0879 MHz\nmaximum value: 2.0 MHz\nmaximum rate of change: 1.42e+05 MHz/s\n```\n:::\n\nOur maximum amplitude value and maximum rate of change are well below\nhardware limits, so the only constraint we need to enforce for our pulse\nprogram is ensuring the values at timestamps 0 and $1.75 \\, \\mu s$ are\n0. For this, we can use a convenience function provided in the pulse\nmodule, `~pennylane.pulse.rect`{.interpreted-text role=\"func\"}. We can\nwrap an existing function with it in order to apply a rectangular window\nwithin which the pulse has non-zero values.\n\nNote that the function is non-zero outside the window, and the window is\ndefined as including the end-points. This means to ensure that 0 and\n1.75 return 0, they need to be outside the interval defining the window;\nwe'll use `windows=[0.01, 1.749]`. Our modified global drive is then:\n"
      ]
    },
    {
      "cell_type": "code",
      "execution_count": null,
      "metadata": {
        "collapsed": false
      },
      "outputs": [],
      "source": [
        "amp_fn = qml.pulse.rect(gaussian_fn, windows=[0.01, 1.749])\nglobal_drive = qml.pulse.rydberg_drive(amplitude=amp_fn,\n                                       phase=0,\n                                       detuning=0,\n                                       wires=[0, 1, 2])"
      ]
    },
    {
      "cell_type": "markdown",
      "metadata": {},
      "source": [
        "At this point we could skip directly to defining a `qnode` using the\n`aquila` device and running our pulse program. However, before we do,\nlet's take a look at how our the parameters we've used to define our\npulse program will be converted into hardware upload data. It can be\nuseful to examine this to ensure your pulse program looks as you expect\nit to before paying for a hardware run.\n\nTo do this, we create the operator we will be using in our circuit, and\npass it to a method on the hardware device that creates an AHS program\nfor upload:\n"
      ]
    },
    {
      "cell_type": "code",
      "execution_count": null,
      "metadata": {
        "collapsed": false
      },
      "outputs": [],
      "source": [
        "op = qml.evolve(H_interaction + global_drive)(params, ts)\nahs_program = aquila.create_ahs_program(op)"
      ]
    },
    {
      "cell_type": "markdown",
      "metadata": {},
      "source": [
        "On a hardware device, the `create_ahs_program` method will modify both\nthe register and the pulses before upload (this method is called\ninternally when a circuit is run on the `aquila` device). Float\nvariables are rounded to specific, valid set points, producing a\ndiscretized version of the input (for example, atom locations in the\nregister lock into grid points). For this pulse, we're interested in the\namplitude and the register.\n\nFor the register, recall that we defined our coordinates in micrometres\nas `[(0, 0), (5, 0), (2.5, 4.330127018922194)]`, and that we expect the\nhardware upload program to be in SI units, i.e. micrometres have been\nconverted to metres. We can access the\n`ahs_program.register.coordinate_list` to see the $x$ and $y$\ncoordinates that will be passed to hardware, and plot them against the\ncoordinates in the register we defined for the Hamiltonian:\n"
      ]
    },
    {
      "cell_type": "code",
      "execution_count": null,
      "metadata": {
        "collapsed": false
      },
      "outputs": [],
      "source": [
        "ahs_x_coordinates = ahs_program.register.coordinate_list(0)\nahs_y_coordinates = ahs_program.register.coordinate_list(1)\n\nop_register = op.H.settings.register\nop_x_coordinates = [x * 1e-6 for x, _ in op_register]\nop_y_coordinates = [y * 1e-6 for _, y in op_register]\n\nplt.scatter(ahs_x_coordinates, ahs_y_coordinates, label=\"AHS program\")\nplt.scatter(op_x_coordinates, op_y_coordinates, marker=\"x\", label=\"Input register\")\nplt.xlabel(\"\u03bcm\")\nplt.ylabel(\"\u03bcm\")\nplt.legend()"
      ]
    },
    {
      "cell_type": "markdown",
      "metadata": {},
      "source": [
        "![](../demonstrations/ahs_aquila/rydberg_blockade_coordinates_discretized.png){.align-center\nwidth=\"50.0%\"}\n\nWe can see that the final y-coordinate has been shifted ever so slightly\nwhen discretizing. We're happy with this very minor change, but more\nintricate atom layouts, small adjustments in coordinates could have a\nmeaningful impact in executing the program.\n\nLet's also look at the amplitude data. We can access the set-points for\nhardware upload from the program as\n`ahs_program.hamiltonian.amplitude.time_series`, which contains both the\n`times()` and `values()` for set-points. The `amplitude` can be switched\nfor `phase` or `detuning` to access other relevant quantities.\n"
      ]
    },
    {
      "cell_type": "code",
      "execution_count": null,
      "metadata": {
        "collapsed": false
      },
      "outputs": [],
      "source": [
        "# hardware set-points after conversion and discretization\namp_setpoints = ahs_program.hamiltonian.amplitude.time_series\n\n# values for plotting the function defined in PennyLane for amplitude\ninput_times = np.linspace(*ts, 1000)\ninput_amplitudes = [\n    qml.pulse.rect(gaussian_fn, windows=[0.01, 1.749])(amplitude_params, _t)\n    for _t in np.linspace(*ts, 1000)\n]\n\n# plot PL input and hardware setpoints for comparison\nfig, (ax1, ax2) = plt.subplots(1, 2)\nax1.plot(input_times, input_amplitudes)\nax1.set_xlabel(\"Time [$\\mu s$]\")\nax1.set_ylabel(\"MHz\")\nax1.set_title(\"gaussian_fn\")\n\nax2.plot(amp_setpoints.times(), amp_setpoints.values())\nax2.set_xlabel(\"Time [s]\")\nax2.set_ylabel(\"rad/s\")\nax2.set_title(\"upload data\")\n\nplt.tight_layout()\nplt.show()"
      ]
    },
    {
      "cell_type": "markdown",
      "metadata": {},
      "source": [
        "![](../demonstrations/ahs_aquila/gaussian_fn_vs_upload.png){.align-center\nwidth=\"50.0%\"}\n\nSince we are happy with this, let us send this task to hardware now. If\nthere are any issues we've missed regarding ensuring the upload data is\nhardware compatible, we will be informed immediately. Otherwise, the\ntask will be sent to the remote hardware; it will be run when the\nhardware is online and we reach the front of the queue.\n\nTo run this without connecting to the hardware, switch the aquila device\nout with the `rydberg_simulator` below. Note that running on hardware is\na paid service and will incur a fee.\n"
      ]
    },
    {
      "cell_type": "code",
      "execution_count": null,
      "metadata": {
        "collapsed": false
      },
      "outputs": [],
      "source": [
        "# @qml.qnode(rydberg_simulator)\n@qml.qnode(aquila)\ndef circuit(params):\n    qml.evolve(H_interaction + global_drive)(params, ts)\n    return qml.counts()\n\n\ncircuit(params)"
      ]
    },
    {
      "cell_type": "markdown",
      "metadata": {},
      "source": [
        "::: {.rst-class}\nsphx-glr-script-out\n\nOut:\n\n``` {.none}\n{'000': 71, '001': 296, '010': 321, '100': 312}\n```\n:::\n\nWe observe the same pattern on the hardware that we can see in\nsimulation---a single excitation amongst the three atoms within the\nblockade distance of one another. On hardware, it is possible to scale\nmodels beyond what is feasible to simulate; while simulation can\\'t\nhandle large numbers of qubits, the Aquila QPU can be initialized with\nup to 256 qubits!\n\nConclusion\n==========\n\nRydberg atom systems are an interesting and developing field within\nquantum computing. It is now possible to connect to the Aquila QPU via\nPennyLane and Amazon Braket, and perform measurements on hardware with\nup to 256 qubits. Programs for the Aquila hardware can be defined using\nPennyLane\\'s `~pennylane.pulse`{.interpreted-text role=\"mod\"} module,\nallowing users to define time-dependent control of pulse parameters.\n\nInterfacing with the Aquila hardware provides an opportunity to take a\nsmall model of a concept that has been tested in simulation, and scale\nup to run on up to 256 qubits on hardware. Manipulating Rydberg atom\nsystems through pulse-level control has applications in probing new\nareas of fundamental physics---like simulating quantum spin liquids at\nscales where it is not possible to classically simulate the quantum\ndynamics of the full experimental system![^1][^2]\n\nHere we have demonstrated a simple, amplitude-only pulse implementing\nthe quintessential behaviour of Rydberg atom systems: Rydberg blockade.\nIntroducing phase and detuning to create a more complex drive\nHamiltonian, and arranging atoms to create specific configurations of\ninter-atom interaction, allows more intricate systems to be studied.\n\nReferences\n==========\n\n[^1]: G.  Semeghini, H. Levine, A. Keesling, S. Ebadi, T.T. Wang, D.\n        Bluvstein, R. Verresen, H. Pichler,\n\n    M. Kalinowski, R. Samajdar, A. Omran, S. Sachdev, A. Vishwanath, M.\n    Greiner, V. Vuletic, M.D. Lukin \\\"Probing topological spin liquids\n    on a programmable quantum simulator\\\"\n    [arxiv.2104.04119](https://arxiv.org/abs/2104.04119), 2021.\n\n[^2]: Alexander Keesling, Eric Kessler, and Peter Komar \\\"AWS Quantum\n    Technologies Blog: Realizing quantum spin liquid phase on an analog\n    Hamiltonian Rydberg simulator\\\" [Amazon Quantum Computing\n    Blog](https://aws.amazon.com/blogs/quantum-computing/realizing-quantum-spin-liquid-phase-on-an-analog-hamiltonian-rydberg-simulator/),\n    2021.\n"
      ]
    },
    {
      "cell_type": "markdown",
      "metadata": {},
      "source": [
        "About the author\n================\n"
      ]
    }
  ],
  "metadata": {
    "kernelspec": {
      "display_name": "Python 3",
      "language": "python",
      "name": "python3"
    },
    "language_info": {
      "codemirror_mode": {
        "name": "ipython",
        "version": 3
      },
      "file_extension": ".py",
      "mimetype": "text/x-python",
      "name": "python",
      "nbconvert_exporter": "python",
      "pygments_lexer": "ipython3",
      "version": "3.9.16"
    }
  },
  "nbformat": 4,
  "nbformat_minor": 0
}