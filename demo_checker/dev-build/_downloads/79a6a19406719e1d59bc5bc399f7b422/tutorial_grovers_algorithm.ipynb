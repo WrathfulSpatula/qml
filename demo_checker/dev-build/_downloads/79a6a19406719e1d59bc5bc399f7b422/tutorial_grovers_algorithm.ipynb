{
  "cells": [
    {
      "cell_type": "code",
      "execution_count": null,
      "metadata": {
        "collapsed": false
      },
      "outputs": [],
      "source": [
        "# This cell is added by sphinx-gallery\n# It can be customized to whatever you like\n%matplotlib inline"
      ]
    },
    {
      "cell_type": "markdown",
      "metadata": {},
      "source": [
        "Grover\\'s Algorithm\n===================\n\n::: {.meta}\n:property=\\\"og:description\\\": Learn how to find an entry in a list using\nGrover\\'s Algorithm :property=\\\"og:image\\\":\n<https://pennylane.ai/qml/_images/thumbnail_tutorial_grovers_algorithm.png>\n:::\n\n::: {.related}\ntutorial\\_qft\\_arithmetics Basic arithmetic with the quantum Fourier\ntransform (QFT)\n:::\n\n*Author: Ludmila Botelho. --- Posted: 3 July 2023.*\n\nGrover\\'s Algorithm is an [oracle](https://codebook.xanadu.ai/A.2)-based\nquantum algorithm, proposed by Lov Grover. In the original description,\nthe author approaches the following problem: suppose that we are\nsearching for a specific phone number in a randomly-ordered catalogue\ncontaining $N$ entries. To find such a number with a probability of\n$\\frac{1}{2}$, a classical algorithm will need to check the list on\naverage $\\frac{N}{2}$ times.\n\nIn other words, the problem is defined by searching for an item on a\nlist with $N$ items given an Oracle access function $f(x)$. This\nfunction has the defining property that $f(x) = 1$ if $x$ is the item we\nare looking for, and $f(x) = 0$ otherwise. The solution to this\nblack-box search problem is proposed as a quantum algorithm that\nperforms $O(\\sqrt{N})$ oracular queries to the list with a high\nprobability of finding the answer, whereas any classical algorithm would\nrequire $O(N)$ queries.\n\nIn this tutorial, we are going to implement a search for an n-bit string\nitem using a quantum circuit based on Grover\\'s Algorithm.\n\nThe algorithm can be broken down into the following steps:\n\n1.  Prepare the initial state\n2.  Implement the Oracle\n3.  Apply the Grover diffusion operator\n4.  Repeat steps 2 and 3 approximately $\\frac{\\pi}{4}\\sqrt{N}$ times\n5.  Measure\n\nLet\\'s import the usual PennyLane and Numpy libraries to load the\nnecessary functions:\n"
      ]
    },
    {
      "cell_type": "code",
      "execution_count": null,
      "metadata": {
        "collapsed": false
      },
      "outputs": [],
      "source": [
        "import matplotlib.pyplot as plt\nimport pennylane as qml\nimport numpy as np"
      ]
    },
    {
      "cell_type": "markdown",
      "metadata": {},
      "source": [
        "Preparing the Initial State\n===========================\n\nTo perform the search, we are going to create an n-dimensional system,\nwhich has $N = 2^n$ computational basis states, represented via $N$\nbinary numbers. More specifically, bit strings with length $n$, labelled\nas $x_0,x_2,\\cdots, x_{N-1}$. We initialize the system in the uniform\nsuperposition over all states, i.e., the amplitudes associated with each\nof the $N$ basis states are equal:\n\n$$|s\\rangle ={\\frac {1}{\\sqrt {N}}}\\sum _{x=0}^{N-1}|x\\rangle .$$\n\nThis can be achieved by applying a Hadamard gate to all the wires. We\ncan inspect the circuit using `~.pennylane.Snapshot`{.interpreted-text\nrole=\"class\"} to see how the states change on each step. Let us check\nthe probability of finding a state in the computational basis for a\n2-qubit circuit, writing the following functions and QNodes:\n"
      ]
    },
    {
      "cell_type": "code",
      "execution_count": null,
      "metadata": {
        "collapsed": false
      },
      "outputs": [],
      "source": [
        "NUM_QUBITS = 2\ndev = qml.device(\"default.qubit\", wires=NUM_QUBITS)\nwires = list(range(NUM_QUBITS))\n\n\ndef equal_superposition(wires):\n    for wire in wires:\n        qml.Hadamard(wires=wire)\n\n\n@qml.qnode(dev)\ndef circuit():\n    qml.Snapshot(\"Initial state\")\n    equal_superposition(wires)\n    qml.Snapshot(\"After applying the Hadamard gates\")\n    return qml.probs(wires=wires)  # Probability of finding a computational basis state on the wires\n\n\nresults = qml.snapshots(circuit)()\n\nfor k, result in results.items():\n    print(f\"{k}: {result}\")"
      ]
    },
    {
      "cell_type": "markdown",
      "metadata": {},
      "source": [
        "Let\\'s use a bar plot to better visualize the initial state amplitudes:\n"
      ]
    },
    {
      "cell_type": "code",
      "execution_count": null,
      "metadata": {
        "collapsed": false
      },
      "outputs": [],
      "source": [
        "y = np.real(results[\"After applying the Hadamard gates\"])\nbit_strings = [f\"{x:0{NUM_QUBITS}b}\" for x in range(len(y))]\n\nplt.bar(bit_strings, y, color = \"#70CEFF\")\n\nplt.xticks(rotation=\"vertical\")\nplt.xlabel(\"State label\")\nplt.ylabel(\"Probability Amplitude\")\nplt.title(\"States probabilities amplitudes\")\nplt.show()"
      ]
    },
    {
      "cell_type": "markdown",
      "metadata": {},
      "source": [
        "As expected, they are equally distributed.\n\nThe Oracle and Grover\\'s diffusion operator\n===========================================\n\nLet\\'s assume for now that only one index satisfies $f(x) = 1$. We are\ngoing to call this index $\\omega$. To access $f(x)$ with an Oracle, we\ncan formulate a unitary operator such that\n\n$$\\begin{aligned}\n\\begin{cases}\nU_{\\omega }|x\\rangle =-|x\\rangle &{\\text{for }}x=\\omega {\\text{, that is, }}f(x)=1,\\\\U_{\\omega }|x\\rangle =|x\\rangle &{\\text{for }}x\\neq \\omega {\\text{, that is, }}f(x)=0,\n\\end{cases}\n\\end{aligned}$$\n\nwhere and $U_\\omega$ acts by flipping the phase of the solution state\nwhile keeping the remaining states untouched. In other words, the\nunitary $U_\\omega$ can be seen as a reflection around the set of\northogonal states to $\\vert \\omega \\rangle$, written as\n\n$$U_\\omega = \\mathbb{I} - 2\\vert \\omega \\rangle \\langle \\omega \\vert.$$\n\nThis can be easily implemented with\n`~.pennylane.FlipSign`{.interpreted-text role=\"class\"}, which takes a\nbinary array and flips the sign of the corresponding state.\n\nLet us take a look at an example. If we pass the array `[0,0]`, the sign\nof the state\n$\\vert 00 \\rangle = \\begin{bmatrix} 1 \\\\0 \\\\0 \\\\0 \\end{bmatrix}$ will\nflip:\n"
      ]
    },
    {
      "cell_type": "code",
      "execution_count": null,
      "metadata": {
        "collapsed": false
      },
      "outputs": [],
      "source": [
        "dev = qml.device(\"default.qubit\", wires=NUM_QUBITS)\n\n@qml.qnode(dev)\ndef circuit():\n    qml.Snapshot(\"Initial state |00>\")\n    # Flipping the marked state\n    qml.FlipSign([0, 0], wires=wires)\n    qml.Snapshot(\"After flipping it\")\n    return qml.state()\n\nresults = qml.snapshots(circuit)()\n\nfor k, result in results.items():\n    print(f\"{k}: {result}\")\n\ny1 = np.real(results[\"Initial state |00>\"])\ny2 = np.real(results[\"After flipping it\"])\n\nbit_strings = [f\"{x:0{NUM_QUBITS}b}\" for x in range(len(y))]\n\nplt.bar(bit_strings, y1, color = \"#70CEFF\")\nplt.bar(bit_strings, y2, color = \"#C756B2\")\n\nplt.xticks(rotation=\"vertical\")\nplt.xlabel(\"State label\")\nplt.ylabel(\"Probability Amplitude\")\nplt.title(\"States probabilities amplitudes\")\n\nplt.legend([\"Initial state |00>\", \"After flipping it\"])\nplt.axhline(y=0.0, color=\"k\", linestyle=\"-\")\nplt.show()"
      ]
    },
    {
      "cell_type": "markdown",
      "metadata": {},
      "source": [
        "We can see that the amplitude of the state $\\vert 01\\rangle$ flipped.\nNow, let us prepare the Oracle and inspect its action in the circuit.\n"
      ]
    },
    {
      "cell_type": "code",
      "execution_count": null,
      "metadata": {
        "collapsed": false
      },
      "outputs": [],
      "source": [
        "omega = np.zeros(NUM_QUBITS)\n\ndef oracle(wires, omega):\n    qml.FlipSign(omega, wires=wires)\n\ndev = qml.device(\"default.qubit\", wires=NUM_QUBITS)\n\n@qml.qnode(dev)\ndef circuit():\n    equal_superposition(wires)\n    qml.Snapshot(\"Before querying the Oracle\")\n\n    oracle(wires, omega)\n    qml.Snapshot(\"After querying the Oracle\")\n\n    return qml.probs(wires=wires)\n\nresults = qml.snapshots(circuit)()\n\nfor k, result in results.items():\n    print(f\"{k}: {result}\")"
      ]
    },
    {
      "cell_type": "code",
      "execution_count": null,
      "metadata": {
        "collapsed": false
      },
      "outputs": [],
      "source": [
        "y1 = np.real(results[\"Before querying the Oracle\"])\ny2 = np.real(results[\"After querying the Oracle\"])\n\nbit_strings = [f\"{x:0{NUM_QUBITS}b}\" for x in range(len(y1))]\n\nbar_width = 0.4\n\nrect_1 = np.arange(0, len(y1))\nrect_2 = [x + bar_width for x in rect_1]\n\nplt.bar(\n    rect_1,\n    y1,\n    width=bar_width,\n    edgecolor=\"white\",\n    color = \"#70CEFF\",\n    label=\"Before querying the Oracle\",\n)\nplt.bar(\n    rect_2,\n    y2,\n    width=bar_width,\n    edgecolor=\"white\",\n    color = \"#C756B2\",\n    label=\"After querying the Oracle\",\n)\n\nplt.xticks(rect_1 + 0.2, bit_strings, rotation=\"vertical\")\nplt.xlabel(\"State label\")\nplt.ylabel(\"Probability Amplitude\")\nplt.title(\"States probabilities amplitudes\")\n\nplt.legend()\nplt.show()"
      ]
    },
    {
      "cell_type": "markdown",
      "metadata": {},
      "source": [
        "We can see that the amplitude corresponding to the state\n$\\vert \\omega \\rangle$ changed. However, we need an additional step to\nfind the solution, since the probability of measuring any of the states\nremains equally distributed. This can be solved by applying the *Grover\ndiffusion* operator, defined as\n\n$$U_D = 2| s \\rangle\\langle s| - \\mathbb{I}.$$\n\nThe unitary $U_D$ also acts as a rotation, but this time through the\nuniform superposition $\\vert s \\rangle$. Finally, the combination of\n$U_{\\omega}$ with $U_D$ rotates the state $\\vert s \\rangle$ by an angle\nof $\\theta =2 \\arcsin{\\tfrac {1}{\\sqrt {N}}}$. For more geometric\ninsights about the Oracle and the diffusion operator, please refer to\nthis [codebook section](https://codebook.xanadu.ai/G.2).\n\n![](../demonstrations/grovers_algorithm/rotation.gif){.align-center\nwidth=\"70.0%\"}\n\nIn a 2-qubit circuit, the diffusion operator has a specific shape:\n\n![](../demonstrations/grovers_algorithm/diffusion_2_qubits.svg){.align-center\nwidth=\"90.0%\"}\n\nNow, we have all the building blocks to implement a single-item search\nin a 2-qubit circuit. We can verify in the circuit below that applying\nthe *Grover iterator* $U_D U_\\omega$ once is enough to solve the\nproblem.\n"
      ]
    },
    {
      "cell_type": "code",
      "execution_count": null,
      "metadata": {
        "collapsed": false
      },
      "outputs": [],
      "source": [
        "dev = qml.device(\"default.qubit\", wires=NUM_QUBITS)\n\n\ndef diffusion_operator(wires):\n    for wire in wires:\n        qml.Hadamard(wires=wire)\n        qml.PauliZ(wires=wire)\n    qml.ctrl(qml.PauliZ, 0)(wires=1)\n    for wire in wires:\n        qml.Hadamard(wires=wire)\n\n\n@qml.qnode(dev)\ndef circuit():\n    equal_superposition(wires)\n    qml.Snapshot(\"Uniform superposition |s>\")\n\n    oracle(wires, omega)\n    qml.Snapshot(\"State marked by Oracle\")\n    diffusion_operator(wires)\n\n    qml.Snapshot(\"Amplitude after diffusion\")\n    return qml.probs(wires=wires)\n\n\nresults = qml.snapshots(circuit)()\n\nfor k, result in results.items():\n    print(f\"{k}: {result}\")"
      ]
    },
    {
      "cell_type": "markdown",
      "metadata": {},
      "source": [
        "Searching for more items in a bigger list\n=========================================\n\nNow, let us consider the generalized problem with large $N$, accepting\n$M$ solutions, with $1 \\leq M \\leq N$. In this case, the optimal number\nof Grover iterations to find the solution is given by\n$r \\approx \\left \\lceil \\frac{\\pi}{4} \\sqrt{\\frac{N}{M}} \\right \\rceil$.\n\nFor more qubits, we can use the same function for the Oracle to mark the\ndesired states, and the diffusion operator takes a more general form:\n\n![](../demonstrations/grovers_algorithm/diffusion_n_qubits.svg){.align-center\nwidth=\"90.0%\"}\n\nwhich is easily implemented using\n`~.pennylane.GroverOperator`{.interpreted-text role=\"class\"}.\n\nFinally, we have all the tools to build the circuit for Grover\\'s\nAlgorithm, as we can see in the code below. For simplicity, we are going\nto search for the states $\\vert 0\\rangle ^{\\otimes n}$ and\n$\\vert 1\\rangle ^{\\otimes n}$, where $n = \\log_2 N$ is the number of\nqubits.\n"
      ]
    },
    {
      "cell_type": "code",
      "execution_count": null,
      "metadata": {
        "collapsed": false
      },
      "outputs": [],
      "source": [
        "NUM_QUBITS = 5\n\nomega = np.array([np.zeros(NUM_QUBITS), np.ones(NUM_QUBITS)])\n\nM = len(omega)\nN = 2**NUM_QUBITS\nwires = list(range(NUM_QUBITS))\n\ndev = qml.device(\"default.qubit\", wires=NUM_QUBITS)\n\n@qml.qnode(dev)\ndef circuit():\n    iterations = int(np.round(np.sqrt(N / M) * np.pi / 4))\n\n    # Initial state preparation\n    equal_superposition(wires)\n\n    # Grover's iterator\n    for _ in range(iterations):\n        for omg in omega:\n            oracle(wires, omg)\n        qml.templates.GroverOperator(wires)\n\n    return qml.probs(wires=wires)\n\n\nresults = qml.snapshots(circuit)()\n\nfor k, result in results.items():\n    print(f\"{k}: {result}\")"
      ]
    },
    {
      "cell_type": "markdown",
      "metadata": {},
      "source": [
        "Let us use a bar plot to visualize the probability to find the correct\nbitstring.\n"
      ]
    },
    {
      "cell_type": "code",
      "execution_count": null,
      "metadata": {
        "collapsed": false
      },
      "outputs": [],
      "source": [
        "y = results[\"execution_results\"]\nbit_strings = [f\"{x:0{NUM_QUBITS}b}\" for x in range(len(y))]\n\nplt.bar(bit_strings, results[\"execution_results\"], color = \"#70CEFF\")\n\nplt.xticks(rotation=\"vertical\")\nplt.xlabel(\"State label\")\nplt.ylabel(\"Probability\")\nplt.title(\"States probabilities\")\n\nplt.show()"
      ]
    },
    {
      "cell_type": "markdown",
      "metadata": {},
      "source": [
        "Conclusion\n==========\n\nIn conclusion, we have learned the basic steps of Grover\\'s algorithm\nand how to implement it to search $M$ items in a list of size $N$ with\nhigh probability.\n\nGrover\\'s algorithm in principle can be used to speed up more\nsophisticated computation, for instance, when used as a subroutine for\nproblems that require extensive search and is the basis of a whole\nfamily of algorithms, such as the [Amplitude\namplification](https://codebook.xanadu.ai/G.1) technique.\n\nIf you would like to learn more about Grover\\'s Algorithm, check out\n[this video](https://youtu.be/KeJqcnpPluc)!\n"
      ]
    },
    {
      "cell_type": "markdown",
      "metadata": {},
      "source": [
        "References\n==========\n\nAbout the author\n================\n"
      ]
    }
  ],
  "metadata": {
    "kernelspec": {
      "display_name": "Python 3",
      "language": "python",
      "name": "python3"
    },
    "language_info": {
      "codemirror_mode": {
        "name": "ipython",
        "version": 3
      },
      "file_extension": ".py",
      "mimetype": "text/x-python",
      "name": "python",
      "nbconvert_exporter": "python",
      "pygments_lexer": "ipython3",
      "version": "3.9.17"
    }
  },
  "nbformat": 4,
  "nbformat_minor": 0
}