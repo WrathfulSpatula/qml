{
  "cells": [
    {
      "cell_type": "code",
      "execution_count": null,
      "metadata": {
        "collapsed": false
      },
      "outputs": [],
      "source": [
        "# This cell is added by sphinx-gallery\n# It can be customized to whatever you like\n%matplotlib inline"
      ]
    },
    {
      "cell_type": "markdown",
      "metadata": {},
      "source": [
        "Qutrits and quantum algorithms\n==============================\n\n::: {.meta}\n:property=\\\"og:description\\\": Learn how to interpret the\nBernstein-Vazirani algorithm with qutrits :property=\\\"og:image\\\":\n<https://pennylane.ai/qml/_images/thumbnail_tutorial_qutrits_bernstein_vazirani.png>\n:::\n\n::: {.related}\n:::\n\n*Author: Guillermo Alonso-Linaje --- Posted: 9 May 2023. Last updated: 9\nMay 2023.*\n\nA qutrit is a basic quantum unit that can exist in a superposition of\nthree possible quantum states, represented as $|0\\rangle$, $|1\\rangle$,\nand $|2\\rangle$, which functions as a generalization of the qubit. There\nare many problems to which we can apply these units, among which we can\nhighlight an improved decomposition of the Toffoli gate. Using only\nqubits, it would take at least 6 CNOTs to decompose the gate, whereas\nwith qutrits it would be enough to use 3. This is one of the reasons why\nit is important to develop the intuition behind this basic unit of\ninformation, to see where qutrits can provide an advantage. The goal of\nthis demo is to start working with qutrits from an algorithmic point of\nview. To do so, we will start with the Bernstein--Vazirani algorithm,\nwhich we will initially explore using qubits, and later using qutrits.\n\nBernstein--Vazirani algorithm\n-----------------------------\n\nThe Bernstein--Vazirani algorithm is a quantum algorithm developed by\nEthan Bernstein and Umesh Vazirani. It was one of the first examples\nthat demonstrated an exponential advantage of a quantum computer over a\ntraditional one. So, in this first section we will understand the\nproblem that they tackled.\n\nSuppose there is some hidden bit string \\\"a\\\" that we are trying to\nlearn, and that we have access to a function $f(\\vec{x})$ that\nimplements the following scalar product:\n\n$$f(\\vec{x}) := \\vec{a}\\cdot\\vec{x} \\pmod 2,$$\n\nwhere $\\vec{a}=(a_0,a_1,...,a_{n-1})$ and\n$\\vec{x}=(x_0,x_1,...,x_{n-1})$ are bit strings of length $n$ with\n$a_i, x_i \\in \\{0,1\\}$. Our challenge will be to discover the hidden\nvalue of $\\vec{a}$ by using the function $f$. We don\\'t know anything\nabout $\\vec{a}$ so the only thing we can do is to evaluate $f$ at\ndifferent points $\\vec{x}$ with the idea of gaining hidden information.\n\nTo give an example, let\\'s imagine that we take $\\vec{x}=(1,0,1)$ and\nget the value $f(\\vec{x}) = 0$. Although it may not seem obvious,\nknowing the structure that $f$ has, this gives us some information about\n$\\vec{a}$. In this case, $a_0$ and $a_2$ have the same value. This is\nbecause taking that value of $\\vec{x}$, the function will be equivalent\nto $a_0 + a_2 \\pmod 2$, which will only take the value 0 if they are\nequal. I invite you to take your time to think of a possible strategy\n(at the classical level) in order to determine $\\vec{a}$ with the\nminimum number of evaluations of the function $f$.\n\nThe optimal solution requires only $n$ calls to the function! Let\\'s see\nhow we can do this. Knowing the form of $\\vec{a}$ and $\\vec{x}$, we can\nrewrite $f$ as:\n\n$$f(\\vec{x})=\\sum_{i=0}^{n-1}a_ix_i \\pmod 2.$$\n\nThe strategy will be to deduce one element of $\\vec{a}$ with each call\nto the function. Imagine that we want to determine the value $a_i$. We\ncan simply choose $\\vec{x}$ as a vector of all zeros except a one in the\ni-th position, since in this case:\n\n$$f(\\vec{x})= 0\\cdot a_0 + 0\\cdot a_1 + ... + 1\\cdot a_i + ... + 0\\cdot a_{n-1} \\pmod 2 \\quad= a_i.$$\n\nIt is trivial to see, therefore, that $n$ evaluations of $f$ are needed.\nThe question is: can we do it more efficiently with a quantum computer?\nThe answer is yes, and in fact, we only need to make one call to the\nfunction!\n\nThe first step is to see how we can represent this statement in a\ncircuit. In this case, we will assume that we have an oracle $U_f$ that\nencodes the function, as we can see in the picture below.\n\n![Oracle representation of the\nfunction.](../demonstrations/qutrits_bernstein_vazirani/oracle_qutrit.jpg){.align-center}\n\nIn general, $U_f$ sends the state $|\\vec{x} \\rangle |y\\rangle$ to the\nstate $| \\vec{x} \\rangle |y + \\vec{a} \\cdot \\vec{x} \\pmod{2} \\rangle$.\n\nSuppose, for example, that $\\vec{a}=[0,1,0]$. Then\n$U_f|111\\rangle |0\\rangle = |111\\rangle|1\\rangle$, since we are\nevaluating $f$ at the point $\\vec{x} = [1,1,1]$. The scalar product\nbetween the two values is $1$, so the last qubit of the output will take\nthe value $1$.\n\nThe Bernstein--Vazirani algorithm makes use of this oracle according to\nthe following circuit:\n\n![Bernstein--Vazirani\nalgorithm.](../demonstrations/qutrits_bernstein_vazirani/bernstein_vazirani_algorithm.jpg){.align-center}\n\nWhat we can see is that, by simply using Hadamard gates before and after\nthe oracle, after a single run, the output of the circuit is exactly the\nhidden value of $\\vec{a}$. Let\\'s do a little math to verify that this\nis so.\n\nFirst, the input to our circuit is $|0001\\rangle$. The second step is to\napply Hadamard gates to this state, and for this we must use the\nfollowing property:\n\n$$H^{\\otimes n}|\\vec{x}\\rangle = \\frac{1}{\\sqrt{2^n}}\\sum_{\\vec{z} \\in \\{0,1\\}^n}(-1)^{\\vec{x}\\cdot\\vec{z}}|\\vec{z}\\rangle.$$\n\nTaking as input the value $|0001\\rangle$, we obtain the state\n\n$$|\\phi_1\\rangle=H^{\\otimes 4}|0001\\rangle = H^{\\otimes 3}|000\\rangle\\otimes H|1\\rangle = \\frac{1}{\\sqrt{2^3}}\\left(\\sum_{z \\in \\{0,1\\}^3}|\\vec{z}\\rangle\\right)\\left(\\frac{|0\\rangle-|1\\rangle}{\\sqrt{2}}\\right).$$\n\nAs you can see, we have separated the first three qubits from the fourth\nfor clarity. If we now apply our operator $U_f$,\n\n$$|\\phi_2\\rangle= U_f |\\phi_1\\rangle = \\frac{1}{\\sqrt{2^3}}\\left(\\sum_{\\vec{z} \\in \\{0,1\\}^3}|\\vec{z}\\rangle\\frac{|\\vec{a}\\cdot\\vec{z} \\pmod 2\\rangle-|1 + \\vec{a}\\cdot\\vec{z} \\pmod 2\\rangle}{\\sqrt{2}}\\right).$$\n\nDepending on the value of $f(\\vec{x})$, the final part of the expression\ncan take two values and it can be checked that\n\n$$|\\phi_2\\rangle = \\frac{1}{\\sqrt{2^3}}\\left(\\sum_{\\vec{z} \\in \\{0,1\\}^3}|\\vec{z}\\rangle(-1)^{\\vec{a}\\cdot\\vec{z}}\\frac{|0\\rangle-|1\\rangle}{\\sqrt{2}}\\right).$$\n\nThis is because, if $\\vec{a}\\cdot\\vec{z}$ takes the value $0$, we will\nhave the $\\frac{|0\\rangle - |1\\rangle}{\\sqrt{2}}$, and if it takes the\nvalue $1$, the result will be\n$\\frac{|1\\rangle - |0\\rangle}{\\sqrt{2}} = - \\frac{|0\\rangle - |1\\rangle}{\\sqrt{2}}$.\nTherefore, by calculating $(-1)^{\\vec{a}\\cdot\\vec{z}}$ we cover both\ncases. After this, we can include the $(-1)^{\\vec{a}\\cdot\\vec{z}}$\nfactor in the $|\\vec{z}\\rangle$ term and disregard the last qubit, since\nwe are not going to use it again:\n\n$$|\\phi_2\\rangle =\\frac{1}{\\sqrt{2^3}}\\sum_{\\vec{z} \\in \\{0,1\\}^3}(-1)^{\\vec{a}\\cdot\\vec{z}}|\\vec{z}\\rangle.$$\n\nNote that you cannot always disregard a qubit. In cases where there is\nentanglement with other qubits that is not possible, but in this case\nthe state is separable.\n\nFinally, we will reapply the property of the first step to calculate the\nresult after using the Hadamard:\n\n$$|\\phi_3\\rangle = H^{\\otimes 3}|\\phi_2\\rangle = \\frac{1}{2^3}\\sum_{\\vec{z} \\in \\{0,1\\}^3}(-1)^{\\vec{a}\\cdot\\vec{z}}\\left(\\sum_{\\vec{y} \\in \\{0,1\\}^3}(-1)^{\\vec{z}\\cdot\\vec{y}}|\\vec{y}\\rangle\\right).$$\n\nRearranging this expression, we obtain:\n\n$$|\\phi_3\\rangle  = \\frac{1}{2^3}\\sum_{\\vec{y} \\in \\{0,1\\}^3}\\left(\\sum_{\\vec{z} \\in \\{0,1\\}^3}(-1)^{\\vec{a}\\cdot\\vec{z}+\\vec{y}\\cdot\\vec{z}}\\right)|\\vec{y}\\rangle.$$\n\nPerfect! The only thing left to check is that, in fact, the previous\nstate is exactly $|\\vec{a}\\rangle$. It may seem complicated, but I\ninvite you to demonstrate it by showing that\n$\\langle \\vec{a}|\\phi_3\\rangle = 1$. Let\\'s go to the code and check\nthat it works.\n\nAlgorithm coding with qubits\n----------------------------\n\nWe will first code the classical solution. We will do this inside a\nquantum circuit to understand how to use the oracle, but we are really\njust programming the qubits as bits.\n"
      ]
    },
    {
      "cell_type": "code",
      "execution_count": null,
      "metadata": {
        "collapsed": false
      },
      "outputs": [],
      "source": [
        "import pennylane as qml\n\ndev = qml.device(\"default.qubit\", wires = 4, shots = 1)\n\ndef Uf():\n    # The oracle in charge of encoding a hidden \"a\" value.\n    qml.CNOT(wires=[1, 3])\n    qml.CNOT(wires=[2 ,3])\n\n\n@qml.qnode(dev)\ndef circuit0():\n    \"\"\"Circuit used to derive a0\"\"\"\n\n\n    # Initialize x = [1,0,0]\n    qml.PauliX(wires = 0)\n\n    # Apply our oracle\n\n    Uf()\n\n    # We measure the last qubit\n    return qml.sample(wires = 3)\n\n@qml.qnode(dev)\ndef circuit1():\n    # Circuit used to derive a1\n\n    # Initialize x = [0,1,0]\n    qml.PauliX(wires = 1)\n\n    # We apply our oracle\n    Uf()\n\n    # We measure the last qubit\n    return qml.sample(wires = 3)\n\n@qml.qnode(dev)\ndef circuit2():\n    # Circuit used to derive a2\n    # Initialize x = [0,0,1]\n    qml.PauliX(wires = 2)\n\n    # We apply our oracle\n    Uf()\n\n    # We measure the last qubit\n    return qml.sample(wires = 3)\n\n# We run for x = [1,0,0]\na0 = circuit0()\n\n# We run for x = [0,1,0]\na1 = circuit1()\n\n# We run for x = [0,0,1]\na2 = circuit2()\n\nprint(f\"The value of 'a' is [{a0},{a1},{a2}]\")"
      ]
    },
    {
      "cell_type": "markdown",
      "metadata": {},
      "source": [
        "In this case, with 3 queries ($n=3$), we have discovered the value of\n$\\vec{a}$. Let\\'s run the Bernstein--Vazirani subroutine (using qubits\nas qubits this time) to check that one call is enough:\n"
      ]
    },
    {
      "cell_type": "code",
      "execution_count": null,
      "metadata": {
        "collapsed": false
      },
      "outputs": [],
      "source": [
        "@qml.qnode(dev)\ndef circuit():\n\n    # We initialize to |0001>\n    qml.PauliX(wires = 3)\n\n    # We run the Hadamards\n    for i in range(4):\n        qml.Hadamard(wires = i)\n\n    # We apply our function\n    Uf()\n\n    # We run the Hadamards\n    for i in range(3):\n        qml.Hadamard(wires = i)\n\n    # We measure the first 3 qubits\n    return qml.sample(wires = range(3))\n\na = circuit()\n\nprint(f\"The value of a is {a}\")"
      ]
    },
    {
      "cell_type": "markdown",
      "metadata": {},
      "source": [
        "Great! Everything works as expected, and we have successfully executed\nthe Bernstein--Vazirani algorithm. It is important to note that, because\nof how we defined our device, we are only using a single shot to find\nthis value!\n\nGeneralization to qutrits\n=========================\n\nTo make things more interesting, let\\'s imagine a new scenario. We are\ngiven a function of the form $f(\\vec{x}) := \\vec{a}\\cdot\\vec{x} \\pmod 3$\nwhere, $\\vec{a}=(a_0,a_1,...,a_{n-1})$ and\n$\\vec{x}=(x_0,x_1,...,x_{n-1})$ are strings of length $n$ with\n$a_i, x_i \\in \\{0,1,2\\}$. How can we minimize the number of calls to the\nfunction to discover $\\vec{a}$? In this case, the classical procedure to\ndetect the value of $\\vec{a}$ is the same as in the case of qubits: we\nwill evaluate the output of the inputs $[1,0,0]$, $[0,1,0]$ and\n$[0,0,1]$.\n\nBut how can we work with these kinds of functions in a simple way? To do\nthis we must use a qutrit and its operators. By using this new unit of\ninformation and unlocking the third orthogonal state, we will have\nstates represented with a vector of dimension $3^n$ and the operators\nwill be $3^n \\times 3^n$ matrices where $n$ is the number of qutrits.\nSpecifically, we will use the `~.pennylane.TShift`{.interpreted-text\nrole=\"class\"} gate, which is equivalent to the\n`~.pennylane.PauliX`{.interpreted-text role=\"class\"} gate for qutrits.\nIt has the following property:\n\n$$\\text{TShift}|0\\rangle = |1\\rangle$$\n\n$$\\text{TShift}|1\\rangle = |2\\rangle$$\n\n$$\\text{TShift}|2\\rangle = |0\\rangle$$\n\nThis means we can use this gate to initialize each of the states.\nAnother gate that we will use for the oracle definition is the\n`~.pennylane.TAdd`{.interpreted-text role=\"class\"} gate, which is the\ngeneralization of the `~.pennylane.Toffoli`{.interpreted-text\nrole=\"class\"} gate for qutrits. These generalizations simply adjust the\naddition operation to be performed in modulo 3 instead of modulo 2. So,\nwith these ingredients, we are ready to go to the code.\n"
      ]
    },
    {
      "cell_type": "code",
      "execution_count": null,
      "metadata": {
        "collapsed": false
      },
      "outputs": [],
      "source": [
        "dev = qml.device(\"default.qutrit\", wires=4, shots=1)\n\ndef Uf():\n    # The oracle in charge of encoding a hidden \"a\" value.\n    qml.TAdd(wires = [1,3])\n    qml.TAdd(wires = [1,3])\n    qml.TAdd(wires = [2,3])\n\n@qml.qnode(dev)\ndef circuit0():\n\n    # Initialize x = [1,0,0]\n    qml.TShift(wires = 0)\n\n    # We apply our oracle\n    Uf()\n\n    # We measure the last qutrit\n    return qml.sample(wires = 3)\n\n@qml.qnode(dev)\ndef circuit1():\n\n    # Initialize x = [0,1,0]\n    qml.TShift(wires = 1)\n\n    # We apply our oracle\n    Uf()\n\n    # We measure the last qutrit\n    return qml.sample(wires = 3)\n\n@qml.qnode(dev)\ndef circuit2():\n\n    # Initialize x = [0,0,1]\n    qml.TShift(wires = 2)\n\n    # We apply our oracle\n    Uf()\n\n    # We measure the last qutrit\n    return qml.sample(wires = 3)\n\n# Run to obtain the three trits of a\na0 = circuit0()\na1 = circuit1()\na2 = circuit2()\n\n\nprint(f\"The value of a is [{a0},{a1},{a2}]\")"
      ]
    },
    {
      "cell_type": "markdown",
      "metadata": {},
      "source": [
        "The question is, can we perform the same procedure as we have done\nbefore to find $\\vec{a}$ using a single shot? The Hadamard gate also\ngeneralizes to qutrits (also denoted as\n`~.pennylane.THadamard`{.interpreted-text role=\"class\"}), so we could\ntry to simply substitute it and see what happens!\n\nThe definition of the Hadamard gate in this space is:\n\n$$\\begin{aligned}\n\\text{THadamard}=\\frac{-i}{\\sqrt{3}}\\begin{pmatrix}\n1 & 1 & 1\\\\\n1 & w & w^2\\\\\n1 & w^2 & w\n\\end{pmatrix},\n\\end{aligned}$$\n\nwhere $w = e^{\\frac{2 \\pi i}{3}}$. Let\\'s go to the code and see how to\nrun this in PennyLane.\n"
      ]
    },
    {
      "cell_type": "code",
      "execution_count": null,
      "metadata": {
        "collapsed": false
      },
      "outputs": [],
      "source": [
        "@qml.qnode(dev)\ndef circuit():\n\n    # We initialize to |0001>\n    qml.TShift(wires = 3)\n\n    # We run the THadamard\n    for i in range(4):\n        qml.THadamard(wires = i)\n\n# We run the oracle\n    Uf()\n\n# We run the THadamard again\n    for i in range(3):\n        qml.THadamard(wires = i)\n\n    # We measure the first 3 qutrits\n    return qml.sample(wires = range(3))\n\na = circuit()\n\nprint(f\"The value of a is {a}\")"
      ]
    },
    {
      "cell_type": "markdown",
      "metadata": {},
      "source": [
        "Awesome! The Bernstein--Vazirani algorithm generalizes perfectly to\nqutrits! Let\\'s do the mathematical calculations again to check that it\ndoes indeed make sense.\n\nAs before, the input of our circuit is $|0001\\rangle$. We will then use\nthe Hadamard definition applied to qutrits:\n\n$$H^{\\otimes n}|\\vec{x}\\rangle = \\frac{1}{\\sqrt{3^n}}\\sum_{\\vec{z} \\in \\{0,1,2\\}^n}w^{\\vec{x}\\cdot\\vec{z}}|\\vec{z}\\rangle.$$\n\nIn this case, we are disregarding the global phase of $-i$ for\nsimplicity. Applying this to the state $|0001\\rangle$, we obtain\n\n$$|\\phi_1\\rangle=H^{\\otimes 4}|0001\\rangle = H^{\\otimes 3}|000\\rangle\\otimes H|1\\rangle = \\frac{1}{\\sqrt{3^3}}\\left(\\sum_{z \\in \\{0,1,2\\}^3}|\\vec{z}\\rangle\\frac{|0\\rangle+w|1\\rangle+w^2|2\\rangle}{\\sqrt{3}}\\right).$$\n\nAfter that, we apply the operator $U_f$ to obtain\n\n$$|\\phi_2\\rangle= U_f |\\phi_1\\rangle = \\frac{1}{\\sqrt{3^3}}\\left(\\sum_{\\vec{z} \\in \\{0,1,2\\}^3}|\\vec{z}\\rangle\\frac{|0 + \\vec{a}\\cdot\\vec{z} \\pmod 3 \\rangle+w|1+ \\vec{a}\\cdot\\vec{z} \\pmod 3 \\rangle+w^2|2+ \\vec{a}\\cdot\\vec{z} \\pmod 3 \\rangle}{\\sqrt{3}}\\right).$$\n\nDepending on the value of $f(\\vec{x})$, as before, we obtain three\npossible states:\n\n-   If $\\vec{a}\\cdot\\vec{z} = 0$, we have\n    $\\frac{1}{\\sqrt{3}}\\left(|0\\rangle+w|1\\rangle+w^2|2\\rangle\\right)$.\n-   If $\\vec{a}\\cdot\\vec{z} = 1$, we have\n    $\\frac{w^2}{\\sqrt{3}}\\left(|0\\rangle+|1\\rangle+w|2\\rangle\\right)$.\n-   If $\\vec{a}\\cdot\\vec{z} = 2$, we have\n    $\\frac{w}{\\sqrt{3}}\\left(|0\\rangle+w^2|1\\rangle+|2\\rangle\\right)$.\n\nBased on this, we can group the three states as\n$\\frac{1}{\\sqrt{3}}w^{-\\vec{a}\\cdot\\vec{z}}\\left(|0\\rangle+w|1\\rangle+w^2|2\\rangle\\right)$.\n\nAfter this, we can enter the coefficient in the $|\\vec{z}\\rangle$ term\nand, as before, disregard the last qutrit, since we are not going to use\nit again:\n\n$$|\\phi_2\\rangle =\\frac{1}{\\sqrt{3^3}}\\sum_{\\vec{z} \\in \\{0,1,2\\}^3}w^{-\\vec{a}\\cdot\\vec{z}}|\\vec{z}\\rangle.$$\n\nFinally, we reapply the THadamard:\n\n$$|\\phi_3\\rangle := H^{\\otimes 3}|\\phi_2\\rangle = \\frac{1}{3^3}\\sum_{\\vec{z} \\in \\{0,1,2\\}^3}w^{-\\vec{a}\\cdot\\vec{z}}\\left(\\sum_{\\vec{y} \\in \\{0,1,2\\}^3}w^{\\vec{z}\\cdot\\vec{y}}|\\vec{y}\\rangle\\right).$$\n\nRearranging this expression, we obtain:\n\n$$|\\phi_3\\rangle  = \\frac{1}{3^3}\\sum_{\\vec{y} \\in \\{0,1,2\\}^3}\\left(\\sum_{\\vec{z} \\in \\{0,1,2\\}^3}w^{-\\vec{a}\\cdot\\vec{z}+\\vec{y}\\cdot\\vec{z}}\\right)|\\vec{y}\\rangle.$$\n\nIn the same way as before, it can be easily checked that\n$\\langle \\vec{a}|\\phi_3\\rangle = 1$ and therefore, when measuring, one\nshot will be enough to obtain the value of $\\vec{a}$!\n\nConclusion\n==========\n\nIn this demo, we have practised the use of basic qutrit gates such as\nTShift or THadamard by applying the Bernstein--Vazirani algorithm. In\nthis case, the generalization has been straightforward and we have found\nthat it makes mathematical sense, but we cannot always substitute qubit\ngates for qutrit gates as we have seen in the demo. To give an easy\nexample of this, we know the property that $X = HZH$, but it turns out\nthat this property does not generalize! The general property is actually\n$X = H^{\\dagger}ZH$. In the case of qubits it holds that\n$H = H^{\\dagger}$, but in other dimensions it does not. I invite you to\ncontinue practising with other types of algorithms. For instance, will\nthe [Deutsch--Jozsa\nalgorithm](https://en.wikipedia.org/wiki/Deutsch\u2013Jozsa_algorithm)\ngeneralize well? Take a pen and paper and check it out!\n\nReferences\n==========\n\nAbout the author\n================\n"
      ]
    }
  ],
  "metadata": {
    "kernelspec": {
      "display_name": "Python 3",
      "language": "python",
      "name": "python3"
    },
    "language_info": {
      "codemirror_mode": {
        "name": "ipython",
        "version": 3
      },
      "file_extension": ".py",
      "mimetype": "text/x-python",
      "name": "python",
      "nbconvert_exporter": "python",
      "pygments_lexer": "ipython3",
      "version": "3.9.17"
    }
  },
  "nbformat": 4,
  "nbformat_minor": 0
}