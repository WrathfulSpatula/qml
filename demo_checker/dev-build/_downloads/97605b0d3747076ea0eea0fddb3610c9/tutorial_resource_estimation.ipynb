{
  "cells": [
    {
      "cell_type": "code",
      "execution_count": null,
      "metadata": {
        "collapsed": false
      },
      "outputs": [],
      "source": [
        "# This cell is added by sphinx-gallery\n# It can be customized to whatever you like\n%matplotlib inline"
      ]
    },
    {
      "cell_type": "markdown",
      "metadata": {},
      "source": [
        "Resource estimation for quantum chemistry\n=========================================\n\n::: {.meta}\n:property=\\\"og:description\\\": Learn how to estimate the number of qubits\nand gates needed to implement quantum algorithms :property=\\\"og:image\\\":\n<https://pennylane.ai/qml/_images/resource_estimation.jpeg>\n:::\n\n::: {.related}\ntutorial\\_quantum\\_chemistry Quantum chemistry with PennyLane\ntutorial\\_vqe A brief overview of VQE\n:::\n\n*Author: Soran Jahangiri --- Posted: 21 November 2022.*\n\nQuantum algorithms such as [quantum phase\nestimation](https://docs.pennylane.ai/en/stable/code/api/pennylane.QuantumPhaseEstimation.html)\n(QPE) and the [variational quantum\neigensolver](https://pennylane.ai/qml/demos/tutorial_vqe.html) (VQE) are\nwidely studied in quantum chemistry as potential avenues to tackle\nproblems that are intractable for conventional computers. However, we\ncurrently do not have quantum computers or simulators capable of\nimplementing large-scale versions of these algorithms. This makes it\ndifficult to properly explore their accuracy and efficiency for problem\nsizes where the actual advantage of quantum algorithms can potentially\noccur. Despite these difficulties, it is still possible to perform\n**resource estimation** to assess what we need to implement such quantum\nalgorithms.\n\nIn this demo, we describe how to use PennyLane\\'s resource estimation\nfunctionality to estimate the total number of logical qubits and gates\nrequired to implement the QPE algorithm for simulating molecular\nHamiltonians represented in first and second quantization. We focus on\n[non-Clifford gates](https://en.wikipedia.org/wiki/Clifford_gates),\nwhich are the most expensive to implement in a fault-tolerant setting.\nWe also explain how to estimate the total number of measurements needed\nto compute expectation values using algorithms such as VQE.\n\nQuantum Phase Estimation\n------------------------\n\nThe QPE algorithm can be used to compute the phase associated with an\neigenstate of a unitary operator. For the purpose of quantum simulation,\nthe unitary operator $U$ can be chosen to share eigenvectors with a\nmolecular Hamiltonian $H$, for example by setting $U = e^{-iH}$.\nEstimating the phase of such a unitary then permits recovering the\ncorresponding eigenvalue of the Hamiltonian. A conceptual QPE circuit\ndiagram is shown below.\n\n![Circuit representing the quantum phase estimation\nalgorithm.](/demonstrations/resource_estimation/qpe.png){.align-center\nwidth=\"60.0%\"}\n\nFor most cases of interest, this algorithm requires more qubits and\nlonger circuit depths than what can be implemented on existing hardware.\nThe PennyLane functionality in the\n`qml.resource <pennylane.resource>`{.interpreted-text role=\"mod\"} module\nallows us to estimate the number of logical qubits and the number of\nnon-Clifford gates that are needed to implement the algorithm. We can\nestimate these resources by simply defining system specifications and a\ntarget error for estimation. Let\\'s see how!\n\n### QPE cost for simulating molecules\n\nWe study the double low-rank Hamiltonian factorization algorithm of and\nuse its cost equations as provided in APPENDIX C of. This algorithm\nrequires the one- and two-electron\n[integrals](https://pennylane.ai/qml/demos/tutorial_differentiable_HF.html#the-hartree-fock-method)\nas input. These integrals can be obtained in different ways and here we\nuse PennyLane to compute them. We first need to define the atomic\nsymbols and coordinates for the given molecule. Let\\'s use the water\nmolecule at its equilibrium geometry with the [6-31g basis\nset](https://en.wikipedia.org/wiki/Basis_set_(chemistry)) as an example.\n"
      ]
    },
    {
      "cell_type": "code",
      "execution_count": null,
      "metadata": {
        "collapsed": false
      },
      "outputs": [],
      "source": [
        "import pennylane as qml\nfrom pennylane import numpy as np\n\nsymbols = ['O', 'H', 'H']\ngeometry = np.array([[0.00000000,  0.00000000,  0.28377432],\n                     [0.00000000,  1.45278171, -1.00662237],\n                     [0.00000000, -1.45278171, -1.00662237]], requires_grad=False)"
      ]
    },
    {
      "cell_type": "markdown",
      "metadata": {},
      "source": [
        "Then we construct a molecule object and compute the one- and\ntwo-electron integrals in the molecular orbital basis.\n"
      ]
    },
    {
      "cell_type": "code",
      "execution_count": null,
      "metadata": {
        "collapsed": false
      },
      "outputs": [],
      "source": [
        "mol = qml.qchem.Molecule(symbols, geometry, basis_name='6-31g')\ncore, one, two = qml.qchem.electron_integrals(mol)()"
      ]
    },
    {
      "cell_type": "markdown",
      "metadata": {},
      "source": [
        "We now create an instance of the\n`~.pennylane.resource.DoubleFactorization`{.interpreted-text\nrole=\"class\"} class\n"
      ]
    },
    {
      "cell_type": "code",
      "execution_count": null,
      "metadata": {
        "collapsed": false
      },
      "outputs": [],
      "source": [
        "algo = qml.resource.DoubleFactorization(one, two)"
      ]
    },
    {
      "cell_type": "markdown",
      "metadata": {},
      "source": [
        "and obtain the estimated number of non-Clifford gates and logical\nqubits.\n"
      ]
    },
    {
      "cell_type": "code",
      "execution_count": null,
      "metadata": {
        "collapsed": false
      },
      "outputs": [],
      "source": [
        "print(f'Estimated gates : {algo.gates:.2e} \\nEstimated qubits: {algo.qubits}')"
      ]
    },
    {
      "cell_type": "markdown",
      "metadata": {},
      "source": [
        "This estimation is for a target error that is set to the chemical\naccuracy, 0.0016 $\\text{Ha}$, by default. We can change the target error\nto a larger value which leads to a smaller number of non-Clifford gates\nand logical qubits.\n"
      ]
    },
    {
      "cell_type": "code",
      "execution_count": null,
      "metadata": {
        "collapsed": false
      },
      "outputs": [],
      "source": [
        "chemical_accuracy = 0.0016\nerror = chemical_accuracy * 10\nalgo = qml.resource.DoubleFactorization(one, two, error=error)\nprint(f'Estimated gates : {algo.gates:.2e} \\nEstimated qubits: {algo.qubits}')"
      ]
    },
    {
      "cell_type": "markdown",
      "metadata": {},
      "source": [
        "We can also estimate the number of non-Clifford gates with respect to\nthe threshold error values for discarding the negligible factors in the\nfactorized Hamiltonian and plot the estimated numbers.\n"
      ]
    },
    {
      "cell_type": "code",
      "execution_count": null,
      "metadata": {
        "collapsed": false
      },
      "outputs": [],
      "source": [
        "threshold = [10**-n for n in range(10)]\nn_gates = []\nn_qubits = []\n\nfor tol in threshold:\n    algo_ = qml.resource.DoubleFactorization(one, two, tol_factor=tol, tol_eigval=tol)\n    n_gates.append(algo_.gates)\n    n_qubits.append(algo_.qubits)\n\nimport matplotlib.pyplot as plt\n\nfig, ax = plt.subplots(figsize=(5, 3))\nax.plot(threshold, n_gates, ':o', markerfacecolor='none', color='teal')\n\nax.set_ylabel('n gates')\nax.set_xlabel('threshold')\nax.set_xscale('log')\nfig.tight_layout()"
      ]
    },
    {
      "cell_type": "markdown",
      "metadata": {},
      "source": [
        "QPE cost for simulating periodic materials\n==========================================\n\nFor periodic materials, we estimate the cost of implementing the QPE\nalgorithm of using Hamiltonians represented in first quantization and in\na plane wave basis. We first need to define the number of plane waves,\nthe number of electrons, and the lattice vectors that construct the unit\ncell of the periodic material. Let\\'s use dilithium iron silicate\n$\\text{Li}_2\\text{FeSiO}_4$ as an example taken from. For this material,\nthe unit cell contains 156 electrons and has dimensions\n$9.49 \\times 10.20 \\times 11.83$ in [atomic\nunits](https://en.wikipedia.org/wiki/Bohr_radius). We also use $10^5$\nplane waves.\n"
      ]
    },
    {
      "cell_type": "code",
      "execution_count": null,
      "metadata": {
        "collapsed": false
      },
      "outputs": [],
      "source": [
        "planewaves = 100000\nelectrons = 156\nvectors = np.array([[9.49,  0.00,  0.00],\n                    [0.00, 10.20,  0.00],\n                    [0.00,  0.00, 11.83]])"
      ]
    },
    {
      "cell_type": "markdown",
      "metadata": {},
      "source": [
        "We now create an instance of the\n`~.pennylane.resource.FirstQuantization`{.interpreted-text role=\"class\"}\nclass\n"
      ]
    },
    {
      "cell_type": "code",
      "execution_count": null,
      "metadata": {
        "collapsed": false
      },
      "outputs": [],
      "source": [
        "algo = qml.resource.FirstQuantization(planewaves, electrons, vectors=vectors)"
      ]
    },
    {
      "cell_type": "markdown",
      "metadata": {},
      "source": [
        "and obtain the estimated number of non-Clifford gates and logical\nqubits.\n"
      ]
    },
    {
      "cell_type": "code",
      "execution_count": null,
      "metadata": {
        "collapsed": false
      },
      "outputs": [],
      "source": [
        "print(f'Estimated gates : {algo.gates:.2e} \\nEstimated qubits: {algo.qubits}')"
      ]
    },
    {
      "cell_type": "markdown",
      "metadata": {},
      "source": [
        "We can also plot the estimated numbers as a function of the number of\nplane waves for different target errors\n"
      ]
    },
    {
      "cell_type": "code",
      "execution_count": null,
      "metadata": {
        "collapsed": false
      },
      "outputs": [],
      "source": [
        "error = [0.1, 0.01, 0.001]  # in atomic units\nplanewaves = [10 ** n for n in range(1, 10)]\nn_gates = []\nn_qubits = []\n\nfor er in error:\n    n_gates_ = []\n    n_qubits_ = []\n\n    for pw in planewaves:\n        algo_ = qml.resource.FirstQuantization(pw, electrons, vectors=vectors, error=er)\n        n_gates_.append(algo_.gates)\n        n_qubits_.append(algo_.qubits)\n    n_gates.append(n_gates_)\n    n_qubits.append(n_qubits_)\n\nfig, ax = plt.subplots(2, 1)\n\nfor i in range(len(n_gates)):\n    ax[0].plot(planewaves, n_gates[i], ':o', markerfacecolor='none', label=error[i])\nax[1].plot(planewaves, n_qubits[i], ':o', markerfacecolor='none', label=error[-1])\n\nax[0].set_ylabel('n gates')\nax[1].set_ylabel('n qubits')\n\nfor i in [0, 1]:\n    ax[i].set_xlabel('n planewaves')\n    ax[i].tick_params(axis='x')\n    ax[0].set_yscale('log')\n    ax[i].set_xscale('log')\n    ax[i].legend(title='error [Ha]')\n\nfig.tight_layout()"
      ]
    },
    {
      "cell_type": "markdown",
      "metadata": {},
      "source": [
        "The algorithm uses a decomposition of the Hamiltonian as a linear\ncombination of unitaries,\n\n$$H=\\sum_{i} c_i U_i.$$\n\nThe parameter $\\lambda=\\sum_i c_i$, which can be interpreted as the\n1-norm of the Hamiltonian, plays an important role in determining the\ncost of implementing the QPE algorithm. In PennyLane, the 1-norm of the\nHamiltonian can be obtained with\n"
      ]
    },
    {
      "cell_type": "code",
      "execution_count": null,
      "metadata": {
        "collapsed": false
      },
      "outputs": [],
      "source": [
        "print(f'1-norm of the Hamiltonian: {algo.lamb}')"
      ]
    },
    {
      "cell_type": "markdown",
      "metadata": {},
      "source": [
        "PennyLane allows you to get more detailed information about the cost of\nthe algorithms as explained in the documentation of\n`~.pennylane.resource.FirstQuantization`{.interpreted-text role=\"class\"}\nand `~.pennylane.resource.DoubleFactorization`{.interpreted-text\nrole=\"class\"} classes.\n\nVariational quantum eigensolver\n===============================\n\nIn variational quantum algorithms such as VQE, the expectation value of\nan observable is typically computed by decomposing the observable into a\nlinear combination of Pauli words, which are tensor products of Pauli\nand Identity operators. The expectation values are calculated through\nlinearity by measuring the expectation value for each of these terms and\ncombining the results. The number of qubits required for the measurement\nis trivially determined by the number of qubits the observable acts on.\nThe number of gates required to implement the variational algorithm is\ndetermined by a circuit ansatz that is also known a priori. However,\nestimating the number of circuit evaluations, i.e. the number of shots,\nrequired to achieve a certain error in computing the expectation value\nis not as straightforward. Let\\'s now use PennyLane to estimate the\nnumber of shots needed to compute the expectation value of the water\nHamiltonian.\n\nFirst, we construct the molecular Hamiltonian.\n"
      ]
    },
    {
      "cell_type": "code",
      "execution_count": null,
      "metadata": {
        "collapsed": false
      },
      "outputs": [],
      "source": [
        "H = qml.qchem.molecular_hamiltonian(symbols, geometry)[0]"
      ]
    },
    {
      "cell_type": "markdown",
      "metadata": {},
      "source": [
        "The number of measurements needed to compute\n$\\left \\langle H \\right \\rangle$ can be obtained with the\n`~.pennylane.resource.estimate_shots`{.interpreted-text role=\"func\"}\nfunction, which requires the Hamiltonian coefficients as input. The\nnumber of measurements required to compute\n$\\left \\langle H \\right \\rangle$ with a target error set to the chemical\naccuracy, 0.0016 $\\text{Ha}$, is obtained as follows.\n"
      ]
    },
    {
      "cell_type": "code",
      "execution_count": null,
      "metadata": {
        "collapsed": false
      },
      "outputs": [],
      "source": [
        "m = qml.resource.estimate_shots(H.coeffs)\nprint(f'Shots : {m:.2e}')"
      ]
    },
    {
      "cell_type": "markdown",
      "metadata": {},
      "source": [
        "This number corresponds to the measurement process where each term in\nthe Hamiltonian is measured independently. The number can be reduced by\nusing `~.pennylane.pauli.group_observables()`{.interpreted-text\nrole=\"func\"}, which partitions the Pauli words into groups of commuting\nterms that can be measured simultaneously.\n"
      ]
    },
    {
      "cell_type": "code",
      "execution_count": null,
      "metadata": {
        "collapsed": false
      },
      "outputs": [],
      "source": [
        "ops, coeffs = qml.pauli.group_observables(H.ops, H.coeffs)\n\nm = qml.resource.estimate_shots(coeffs)\nprint(f'Shots : {m:.2e}')"
      ]
    },
    {
      "cell_type": "markdown",
      "metadata": {},
      "source": [
        "It is also interesting to illustrate how the number of shots depends on\nthe target error.\n"
      ]
    },
    {
      "cell_type": "code",
      "execution_count": null,
      "metadata": {
        "collapsed": false
      },
      "outputs": [],
      "source": [
        "error = np.array([0.02, 0.015, 0.01, 0.005, 0.001])\nm = [qml.resource.estimate_shots(H.coeffs, error=er) for er in error]\n\ne_ = np.linspace(error[0], error[-1], num=50)\nm_ = 1.4e4 / np.linspace(error[0], error[-1], num=50)**2\n\nfig, ax = plt.subplots(figsize=(5, 3))\nax.plot(error, m, 'o', markerfacecolor='none', color='teal', label='estimated')\nax.plot(e_, m_, ':', markerfacecolor='none', color='olive', label='$ 1.4e4 * 1/\\epsilon^2 $')\n\nax.set_ylabel('shots')\nax.set_xlabel('error [Ha]')\nax.set_yscale('log')\nax.tick_params(axis='x', labelrotation = 90)\nax.legend()\nfig.tight_layout()"
      ]
    },
    {
      "cell_type": "markdown",
      "metadata": {},
      "source": [
        "We have added a line showing the dependency of the shots to the error,\nas $\\text{shots} = 1.4\\text{e}4 \\times 1/\\epsilon^2$, for comparison.\nCan you draw any interesting information form the plot?\n\nConclusions\n===========\n\nThis tutorial shows how to use the resource estimation functionality in\nPennyLane to compute the total number of non-Clifford gates and logical\nqubits required to simulate a Hamiltonian with quantum phase estimation\nalgorithms. The estimation can be performed for second-quantized\nmolecular Hamiltonians obtained with a double low-rank factorization\nalgorithm, and first-quantized Hamiltonians of periodic materials in the\nplane wave basis. We also discussed the estimation of the total number\nof shots required to obtain the expectation value of an observable using\nthe variational quantum eigensolver algorithm. The functionality allows\none to obtain interesting results about the cost of implementing\nimportant quantum algorithms. For instance, we estimated the costs with\nrespect to factors such as the target error in obtaining energies and\nthe number of basis functions used to simulate a system. Can you think\nof other interesting information that can be obtained using this\nPennyLane functionality?\n\nReferences\n==========\n\nAbout the author\n================\n"
      ]
    }
  ],
  "metadata": {
    "kernelspec": {
      "display_name": "Python 3",
      "language": "python",
      "name": "python3"
    },
    "language_info": {
      "codemirror_mode": {
        "name": "ipython",
        "version": 3
      },
      "file_extension": ".py",
      "mimetype": "text/x-python",
      "name": "python",
      "nbconvert_exporter": "python",
      "pygments_lexer": "ipython3",
      "version": "3.9.17"
    }
  },
  "nbformat": 4,
  "nbformat_minor": 0
}