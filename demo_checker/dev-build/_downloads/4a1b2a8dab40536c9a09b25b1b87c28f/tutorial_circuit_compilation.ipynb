{
  "cells": [
    {
      "cell_type": "code",
      "execution_count": null,
      "metadata": {
        "collapsed": false
      },
      "outputs": [],
      "source": [
        "# This cell is added by sphinx-gallery\n# It can be customized to whatever you like\n%matplotlib inline"
      ]
    },
    {
      "cell_type": "markdown",
      "metadata": {},
      "source": [
        "Compilation of quantum circuits\n===============================\n\n::: {.meta}\n:property=\\\"og:description\\\": Learn about circuit transformations and\nquantum circuit compilation with PennyLane :property=\\\"og:image\\\":\n<https://pennylane.ai/qml/_images/thumbnail_tutorial_circuit_compilation.png>\n:::\n\n::: {.related}\ntutorial\\_quantum\\_circuit\\_cutting Introduction to circuit cutting\n:::\n\n*Author: Borja Requena --- Posted: 14 June 2023.*\n\nQuantum circuits take many different forms from the moment we design\nthem to the point where they are ready to run on a quantum device. These\nchanges happen during the compilation process of the quantum circuits,\nwhich relies on the fact that there are many equivalent representations\nof quantum circuits that use different sets of gates but provide the\nsame output.\n\nOut of those representations, we are typically interested in finding the\nmost suitable one for our purposes. For example, we usually look for the\none that will incur the least amount of errors in the specific hardware\non which we are compiling the circuit. This usually implies decomposing\nthe quantum gates in terms of the native ones of the quantum device,\nadapting the operations to the hardrware\\'s topology, combining them to\nreduce the circuit depth, etc.\n\nA crucial part of the compilation process consists of repeatedly\nperforming minor circuit modifications. In PennyLane, we can apply\n`~pennylane.transforms`{.interpreted-text role=\"mod\"} to our quantum\nfunctions in order to obtain equivalent ones that may be more convenient\nfor our task. In this tutorial, we introduce the most fundamental\ntransforms involved in the compilation of quantum circuits.\n\nCircuit transforms\n------------------\n\nWhen we implement quantum algorithms, it is typically in our best\ninterest that the resulting circuits are as shallow as possible,\nespecially with the currently available noisy quantum devices. However,\nthey are often more complex than needed, containing multiple operations\nthat could be combined to reduce the circuit complexity, although it is\nnot always obvious. Here, we introduce three simple\n`~pennylane.transforms`{.interpreted-text role=\"mod\"} that can be\nimplemented together to obtain simpler quantum circuits. The transforms\nare based on very basic circuit equivalences:\n\n![](../demonstrations/circuit_compilation/circuit_transforms.jpg){.align-center\nwidth=\"90.0%\"}\n\nTo illustrate their combined effect, let us consider the following\ncircuit.\n"
      ]
    },
    {
      "cell_type": "code",
      "execution_count": null,
      "metadata": {
        "collapsed": false
      },
      "outputs": [],
      "source": [
        "from functools import partial\nimport pennylane as qml\nimport matplotlib.pyplot as plt\n\ndev = qml.device(\"default.qubit\", wires=3)\n\n\ndef circuit(angles):\n    qml.Hadamard(wires=1)\n    qml.Hadamard(wires=2)\n    qml.RX(angles[0], 0)\n    qml.CNOT(wires=[1, 0])\n    qml.CNOT(wires=[2, 1])\n    qml.RX(angles[2], wires=0)\n    qml.RZ(angles[1], wires=2)\n    qml.CNOT(wires=[2, 1])\n    qml.RZ(-angles[1], wires=2)\n    qml.CNOT(wires=[1, 0])\n    qml.Hadamard(wires=1)\n    qml.CY(wires=[1, 2])\n    qml.CNOT(wires=[1, 0])\n    return qml.expval(qml.PauliZ(wires=0))\n\n\nangles = [0.1, 0.3, 0.5]\nqnode = qml.QNode(circuit, dev)\nqml.draw_mpl(qnode, decimals=1, style=\"sketch\")(angles)\nplt.show()"
      ]
    },
    {
      "cell_type": "markdown",
      "metadata": {},
      "source": [
        "Given an arbitrary quantum circuit, it is usually hard to clearly\nunderstand what is really happening. To obtain a better picture, we can\nshuffle the commuting operations to better distinguish between groups of\nsingle-qubit and two-qubit gates. We can easily do so by applying the\n`~pennylane.transforms.commute_controlled`{.interpreted-text\nrole=\"func\"} transform, which pushes all single-qubit gates towards a\n`direction` (defaults to the right).\n"
      ]
    },
    {
      "cell_type": "code",
      "execution_count": null,
      "metadata": {
        "collapsed": false
      },
      "outputs": [],
      "source": [
        "commuted_circuit = qml.transforms.commute_controlled(circuit, direction=\"right\")\n\nqnode = qml.QNode(commuted_circuit, dev)\nqml.draw_mpl(qnode, decimals=1, style=\"sketch\")(angles)\nplt.show()"
      ]
    },
    {
      "cell_type": "markdown",
      "metadata": {},
      "source": [
        "With this rearrangement, we can clearly identify a few operations that\ncan be merged together. For instance, the two consecutive CNOT gates\nfrom the third to the second qubits will cancel each other out. We can\nremove these with the\n`~pennylane.transforms.cancel_inverses`{.interpreted-text role=\"func\"}\ntransform, which removes consecutive inverse operations.\n"
      ]
    },
    {
      "cell_type": "code",
      "execution_count": null,
      "metadata": {
        "collapsed": false
      },
      "outputs": [],
      "source": [
        "cancelled_circuit = qml.transforms.cancel_inverses(commuted_circuit)\n\n\nqnode = qml.QNode(cancelled_circuit, dev)\nqml.draw_mpl(qnode, decimals=1, style=\"sketch\")(angles)\nplt.show()"
      ]
    },
    {
      "cell_type": "markdown",
      "metadata": {},
      "source": [
        "Consecutive rotations along the same axis can also be merged. For\nexample, we can combine the two `~pennylane.RX`{.interpreted-text\nrole=\"class\"} rotations on the first qubit into a single one with the\nsum of the angles. Additionally, the two\n`~pennylane.RZ`{.interpreted-text role=\"class\"} rotations on the third\nqubit will cancel each other. We can combine these rotations with the\n`~pennylane.transforms.merge_rotations`{.interpreted-text role=\"func\"}\ntransform. We can choose which rotations to merge with `include_gates`\n(defaults to `None`, meaning all). Furthermore, the merged rotations\nwith a resulting angle lower than `atol` are directly removed.\n"
      ]
    },
    {
      "cell_type": "code",
      "execution_count": null,
      "metadata": {
        "collapsed": false
      },
      "outputs": [],
      "source": [
        "merged_circuit = qml.transforms.merge_rotations(cancelled_circuit, atol=1e-8, include_gates=None)\n\n\nqnode = qml.QNode(merged_circuit, dev)\nqml.draw_mpl(qnode, decimals=1, style=\"sketch\")(angles)\nplt.show()"
      ]
    },
    {
      "cell_type": "markdown",
      "metadata": {},
      "source": [
        "Combining these simple circuit transforms, we have reduced the\ncomplexity of our original circuit. This will make it faster to execute\nand less prone to errors. However, there is still room for improvement.\nLet\\'s take it a step further in the following section!\n\nAs a final remark, we can directly apply the transforms to our quantum\nfunction when we define it using their decorator forms (beware the\nreverse order!).\n"
      ]
    },
    {
      "cell_type": "code",
      "execution_count": null,
      "metadata": {
        "collapsed": false
      },
      "outputs": [],
      "source": [
        "@qml.qnode(dev)\n@partial(qml.transforms.merge_rotations, atol=1e-8, include_gates=None)\n@qml.transforms.cancel_inverses\n@partial(qml.transforms.commute_controlled, direction=\"right\")\ndef q_fun(angles):\n    qml.Hadamard(wires=1)\n    qml.Hadamard(wires=2)\n    qml.RX(angles[0], 0)\n    qml.CNOT(wires=[1, 0])\n    qml.CNOT(wires=[2, 1])\n    qml.RX(angles[2], wires=0)\n    qml.RZ(angles[1], wires=2)\n    qml.CNOT(wires=[2, 1])\n    qml.RZ(-angles[1], wires=2)\n    qml.CNOT(wires=[1, 0])\n    qml.Hadamard(wires=1)\n    qml.CY(wires=[1, 2])\n    qml.CNOT(wires=[1, 0])\n    return qml.expval(qml.PauliZ(wires=0))\n\n\nqml.draw_mpl(q_fun, decimals=1, style=\"sketch\")(angles)\nplt.show()"
      ]
    },
    {
      "cell_type": "markdown",
      "metadata": {},
      "source": [
        "Circuit compilation\n===================\n\nRearranging and combining operations is an essential part of circuit\ncompilation. Indeed, it is usually performed repeatedly as the compiler\ndoes multiple *passes* over the circuit. During every pass, the compiler\napplies a series of circuit transforms to obtain better and better\ncircuit representations.\n\nWe can apply all the transforms introduced above with the\n`~pennylane.compile`{.interpreted-text role=\"func\"} function, which\nyields the same final circuit.\n"
      ]
    },
    {
      "cell_type": "code",
      "execution_count": null,
      "metadata": {
        "collapsed": false
      },
      "outputs": [],
      "source": [
        "compiled_circuit = qml.compile(circuit)\n\nqnode = qml.QNode(compiled_circuit, dev)\nqml.draw_mpl(qnode, decimals=1, style=\"sketch\")(angles)\nplt.show()"
      ]
    },
    {
      "cell_type": "markdown",
      "metadata": {},
      "source": [
        "In the resulting circuit, we can identify further operations that can be\ncombined, such as the consecutive CNOT gates applied from the second to\nthe first qubit. To do so, we would simply need to apply the same\ntransforms again in a second pass of the compiler. We can adjust the\ndesired number of passes with `num_passes`.\n\nLet us see the resulting circuit with two passes.\n"
      ]
    },
    {
      "cell_type": "code",
      "execution_count": null,
      "metadata": {
        "collapsed": false
      },
      "outputs": [],
      "source": [
        "compiled_circuit = qml.compile(circuit, num_passes=2)\n\nqnode = qml.QNode(compiled_circuit, dev)\nqml.draw_mpl(qnode, decimals=1, style=\"sketch\")(angles)\nplt.show()"
      ]
    },
    {
      "cell_type": "markdown",
      "metadata": {},
      "source": [
        "This can be further simplified with an additional pass of the compiler.\nIn this case, we also define explicitly the transforms to be applied by\nthe compiler with the `pipeline` argument. This allows us to control the\ntransforms, their parameters, and the order in which they are applied.\nFor example, let\\'s apply the same transforms in a different order,\nshift the single-qubit gates towards the opposite direction, and only\nmerge `~pennylane.RZ`{.interpreted-text role=\"class\"} rotations.\n"
      ]
    },
    {
      "cell_type": "code",
      "execution_count": null,
      "metadata": {
        "collapsed": false
      },
      "outputs": [],
      "source": [
        "compiled_circuit = qml.compile(\n    circuit,\n    pipeline=[\n        partial(qml.transforms.commute_controlled, direction=\"left\"),  # Opposite direction\n        partial(qml.transforms.merge_rotations, include_gates=[\"RZ\"]),  # Different threshold\n        qml.transforms.cancel_inverses,  # Cancel inverses after rotations\n    ],\n    num_passes=3,\n)\n\nqnode = qml.QNode(compiled_circuit, dev)\nqml.draw_mpl(qnode, decimals=1, style=\"sketch\")(angles)\nplt.show()"
      ]
    },
    {
      "cell_type": "markdown",
      "metadata": {},
      "source": [
        "Notice how the `~pennylane.RX`{.interpreted-text role=\"class\"} gates on\nthe first qubit have been pushed towards the left and they have not been\nmerged, unlike in the previous cases.\n\nFinally, we can specify a finite basis of gates to describe the circuit\nby providing a `basis_set`. For example, suppose we wish to run our\ncircuit on a device that can only implement single-qubit rotations and\nCNOT operations. In this case, the compiler will need to decompose the\ngates in terms of our basis, then apply the transforms.\n"
      ]
    },
    {
      "cell_type": "code",
      "execution_count": null,
      "metadata": {
        "collapsed": false
      },
      "outputs": [],
      "source": [
        "compiled_circuit = qml.compile(circuit, basis_set=[\"CNOT\", \"RX\", \"RY\", \"RZ\"], num_passes=2)\n\nqnode = qml.QNode(compiled_circuit, dev)\nqml.draw_mpl(qnode, decimals=1, style=\"sketch\")(angles)\nplt.show()"
      ]
    },
    {
      "cell_type": "markdown",
      "metadata": {},
      "source": [
        "We can see how the Hadamard and control-Y gates have been decomposed\ninto a series of single-qubit rotations and CNOT gates. We\\'re ready to\nrun our circuit on the quantum device. Great job!\n\nConclusion\n==========\n\nIn this tutorial, we have learned the basic principles of the\ncompilation of quantum circuits. Combining simple circuit transforms\nthat are applied repeatedly during each pass of the compiler, we can\nsignificantly reduce the complexity of our quantum circuits.\n\nTo continue learning, you can explore other circuit transformations\npresent in the PennyLane `~pennylane.transforms`{.interpreted-text\nrole=\"mod\"} module. Furthermore, you can even learn how to create your\nown in [this\nblogpost](https://pennylane.ai/blog/2021/08/how-to-write-quantum-function-transforms-in-pennylane/).\n\nAbout the author\n================\n"
      ]
    }
  ],
  "metadata": {
    "kernelspec": {
      "display_name": "Python 3",
      "language": "python",
      "name": "python3"
    },
    "language_info": {
      "codemirror_mode": {
        "name": "ipython",
        "version": 3
      },
      "file_extension": ".py",
      "mimetype": "text/x-python",
      "name": "python",
      "nbconvert_exporter": "python",
      "pygments_lexer": "ipython3",
      "version": "3.9.18"
    }
  },
  "nbformat": 4,
  "nbformat_minor": 0
}