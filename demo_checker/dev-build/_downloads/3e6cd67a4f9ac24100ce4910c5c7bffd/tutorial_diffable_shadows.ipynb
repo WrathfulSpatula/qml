{
  "cells": [
    {
      "cell_type": "code",
      "execution_count": null,
      "metadata": {
        "collapsed": false
      },
      "outputs": [],
      "source": [
        "# This cell is added by sphinx-gallery\n# It can be customized to whatever you like\n%matplotlib inline"
      ]
    },
    {
      "cell_type": "markdown",
      "metadata": {},
      "source": [
        "Estimating observables with classical shadows in the Pauli basis\n================================================================\n\n::: {.meta}\n:property=\\\"og:description\\\": Classical shadows in the Pauli basis\n:property=\\\"og:image\\\":\n<https://pennylane.ai/qml/_images/pauli_shadows.jpg>\n:::\n\n::: {.related}\ntutorial\\_classical\\_shadows Introduction to classic shadows\ntutorial\\_ml\\_classical\\_shadows Classic shadows in machine learning\n:::\n\n*Author: Korbinian Kottmann --- Posted: 07 October 2022. Last updated:\n11 October 2022.*\n\nWe briefly introduce the classical shadow formalism in the Pauli basis\nand showcase PennyLane\\'s new implementation of it. Classical shadows\nare sometimes believed to provide advantages in quantum resources to\nsimultaneously estimate multiple observables. We demystify this\nmisconception and perform fair comparisons between classical shadow\nmeasurements and simultaneously measuring qubit-wise-commuting\nobservable groups.\n\nClassical shadow theory\n-----------------------\n\nA [classical shadow]{.title-ref} is a classical description of a quantum\nstate that is capable of reproducing expectation values of local Pauli\nobservables, see. We briefly go through their theory here, and note the\ntwo additional demos in `tutorial_classical_shadows`{.interpreted-text\nrole=\"doc\"} and `tutorial_ml_classical_shadows`{.interpreted-text\nrole=\"doc\"}.\n\nWe are here focussing on the case where measurements are performed in\nthe Pauli basis. The idea of classical shadows is to measure each qubit\nin a random Pauli basis. While doing so, one keeps track of the\nperformed measurement (its `recipes`) in form of integers `[0, 1, 2]`\ncorresponding to the measurement bases `[X, Y, Z]`, respectively. At the\nsame time, the measurement outcome (its `bits`) are recorded, where\n`[0, 1]` corresponds to the eigenvalues `[1, -1]`, respectively.\n\nWe record $T$ of such measurements, and for the $t$-th measurement, we\ncan reconstruct the `local_snapshot` for $n$ qubits via\n\n$$\\rho^{(t)} = \\bigotimes_{i=1}^{n} 3 U^\\dagger_i |b^{(t)}_i \\rangle \\langle b^{(t)}_i | U_i - \\mathbb{I},$$\n\nwhere $U_i$ is the diagonalizing rotation for the respective Pauli basis\n(e.g. $U_i=H$ for measurement in $X$) for qubit [i]{.title-ref}.\n$|b^{(t)}_i\\rangle = (1 - b^{(t)}_i, b^{(t)}_i)$ is the corresponding\ncomputational basis state given by the output bit\n$b^{(t)}_i \\in \\{0, 1\\}$.\n\nFrom these local snapshots, one can compute expectation values of\nq-local Pauli strings, where locality refers to the number of\nnon-Identity operators. The expectation value of any Pauli string\n$\\bigotimes_iO_i$ with $O_i \\in \\{X, Y, Z, \\mathbb{I}\\}$ can be\nestimated by computing\n\n$$\\Big\\langle \\bigotimes_iO_i \\Big\\rangle = \\frac{1}{T} \\sum_{t=1}^T \\text{tr}\\left[ \\rho^{(t)} \\left(\\bigotimes_i O_i\\right) \\right].$$\n\nError bounds given by the number of measurements\n$T = \\mathcal{O}\\left( \\log(M) 4^q/\\varepsilon^2 \\right)$ guarantee that\nsufficiently many correct measurements were performed to estimate $M$\ndifferent observables up to additive error $\\varepsilon$. This $\\log(M)$\nfactor may lead one to think that with classical shadows one can\n[magically]{.title-ref} estimate multiple observables at a lower cost\nthan with direct measurement. We resolve this misconception in the\nfollowing section.\n\n### Unraveling the mystery\n\nUsing algebraic properties of Pauli operators, we show how to exactly\ncompute the above expression from just the `bits` and `recipes` without\nexplicitly reconstructing any snapshots. This gives us insights to what\nis happening under the hood and how the `T` measuerements are used to\nestimate the observable.\n\nLet us start by looking at individual snapshot expectation values\n$\\langle \\bigotimes_iO_i \\rangle ^{(t)} = \\text{tr}\\left[\\rho^{(t)} \\left(\\bigotimes_iO_i \\right)\\right]$.\nFirst, we convince ourselves of the identity\n\n$$U_i^\\dagger |b^{(t)}_i\\rangle \\langle b^{(t)}_i| U_i = \\frac{1}{2}\\left((1-2b^{(t)}_i) P_i + \\mathbb{I}\\right),$$\n\nwhere $P_i \\in \\{X, Y, Z\\}$ is the Pauli operator corresponding to $U_i$\n(note that in this case $P_i$ is never the identity). The snapshot\nexpectation value then reduces to\n\n$$\\Big\\langle\\bigotimes_iO_i\\Big\\rangle^{(t)} = \\prod_{i=1}^n \\text{tr}\\left[\\frac{3}{2}(1-2b^{(t)}_i)P_i O_i + \\frac{1}{2}O_i\\right].$$\n\nFor that trace we find three different cases. The cases where\n$O_i=\\mathbb{I}$ yield a trivial factor $1$ to the product. The full\nproduct is always zero if any of the non-trivial $O_i$ do not match\n$P_i$. So in total, [only]{.title-ref} in the case that all $q$ Pauli\noperators match, we find\n\n$$\\Big\\langle\\bigotimes_iO_i\\Big\\rangle^{(t)} = 3^q \\prod_{\\text{i non-trivial}}(1-2b^{(t)}_i).$$\n\nThis implies that in order to compute the expectation value of a Pauli\nstring\n\n$$\\Big\\langle\\bigotimes_iO_i\\Big\\rangle = \\frac{1}{\\tilde{T}} \\sum_{\\tilde{t}} \\prod_{\\text{i non-trivial}}(1-2b^{(t)}_i)$$\n\nwe simply need average over the product of $1 - 2b^{(t)}_i = \\pm 1$ for\nthose $\\tilde{T}$ snapshots where the measurement recipe matches the\nobservable, indicated by the special index $\\tilde{t}$ for the matching\nmeasurements. Note that the probability of a match is $1/3^q$ such that\nwe have $\\tilde{T} \\approx T / 3^q$ on average.\n\nThis implies that computing expectation values with classical shadows\ncomes down to picking the specific subset of snapshots where those\nspecific observables were already measured and discarding the remaining.\nIf the desired observables are known prior to the measurement, one is\nthus advised to directly perform those measurements. This was referred\nto as [derandomization]{.title-ref} by the authors in a follow-up paper.\n\nWe will later compare the naive classical shadow approach to directly\nmeasuring the desired observables and make use of simultaneously\nmeasuring qubit-wise-commuting observables. Before that, let us\ndemonstrate how to perform classical shadow measurements in a\ndifferentiable manner in PennyLane.\n\nPennyLane implementation\n------------------------\n\nThere are two ways of computing expectation values with classical\nshadows in PennyLane. The first is to return\n`qml.shadow_expval <pennylane.shadow_expval>`{.interpreted-text\nrole=\"func\"} directly from the qnode. This has the advantage that it\npreserves the typical PennyLane syntax *and* is differentiable.\n"
      ]
    },
    {
      "cell_type": "code",
      "execution_count": null,
      "metadata": {
        "collapsed": false
      },
      "outputs": [],
      "source": [
        "import pennylane as qml\nimport pennylane.numpy as np\nfrom matplotlib import pyplot as plt\nfrom pennylane import classical_shadow, shadow_expval, ClassicalShadow\n\nnp.random.seed(666)\n\nH = qml.Hamiltonian([1., 1.], [qml.PauliZ(0) @ qml.PauliZ(1), qml.PauliX(0) @ qml.PauliX(1)])\n\ndev = qml.device(\"default.qubit\", wires=range(2), shots=10000)\n@qml.qnode(dev, interface=\"autograd\")\ndef qnode(x, H):\n    qml.Hadamard(0)\n    qml.CNOT((0,1))\n    qml.RX(x, wires=0)\n    return shadow_expval(H)\n\nx = np.array(0.5, requires_grad=True)"
      ]
    },
    {
      "cell_type": "markdown",
      "metadata": {},
      "source": [
        "Compute expectation values and derivatives thereof in the common way in\nPennyLane.\n"
      ]
    },
    {
      "cell_type": "code",
      "execution_count": null,
      "metadata": {
        "collapsed": false
      },
      "outputs": [],
      "source": [
        "print(qnode(x, H), qml.grad(qnode)(x, H))"
      ]
    },
    {
      "cell_type": "markdown",
      "metadata": {},
      "source": [
        "Each call of\n`qml.shadow_expval <pennylane.shadow_expval>`{.interpreted-text\nrole=\"func\"} performs the number of shots dictated by the device. So to\navoid unnecessary device executions you can provide a list of\nobservables to\n`qml.shadow_expval <pennylane.shadow_expval>`{.interpreted-text\nrole=\"func\"}.\n"
      ]
    },
    {
      "cell_type": "code",
      "execution_count": null,
      "metadata": {
        "collapsed": false
      },
      "outputs": [],
      "source": [
        "Hs = [H, qml.PauliX(0), qml.PauliY(0), qml.PauliZ(0)]\nprint(qnode(x, Hs))\nprint(qml.jacobian(qnode)(x, Hs))"
      ]
    },
    {
      "cell_type": "markdown",
      "metadata": {},
      "source": [
        "Alternatively, you can compute expectation values by first performing\nthe shadow measurement and then perform classical post-processing using\nthe `~.pennylane.ClassicalShadow`{.interpreted-text role=\"class\"} class\nmethods.\n"
      ]
    },
    {
      "cell_type": "code",
      "execution_count": null,
      "metadata": {
        "collapsed": false
      },
      "outputs": [],
      "source": [
        "dev = qml.device(\"default.qubit\", wires=range(2), shots=1000)\n@qml.qnode(dev, interface=\"autograd\")\ndef qnode(x):\n    qml.Hadamard(0)\n    qml.CNOT((0,1))\n    qml.RX(x, wires=0)\n    return classical_shadow(wires=range(2))\n\nbits, recipes = qnode(0.5)\nshadow = ClassicalShadow(bits, recipes)\nprint(bits.shape, recipes.shape)"
      ]
    },
    {
      "cell_type": "markdown",
      "metadata": {},
      "source": [
        "After recording these `T=1000` quantum measurements, we can post-process\nthe results to arbitrary local expectation values of Pauli strings. For\nexample, we can compute the expectation value of a Pauli string\n"
      ]
    },
    {
      "cell_type": "code",
      "execution_count": null,
      "metadata": {
        "collapsed": false
      },
      "outputs": [],
      "source": [
        "print(shadow.expval(qml.PauliX(0) @ qml.PauliX(1)))"
      ]
    },
    {
      "cell_type": "markdown",
      "metadata": {},
      "source": [
        "or of a Hamiltonian:\n"
      ]
    },
    {
      "cell_type": "code",
      "execution_count": null,
      "metadata": {
        "collapsed": false
      },
      "outputs": [],
      "source": [
        "H = qml.Hamiltonian([1., 1.], [qml.PauliZ(0) @ qml.PauliZ(1), qml.PauliX(0) @ qml.PauliX(1)])\nprint(shadow.expval(H))"
      ]
    },
    {
      "cell_type": "markdown",
      "metadata": {},
      "source": [
        "This way of computing expectation values is not automatically\ndifferentiable in PennyLane though.\n"
      ]
    },
    {
      "cell_type": "markdown",
      "metadata": {},
      "source": [
        "Comparing quantum resources with conventional measurement methods\n=================================================================\n\nThe goal of the following section is to compare estimation accuracy for\na given number of quantum executions with more conventional methods like\nsimultaneously measuring qubit-wise-commuting (qwc) groups, see\n`tutorial_measurement_optimize`{.interpreted-text role=\"doc\"}. We are\ngoing to look at three different cases: The two extreme scenarios of\nmeasuring one single and [all]{.title-ref} q-local Pauli strings, as\nwell as the more realistic scenario of measuring a molecular\nHamiltonian. We find that for a fix budget of measurements, one is\nalmost never advised to use classical shadows for estimating expectation\nvalues.\n\nMeasuring one single observable\n-------------------------------\n\nWe start with the case of one single measurement. From the analysis\nabove it should be quite clear that in the case of random Pauli\nmeasurement in the classical shadows formalism, a lot of quantum\nresources are wasted as all the measurements that do not match the\nobservable are discarded. This is certainly not what classical shadows\nwere intended for in the first place, but it helps to stress the point\nof wasted measurements.\n\nWe start by fixing a circuit and an observable, for which we compute the\nexact result for infinite shots.\n"
      ]
    },
    {
      "cell_type": "code",
      "execution_count": null,
      "metadata": {
        "collapsed": false
      },
      "outputs": [],
      "source": [
        "def rmsd(x, y):\n    \"\"\"root mean square difference\"\"\"\n    return np.sqrt(np.mean((x - y)**2))\n\nn_wires = 10\n\nx = np.arange(2*n_wires, dtype=\"float64\")\ndef circuit():\n    for i in range(n_wires):\n        qml.RY(x[i], i)\n    for i in range(n_wires-1):\n        qml.CNOT((i, i+1))\n    for i in range(n_wires):\n        qml.RY(x[i+n_wires], i)\n\nobs = qml.PauliX(0) @ qml.PauliZ(3) @ qml.PauliX(6) @ qml.PauliZ(7)\n\ndev_ideal = qml.device(\"default.qubit\", wires=range(n_wires), shots=None)\n@qml.qnode(dev_ideal, interface=\"autograd\")\ndef qnode_ideal():\n    circuit()\n    return qml.expval(obs)\n\nexact = qnode_ideal()"
      ]
    },
    {
      "cell_type": "markdown",
      "metadata": {},
      "source": [
        "We now compare estimating the observable with classical shadows vs the\ncanonical estimation.\n"
      ]
    },
    {
      "cell_type": "code",
      "execution_count": null,
      "metadata": {
        "collapsed": false
      },
      "outputs": [],
      "source": [
        "finite = []\nshadow = []\nshotss = range(100, 1000, 100)\nfor shots in shotss:\n    for _ in range(10):\n        # repeating experiment 10 times to obtain averages and standard deviations\n        dev = qml.device(\"default.qubit\", wires=range(10), shots=shots)\n\n        @qml.qnode(dev, interface=\"autograd\")\n        def qnode_finite():\n            circuit()\n            return qml.expval(obs)\n\n        @qml.qnode(dev, interface=\"autograd\")\n        def qnode_shadow():\n            circuit()\n            return qml.shadow_expval(obs)\n\n        finite.append(rmsd(qnode_finite(), exact))\n        shadow.append(rmsd(qnode_shadow(), exact))\n\n\ndq = np.array(finite).reshape(len(shotss), 10)\ndq, ddq = np.mean(dq, axis=1), np.var(dq, axis=1)\nds = np.array(shadow).reshape(len(shotss), 10)\nds, dds = np.mean(ds, axis=1), np.var(ds, axis=1)\n\nplt.errorbar(shotss, ds, yerr=dds, fmt=\"x-\", label=\"shadow\")\nplt.errorbar(shotss, dq, yerr=ddq, fmt=\"x-\", label=\"direct\")\nplt.xlabel(\"total number of shots T\", fontsize=20)\nplt.ylabel(\"Error (RMSD)\", fontsize=20)\nplt.legend()\nplt.tight_layout()\nplt.show()"
      ]
    },
    {
      "cell_type": "markdown",
      "metadata": {},
      "source": [
        "Unsurprisingly, the deviation is consistently smaller by directly\nmeasuring the observable since we are not discarding any measurement\nresults.\n"
      ]
    },
    {
      "cell_type": "markdown",
      "metadata": {},
      "source": [
        "All q-local observables\n=======================\n\nFor the case of measuring [all]{.title-ref} q-local Pauli strings we\nexpect both strategies to yield more or less the same results. In this\nextreme case, no measurements are discarded in the classical shadow\nprotocol. Let us put that to test. First, we generate a list of all\nq-local observables for n qubits.\n"
      ]
    },
    {
      "cell_type": "code",
      "execution_count": null,
      "metadata": {
        "collapsed": false
      },
      "outputs": [],
      "source": [
        "from itertools import product, combinations\nfrom functools import reduce\n\nall_observables = []\nn = 5\nq = 2\n# create all combination of q entries of range(n)\nfor w in combinations(range(n), q):\n    # w = [0, 1], [0, 2], .., [1, 2], [1, 3], .., [n-1, n]\n    observables = []\n\n    # Create all combinations of possible Pauli products P_i P_j P_k.... for wires w\n    for obs in product(\n        *[[qml.PauliX, qml.PauliY, qml.PauliZ] for _ in range(len(w))]\n        ):\n        # Perform tensor product (((P_i @ P_j) @ P_k ) @ ....)\n        observables.append(reduce(lambda a, b: a @ b, [ob(wire) for ob, wire in zip(obs, w)]))\n    all_observables.extend(observables)\n\nfor observable in all_observables[:10]:\n    print(observable)"
      ]
    },
    {
      "cell_type": "markdown",
      "metadata": {},
      "source": [
        "We now group these into qubit-wise-commuting (qwc) groups using\n`~pennylane.pauli.group_observables`{.interpreted-text role=\"func\"} to\nlearn the number of groups. We need this number to make a fair\ncomparison with classical shadows as we allow for only `T/n_groups`\nshots per group, such that the total number of shots is the same as for\nthe classical shadow execution. We again compare both approaches.\n"
      ]
    },
    {
      "cell_type": "code",
      "execution_count": null,
      "metadata": {
        "collapsed": false
      },
      "outputs": [],
      "source": [
        "n_groups = len(qml.pauli.group_observables(all_observables))\n\ndev_ideal = qml.device(\"default.qubit\", wires=range(n), shots=None)\n\nx = np.random.rand(n*2)\ndef circuit():\n    for i in range(n):\n        qml.RX(x[i], i)\n\n    for i in range(n):\n        qml.CNOT((i, (i+1)%n))\n\n    for i in range(n):\n        qml.RY(x[i+n], i)\n\n    for i in range(n):\n        qml.CNOT((i, (i+1)%n))\n\n@qml.qnode(dev_ideal, interface=\"autograd\")\ndef qnode_ideal():\n    circuit()\n    return qml.expval(H)\n\nexact = qnode_ideal()\nfinite = []\nshadow = []\nshotss = range(100, 10000, 2000)\nfor shots in shotss:\n    # random Hamiltonian with all q-local observables\n    coeffs = np.random.rand(len(all_observables))\n    H = qml.Hamiltonian(coeffs, all_observables, grouping_type=\"qwc\")\n\n    @qml.qnode(dev_ideal, interface=\"autograd\")\n    def qnode_ideal():\n        circuit()\n        return qml.expval(H)\n\n    exact = qnode_ideal()\n\n    for _ in range(10):\n        dev = qml.device(\"default.qubit\", wires=range(5), shots=shots)\n\n        @qml.qnode(dev, interface=\"autograd\")\n        def qnode_finite():\n            circuit()\n            return qml.expval(H)\n\n        dev = qml.device(\"default.qubit\", wires=range(5), shots=shots*n_groups)\n        @qml.qnode(dev, interface=\"autograd\")\n        def qnode_shadow():\n            circuit()\n            return qml.shadow_expval(H)\n\n        finite.append(rmsd(qnode_finite(), exact))\n        shadow.append(rmsd(qnode_shadow(), exact))\n\n\ndq = np.array(finite).reshape(len(shotss), 10)\ndq, ddq = np.mean(dq, axis=1), np.var(dq, axis=1)\nds = np.array(shadow).reshape(len(shotss), 10)\nds, dds = np.mean(ds, axis=1), np.var(ds, axis=1)\nplt.errorbar(shotss, ds, yerr=dds, fmt=\"x-\", label=\"shadow\")\nplt.errorbar(shotss, dq, yerr=ddq, fmt=\"x-\", label=\"qwc\")\nplt.xlabel(\"total number of shots T\", fontsize=20)\nplt.ylabel(\"Error (RMSD)\", fontsize=20)\nplt.legend()\nplt.tight_layout()\nplt.show()"
      ]
    },
    {
      "cell_type": "markdown",
      "metadata": {},
      "source": [
        "We see that as expected the performance is more or less the same since\nno quantum measurements are discarded for the shadows in this case.\nDepending on the chosen random seed there are quantitative variations to\nthis image, but the overall qualitative result remains the same.\n\nMolecular Hamiltonians\n======================\n\nWe now look at the more realistic case of measuring a molecular\nHamiltonian. We tak $\\text{H}_2\\text{O}$ as an example. You can find\nmore details on this Hamiltonian in\n`tutorial_quantum_chemistry`{.interpreted-text role=\"doc\"}. We start by\nbuilding the Hamiltonian and enforcing qwc groups by setting\n`grouping_type='qwc'`.\n"
      ]
    },
    {
      "cell_type": "code",
      "execution_count": null,
      "metadata": {
        "collapsed": false
      },
      "outputs": [],
      "source": [
        "symbols = [\"H\", \"O\", \"H\"]\ncoordinates = np.array([-0.0399, -0.0038, 0.0, 1.5780, 0.8540, 0.0, 2.7909, -0.5159, 0.0])\n\nbasis_set = \"sto-3g\"\nH, n_wires = qml.qchem.molecular_hamiltonian(\n    symbols,\n    coordinates,\n    charge=0,\n    mult=1,\n    basis=basis_set,\n    active_electrons=4,\n    active_orbitals=4,\n    mapping=\"bravyi_kitaev\",\n    method=\"pyscf\",\n)\n\ncoeffs, obs = H.coeffs, H.ops\nH_qwc = qml.Hamiltonian(coeffs, obs, grouping_type=\"qwc\")\n\ngroups = qml.pauli.group_observables(obs)\nn_groups = len(groups)\nprint(f\"number of ops in H: {len(obs)}, number of qwc groups: {n_groups}\")\nprint(f\"Each group has sizes {[len(_) for _ in groups]}\")"
      ]
    },
    {
      "cell_type": "markdown",
      "metadata": {},
      "source": [
        "We use a pre-prepared Ansatz that approximates the $\\text{H}_2\\text{O}$\nground state for the given geometry. You can construct this Ansatz by\nrunning VQE, see `tutorial_vqe`{.interpreted-text role=\"doc\"}. We ran\nthis once on an ideal simulator to get the exact result of the energy\nfor the given Ansatz.\n"
      ]
    },
    {
      "cell_type": "code",
      "execution_count": null,
      "metadata": {
        "collapsed": false
      },
      "outputs": [],
      "source": [
        "singles, doubles = qml.qchem.excitations(electrons=4, orbitals=n_wires)\nhf = qml.qchem.hf_state(4, n_wires)\ntheta = np.array([ 2.20700008e-02,  8.29716448e-02,  2.19227085e+00,\n    3.19128513e+00, -1.35370403e+00,  6.61615333e-03,\n    7.40317830e-01, -3.73367029e-01,  4.35206518e-02,\n    -1.83668679e-03, -4.59312535e-03, -1.91103984e-02,\n    8.21320961e-03, -1.48452294e-02, -1.88176061e-03,\n    -1.66141213e-02, -8.94505652e-03,  6.92045656e-01,\n    -4.54217610e-04, -8.22532179e-04,  5.27283799e-03,\n    6.84640451e-03,  3.02313759e-01, -1.23117023e-03,\n    4.42283398e-03,  6.02542038e-03])\n\nres_exact = -74.57076341\ndef circuit():\n    qml.AllSinglesDoubles(weights = theta,\n        wires = range(n_wires),\n        hf_state = hf,\n        singles = singles,\n        doubles = doubles)"
      ]
    },
    {
      "cell_type": "markdown",
      "metadata": {},
      "source": [
        "We again follow the same simple strategy of giving each group the same\nnumber of shots `T/n_groups` for `T` total shots.\n"
      ]
    },
    {
      "cell_type": "code",
      "execution_count": null,
      "metadata": {
        "collapsed": false
      },
      "outputs": [],
      "source": [
        "d_qwc = []\nd_sha = []\n\nshotss = np.arange(20, 220, 20)\n\nfor shots in shotss:\n    for _ in range(10):\n\n        # execute qwc measurements\n        dev_finite = qml.device(\"default.qubit\", wires=range(n_wires), shots=int(shots))\n        @qml.qnode(dev_finite, interface=\"autograd\")\n        def qnode_finite(H):\n            circuit()\n            return qml.expval(H)\n\n        with qml.Tracker(dev_finite) as tracker_finite:\n            res_finite = qnode_finite(H_qwc)\n\n        # execute shadows measurements\n        dev_shadow = qml.device(\"default.qubit\", wires=range(n_wires), shots=int(shots)*n_groups)\n        @qml.qnode(dev_shadow, interface=\"autograd\")\n        def qnode():\n            circuit()\n            return classical_shadow(wires=range(n_wires))\n        \n        with qml.Tracker(dev_shadow) as tracker_shadows:\n            bits, recipes = qnode()\n\n        shadow = ClassicalShadow(bits, recipes)\n        res_shadow = shadow.expval(H, k=1)\n\n        # Guarantuee that we are not cheating and its a fair fight\n        assert tracker_finite.totals[\"shots\"] <=  tracker_shadows.totals[\"shots\"]\n\n        d_qwc.append(rmsd(res_finite, res_exact))\n        d_sha.append(rmsd(res_shadow, res_exact))\n\n\ndq = np.array(d_qwc).reshape(len(shotss), 10)\ndq, ddq = np.mean(dq, axis=1), np.var(dq, axis=1)\nds = np.array(d_sha).reshape(len(shotss), 10)\nds, dds = np.mean(ds, axis=1), np.var(ds, axis=1)\nplt.errorbar(shotss*n_groups, ds, yerr=dds, fmt=\"x-\", label=\"shadow\")\nplt.errorbar(shotss*n_groups, dq, yerr=ddq, fmt=\"x-\", label=\"qwc\")\nplt.xlabel(\"total number of shots T\", fontsize=20)\nplt.ylabel(\"Error (RMSD)\", fontsize=20)\nplt.legend()\nplt.tight_layout()\nplt.show()"
      ]
    },
    {
      "cell_type": "markdown",
      "metadata": {},
      "source": [
        "For this realistic example, one is clearly better advised to directly\ncompute the expectation values and not waste precious quantum resources\non unused measurements in the classical shadow protocol.\n"
      ]
    },
    {
      "cell_type": "markdown",
      "metadata": {},
      "source": [
        "Conclusion\n==========\n\nOverall, we saw that classical shadows always waste unused quantum\nresources for measurements that are not used, except some extreme cases.\nFor the rare case that the observables that are to be determined are not\nknown before the measurement, classical shadows may prove advantageous.\n\nWe have been using a relatively simple approach to qwc grouping, as\n`~pennylane.pauli.group_observables`{.interpreted-text role=\"func\"} is\nbased on the largest first (LF) heuristic (see\n`~pennylane.pauli.graph_colouring.largest_first`{.interpreted-text\nrole=\"func\"}). There has been intensive research in recent years on\noptimizing qwc measurement schemes. Similarily, it has been realized by\nthe original authors that the randomized shadow protocol can be improved\nby what they call derandomization[^1]. Currently, it seems advanced\ngrouping algorithms are still the preferred choice, as is illustrated\nand discused in[^2].\n\nReferences\n==========\n\n[^1]: Hsin-Yuan Huang, Richard Kueng, John Preskill \\\"Efficient\n    estimation of Pauli observables by derandomization.\\\"\n    [arXiv:2103.07510](https://arxiv.org/abs/2103.07510), 2021.\n\n[^2]: Tzu-Ching Yen, Aadithya Ganeshram, Artur F. Izmaylov\n    \\\"Deterministic improvements of quantum measurements with grouping\n    of compatible operators, non-local transformations, and covariance\n    estimates.\\\" [arXiv:2201.01471](https://arxiv.org/abs/2201.01471),\n    2022.\n"
      ]
    },
    {
      "cell_type": "markdown",
      "metadata": {},
      "source": [
        "About the author\n================\n"
      ]
    }
  ],
  "metadata": {
    "kernelspec": {
      "display_name": "Python 3",
      "language": "python",
      "name": "python3"
    },
    "language_info": {
      "codemirror_mode": {
        "name": "ipython",
        "version": 3
      },
      "file_extension": ".py",
      "mimetype": "text/x-python",
      "name": "python",
      "nbconvert_exporter": "python",
      "pygments_lexer": "ipython3",
      "version": "3.9.16"
    }
  },
  "nbformat": 4,
  "nbformat_minor": 0
}