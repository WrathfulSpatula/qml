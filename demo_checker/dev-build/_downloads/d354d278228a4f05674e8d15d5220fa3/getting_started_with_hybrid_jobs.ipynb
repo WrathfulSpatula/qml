{
  "cells": [
    {
      "cell_type": "code",
      "execution_count": null,
      "metadata": {
        "collapsed": false
      },
      "outputs": [],
      "source": [
        "# This cell is added by sphinx-gallery\n# It can be customized to whatever you like\n%matplotlib inline"
      ]
    },
    {
      "cell_type": "markdown",
      "metadata": {},
      "source": [
        "Getting started with Amazon Braket Hybrid Jobs\n=======================================\n\nThis tutorial provides an introduction to running hybrid\nquantum-classical algorithms using PennyLane on [Amazon\nBraket](https://aws.amazon.com/braket/). With Amazon Braket, you gain\naccess to both real quantum devices and scalable classical compute,\nenabling you to push the boundaries of your algorithm.\n\nIn this tutorial, we\\'ll walk through how to create your first hybrid\nquantum-classical algorithms on AWS. With a single-line-of-code, we\\'ll\nsee how to scale from PennyLane simulators on your laptop to running\nfull-scale experiments on AWS that leverage both powerful classical\ncompute and quantum devices. You\\'ll gain understanding of the hybrid\njobs queue, including QPU priority queuing, and learn how to scale\nclassical resources for resource-intensive tasks. We hope these tools\nwill empower you to start experimenting today with hybrid quantum\nalgorithms!\n\n![](/demonstrations/getting_started_with_hybrid_jobs/socialthumbnail_large_getting_started_with_hybrid_jobs.png){.align-center\nwidth=\"65.0%\"}\n\nAmazon Braket Hybrid Jobs\n=========================\n\nAmazon Braket Hybrid Jobs offers a way for you to run hybrid\nquantum-classical algorithms that require both classical resources and\nquantum processing units (QPUs). Hybrid Jobs is designed to spin up the\nrequested classical compute, run your algorithm, and release the\ninstances after completion so you only pay for what you use. This\nworkflow is ideal for long-running iterative algorithms involving both\nclassical and quantum resources. Simply package up your code into a\nsingle function, create a hybrid job with a single line of code, and\nBraket will schedule it to run as soon as possible without interruption.\n\nHybrid jobs have a separate queue from quantum tasks, so once your\nalgorithm starts running, it will not be interrupted by variations in\nthe quantum task queue. This helps your long-running algorithms run\nefficiently and predictably. Any quantum tasks created from a running\nhybrid job will be run before any other quantum tasks in the queue. This\nis particularly beneficial for iterative hybrid algorithms where\nsubsequent tasks depend on the outcomes of prior quantum tasks. Examples\nof such algorithms include the Quantum Approximate Optimization\nAlgorithm (QAOA), Variational Quantum Eigensolver (VQE), or Quantum\nMachine Learning (QML). You can also monitor your algorithm\\'s progress\nin near-real time, enabling you to keep track of costs, budget, or\ncustom metrics such as training loss or expectation values.\n\nImportantly, on specific QPUs, running your algorithm in Hybrid Jobs\nbenefits from [parametric\ncompilation](https://docs.aws.amazon.com/braket/latest/developerguide/braket-jobs-parametric-compilation.html).\nThis reduces the overhead associated with the computationally expensive\ncompilation step by compiling a circuit only once and not for every\niteration in your hybrid algorithm. This dramatically reduces the total\nruntime for many variational algorithms. For long-running hybrid jobs,\nBraket automatically uses the updated calibration data from the hardware\nprovider when compiling your circuit to ensure the highest quality\nresults.\n\nGetting started with PennyLane\n==============================\n\nLet's setup an algorithm that makes use of both classical and quantum\nresources. We adapt the\n`PennyLane qubit rotation tutorial<tutorial_qubit_rotation>`{.interpreted-text\nrole=\"doc\"}.\n\n::: {.warning}\n::: {.title}\nWarning\n:::\n\nThe following demo is only compatible with Python version 3.10.\n:::\n"
      ]
    },
    {
      "cell_type": "markdown",
      "metadata": {},
      "source": [
        "First, we define a quantum simulator to run the algorithm on. In this\nexample, we will use the Braket local simulator before moving onto a\nQPU.\n"
      ]
    },
    {
      "cell_type": "code",
      "execution_count": null,
      "metadata": {
        "collapsed": false
      },
      "outputs": [],
      "source": [
        "import pennylane as qml\nfrom pennylane import numpy as np\n\n\ndevice = qml.device(\"braket.local.qubit\", wires=1)"
      ]
    },
    {
      "cell_type": "markdown",
      "metadata": {},
      "source": [
        "Now we define a circuit with two rotation gates and measure the\nexpectation value in the $Z$-basis.\n"
      ]
    },
    {
      "cell_type": "code",
      "execution_count": null,
      "metadata": {
        "collapsed": false
      },
      "outputs": [],
      "source": [
        "@qml.qnode(device)\ndef circuit(params):\n    qml.RX(params[0], wires=0)\n    qml.RY(params[1], wires=0)\n    return qml.expval(qml.PauliZ(0))"
      ]
    },
    {
      "cell_type": "markdown",
      "metadata": {},
      "source": [
        "Finally, we create a classical-quantum loop that uses gradient descent\nto minimize the expectation value.\n\nWe add the `log_metric` function from Braket to record the training\nprogress (see [metrics\ndocumentation](https://amazon-braket-sdk-python.readthedocs.io/en/stable/_apidoc/braket.jobs.metrics.html)).\nWhen running on AWS, `log_metric` records the metrics in [Amazon\nCloudWatch](https://aws.amazon.com/cloudwatch/), which is accessible\nthrough the Braket console page or the Braket SDK. When running locally\non your laptop, `log_metric` prints the iteration numbers.\n"
      ]
    },
    {
      "cell_type": "code",
      "execution_count": null,
      "metadata": {
        "collapsed": false
      },
      "outputs": [],
      "source": [
        "from braket.jobs.metrics import log_metric\n\n\ndef qubit_rotation(num_steps=10, stepsize=0.5):\n    opt = qml.GradientDescentOptimizer(stepsize=stepsize)\n    params = np.array([0.5, 0.75])\n\n    for i in range(num_steps):\n        # update the circuit parameters\n        params = opt.step(circuit, params)\n        expval = circuit(params)\n\n        log_metric(metric_name=\"expval\", iteration_number=i, value=expval)\n\n    return params"
      ]
    },
    {
      "cell_type": "markdown",
      "metadata": {},
      "source": [
        "To run the entire algorithm, we call the qubit rotation function to see\nthat it runs correctly.\n"
      ]
    },
    {
      "cell_type": "code",
      "execution_count": null,
      "metadata": {
        "collapsed": false
      },
      "outputs": [],
      "source": [
        "qubit_rotation(5, stepsize=0.5)"
      ]
    },
    {
      "cell_type": "markdown",
      "metadata": {},
      "source": [
        "::: {.rst-class}\nsphx-glr-script-out\n\n``` {.none}\nMetrics - timestamp=1695043649.822114; expval=0.38894534132396147; iteration_number=0;\nMetrics - timestamp=1695043649.8757634; expval=0.12290715413453956; iteration_number=1;\nMetrics - timestamp=1695043649.9254549; expval=-0.09181374013482171; iteration_number=2;\nMetrics - timestamp=1695043649.973501; expval=-0.2936094099948542; iteration_number=3;\nMetrics - timestamp=1695043650.020348; expval=-0.5344079938678078; iteration_number=4;\n[0.6767967215302757, 2.3260934173312653]\n```\n:::\n"
      ]
    },
    {
      "cell_type": "markdown",
      "metadata": {},
      "source": [
        "Great! We see the expectation value change with each iteration number\nand the final parameters were returned as a list. Now, instead of\nrunning on our laptop, let's submit this same function to be run on AWS\ncloud.\n"
      ]
    },
    {
      "cell_type": "markdown",
      "metadata": {},
      "source": [
        "Running as a hybrid job\n=======================\n\nTo run our algorithm for a long time, we can run it asynchronously with\nAmazon Braket Hybrid Jobs, which fully manages the classical\ninfrastructure so you can focus on the algorithm. For example, you can\ntrain a larger circuit, or increase the number of iterations. Note that\neach hybrid job has at least a one minute startup time since it creates\na containerized environment on Amazon EC2. So for very short workloads,\nsuch as a single circuit or a batch of circuits, it may suffice for you\nto use quantum tasks.\n\nWe now show how you can go from running your local Python function to\nrunning it as a hybrid job. Note that only Python 3.10 is supported by\ndefault. For custom environments, you can opt to hybrid job scripts, or\na custom container from Amazon Elastic Container Registry (ECR) (see\n[containers\ndocumentation](https://docs.aws.amazon.com/braket/latest/developerguide/braket-jobs-byoc.html)).\n\nThe first step to creating a hybrid job is to annotate which function\nyou want to run with the `@hybrid_job` decorator. Then you create the\njob by invoking the function as you would for normal Python functions.\nHowever, the decorated function returns the hybrid job handle rather\nthan the result of the function. To retrieve the results after it has\nbeen completed, use `job.result()`.\n\nThe required device argument in the `@hybrid_job` decorator specifies\nthe QPU that the hybrid job will have priority access to. The device\nstring you give is accessible in the hybrid job instance as the\nenvironment variable `AMZN_BRAKET_DEVICE_ARN`.\n\nWhen using on-demand simulators or [embedded\nsimulators](https://docs.aws.amazon.com/braket/latest/developerguide/pennylane-embedded-simulators.html),\nyou may provide the device argument as string of the form:\n`\"local:<provider>/<simulator_name>\"` or simply `None`. For example, you\nmay set `\"local:pennylane/lightning.qubit\"` for the [PennyLane lightning\nsimulator](https://pennylane.ai/performance).\n\nIn the following code, we annotate the `qubit_rotation` function from\nabove.\n"
      ]
    },
    {
      "cell_type": "code",
      "execution_count": null,
      "metadata": {
        "collapsed": false
      },
      "outputs": [],
      "source": [
        "from braket.jobs import hybrid_job\n\n\n@hybrid_job(device=\"local:pennylane/lightning.qubit\")\ndef qubit_rotation_hybrid_job(num_steps=1, stepsize=0.5):\n    return qubit_rotation(num_steps=num_steps, stepsize=stepsize)"
      ]
    },
    {
      "cell_type": "markdown",
      "metadata": {},
      "source": [
        "Now we create a hybrid job by calling the function as usual. This\nreturns an `AwsQuantumJob` object that contains the device ARN, region,\nand job name.\n"
      ]
    },
    {
      "cell_type": "code",
      "execution_count": null,
      "metadata": {
        "collapsed": false
      },
      "outputs": [],
      "source": [
        "job = qubit_rotation_hybrid_job(num_steps=10, stepsize=0.5)\nprint(job)"
      ]
    },
    {
      "cell_type": "markdown",
      "metadata": {},
      "source": [
        "::: {.rst-class}\nsphx-glr-script-out\n\n``` {.none}\nAwsQuantumJob('arn':'arn:aws:braket:<aws-region>:<account_id>:job/qubit-rotation-hybrid-job-1695044583')\n```\n:::\n"
      ]
    },
    {
      "cell_type": "markdown",
      "metadata": {},
      "source": [
        "The hybrid job automatically captures the function arguments as\nhyperparameters. In this case, we set `num_steps = 10` and\n`stepsize = 0.5` as the hyperparameters.\n\nWe can check the status with:\n"
      ]
    },
    {
      "cell_type": "code",
      "execution_count": null,
      "metadata": {
        "collapsed": false
      },
      "outputs": [],
      "source": [
        "job.state()"
      ]
    },
    {
      "cell_type": "markdown",
      "metadata": {},
      "source": [
        "::: {.rst-class}\nsphx-glr-script-out\n\n``` {.none}\n'QUEUED'\n```\n:::\n"
      ]
    },
    {
      "cell_type": "markdown",
      "metadata": {},
      "source": [
        "Once the hybrid job starts, it will change the status to `RUNNING`. We\ncan also check the hybrid job status in the Braket console.\n\nAfter the hybrid job completes, we can get the results with\n`job.result()`. For this example, it should take approximately 2\nminutes.\n"
      ]
    },
    {
      "cell_type": "code",
      "execution_count": null,
      "metadata": {
        "collapsed": false
      },
      "outputs": [],
      "source": [
        "job.result()"
      ]
    },
    {
      "cell_type": "markdown",
      "metadata": {},
      "source": [
        "::: {.rst-class}\nsphx-glr-script-out\n\n``` {.none}\n{'result': [0.036420360224358496, 3.1008192940506736]}\n```\n:::\n"
      ]
    },
    {
      "cell_type": "markdown",
      "metadata": {},
      "source": [
        "Any objects in the return statement will be returned in the hybrid job\nresults. Note that the objects returned by the function must be a tuple\nwith each element being serializable. serializable.\n\nAdditionally, we can plot the metrics recorded during the algorithm.\nBelow we show the expectation value decreases with each iteration as\nexpected.\n"
      ]
    },
    {
      "cell_type": "code",
      "execution_count": null,
      "metadata": {
        "collapsed": false
      },
      "outputs": [],
      "source": [
        "import pandas as pd\nimport matplotlib.pyplot as plt\n\ndf = pd.DataFrame(job.metrics())\ndf.sort_values(by=[\"iteration_number\"], inplace=True)\n\nplt.plot(df[\"iteration_number\"], df[\"expval\"], \"-o\", color=\"orange\")\nplt.xlabel(\"iteration number\")\nplt.ylabel(\"expectation value\")\nplt.title(\"Simulator results\")\n\nplt.show()"
      ]
    },
    {
      "cell_type": "markdown",
      "metadata": {},
      "source": [
        "![](/demonstrations/getting_started_with_hybrid_jobs/simulator.png){.align-center\nwidth=\"75.0%\"}\n"
      ]
    },
    {
      "cell_type": "markdown",
      "metadata": {},
      "source": [
        "Running on a QPU with priority \\-\\-\\-\\-\\-\\-\\-\\-\\-\\-\\-\\-\\-\\-\\--\n\nThe next step is to see how well the qubit rotation works on a real QPU.\nWe create a hybrid job with the Rigetti device as the priority QPU. We\nalso increase the number of steps to 10.\n\nUsing hybrid jobs for iterative algorithms is very beneficial because\nyou retain priority access to the target QPU. So once your quantum tasks\nare created in the hybrid job, they run ahead of other tasks waiting in\nthe *quantum task queue*. This means your algorithm will not be\ninterrupted by other quantum tasks, so it will run more efficiently and\npredictably. Quantum tasks submitted as part of a hybrid job have\npriority, and are aggregated in the *priority task queue*.\n\nHybrid jobs have their own *hybrid jobs queue* so that only a single\nhybrid job can run on a QPU at a time. Each QPU has its own hybrid jobs\nqueue. Note that this is a different queue from the quantum tasks. For a\nsingle quantum circuit, or a batch of circuits, it's recommended to\ncreate quantum tasks instead of hybrid jobs. For more information on\nquantum tasks and hybrid jobs queue see the [Amazon Braket\ndocumentation](https://docs.aws.amazon.com/braket/latest/developerguide/braket-task-when.html).\n\nTo get QPU priority, you must ensure that the device ARN used within the\nfunction matches that specified in the decorator. For convenience, you\ncan use the helper function `get_device_arn()` to automatically capture\nthe device ARN declared in `@hybrid_job`.\n\n::: {.note}\n::: {.title}\nNote\n:::\n\nOnly hybrid jobs running on AWS receive priority. Hybrid jobs running\n[locally](https://docs.aws.amazon.com/braket/latest/developerguide/braket-jobs-local-mode.html),\nor with a mismatched device ARN do not get priority task queueing.\n:::\n\nIn the previous example, we declared the local simulator outside the\ndecorated function scope. However, for AWS devices such as QPUs or\non-demand simulators, the device must be declared within the function\nscope.\n\n::: {.note}\n::: {.title}\nNote\n:::\n\nAWS devices must be declared within the body of the decorated function.\n:::\n"
      ]
    },
    {
      "cell_type": "code",
      "execution_count": null,
      "metadata": {
        "collapsed": false
      },
      "outputs": [],
      "source": [
        "from braket.devices import Devices\n\ndevice_arn = Devices.Rigetti.AspenM3\n\n\n@hybrid_job(device=device_arn)  # set priority QPU\ndef qpu_qubit_rotation_hybrid_job(num_steps=10, stepsize=0.5):\n    # AWS devices must be declared within the decorated function.\n    device = qml.device(\n        \"braket.aws.qubit\",\n        device_arn=device_arn.value,  # Make sure the device ARN matches the hybrid job device ARN\n        wires=2,\n        shots=1_000,\n    )\n\n    @qml.qnode(device)\n    def circuit(params):\n        qml.RX(params[0], wires=0)\n        qml.RY(params[1], wires=0)\n        return qml.expval(qml.PauliZ(0))\n\n    opt = qml.GradientDescentOptimizer(stepsize=stepsize)\n    params = np.array([0.5, 0.75])\n\n    for i in range(num_steps):\n        # update the circuit parameters\n        params = opt.step(circuit, params)\n        expval = circuit(params)\n\n        log_metric(metric_name=\"expval\", iteration_number=i, value=expval)\n\n    return params"
      ]
    },
    {
      "cell_type": "markdown",
      "metadata": {},
      "source": [
        "To get a sense of how long we will wait before the hybrid job runs, we\ncan check the hybrid job queue depth with\n`AwsDevice(device_arn).queue_depth().jobs`. We can also check if the\ndevice is currently available with\n`AwsDevice(device_arn).is_available()`.\n\nWhen there are no other hybrid jobs in the queue ahead of you, and the\ndevice is available, the hybrid job will start running.\n\n::: {.warning}\n::: {.title}\nWarning\n:::\n\nRunning the following cell will only run once the QPU is available. This\nmay take a long time and will result in usage fees charged to your AWS\naccount. Only run the cell if you are comfortable with the potential\nwait-time and costs. We recommend monitoring the Billing & Cost\nManagement Dashboard on the AWS console.\n:::\n"
      ]
    },
    {
      "cell_type": "code",
      "execution_count": null,
      "metadata": {
        "collapsed": false
      },
      "outputs": [],
      "source": [
        "qpu_job = qpu_qubit_rotation_hybrid_job(num_steps=10, stepsize=0.5)\nprint(qpu_job)\nqpu_job.result()"
      ]
    },
    {
      "cell_type": "markdown",
      "metadata": {},
      "source": [
        "::: {.rst-class}\nsphx-glr-script-out\n\n``` {.none}\nAwsQuantumJob('arn':'arn:aws:braket:<aws-region>:<account_id>:job/qpu-qubit-rotation-hybrid-job-1695044576')\n{'result': [0.034321330234338991, 3.058282990501767]}\n```\n:::\n"
      ]
    },
    {
      "cell_type": "markdown",
      "metadata": {},
      "source": [
        "Next, we plot the expectation value per iteration number below. We see\nthat on a real QPU, the data is not as smooth as the simulator, but the\nminimum still is detected correctly!\n"
      ]
    },
    {
      "cell_type": "code",
      "execution_count": null,
      "metadata": {
        "collapsed": false
      },
      "outputs": [],
      "source": [
        "df = pd.DataFrame(qpu_job.metrics())\ndf.sort_values(by=[\"iteration_number\"], inplace=True)\n\nplt.plot(df[\"iteration_number\"], df[\"expval\"], \"-o\", color=\"teal\")\nplt.xlabel(\"iteration number\")\nplt.ylabel(\"expectation value\")\nplt.title(\"QPU results\")\nplt.show()"
      ]
    },
    {
      "cell_type": "markdown",
      "metadata": {},
      "source": [
        "![](/demonstrations/getting_started_with_hybrid_jobs/qpu.png){.align-center\nwidth=\"75.0%\"}\n"
      ]
    },
    {
      "cell_type": "markdown",
      "metadata": {},
      "source": [
        "Conclusion\n==========\n\nIn this tutorial, we showed how to migrate from local Python functions\nto running algorithms on simulators and QPUs on Amazon Braket. We\nadapted the simple example of rotating a qubit using gradient descent,\nrunning this on both a local simulator and a real QPU. Using Amazon\nBraket Hybrid Jobs allowed us to run algorithms asynchronously, scale\nclassical compute using AWS, and obtain priority access to the selected\nQPU for the duration of our algorithm.\n"
      ]
    },
    {
      "cell_type": "markdown",
      "metadata": {},
      "source": [
        "About the author\n================\n"
      ]
    }
  ],
  "metadata": {
    "kernelspec": {
      "display_name": "Python 3",
      "language": "python",
      "name": "python3"
    },
    "language_info": {
      "codemirror_mode": {
        "name": "ipython",
        "version": 3
      },
      "file_extension": ".py",
      "mimetype": "text/x-python",
      "name": "python",
      "nbconvert_exporter": "python",
      "pygments_lexer": "ipython3",
      "version": "3.9.18"
    }
  },
  "nbformat": 4,
  "nbformat_minor": 0
}