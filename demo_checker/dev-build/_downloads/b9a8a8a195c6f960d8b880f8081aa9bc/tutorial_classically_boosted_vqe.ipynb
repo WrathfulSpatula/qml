{
  "cells": [
    {
      "cell_type": "code",
      "execution_count": null,
      "metadata": {
        "collapsed": false
      },
      "outputs": [],
      "source": [
        "# This cell is added by sphinx-gallery\n# It can be customized to whatever you like\n%matplotlib inline"
      ]
    },
    {
      "cell_type": "markdown",
      "metadata": {},
      "source": [
        "Classically-Boosted Variational Quantum Eigensolver\n===================================================\n\n::: {.meta}\n:property=\\\"og:description\\\": Learn how to implement classically-boosted\nVQE in PennyLane. :property=\\\"og:image\\\":\n<https://pennylane.ai/qml/_images/CB_VQE.png>\n:::\n\n::: {.related}\ntutorial\\_quantum\\_chemistry Building molecular Hamiltonians\ntutorial\\_vqe Variational Quantum Eigensolver\n:::\n\n*Authors: Joana Fraxanet & Isidor Schoch (Xanadu Residents). Posted: 31\nOctober 2022. Last updated: 31 October 2022.*\n\nOne of the most important applications of quantum computers is expected\nto be the computation of ground-state energies of complicated molecules\nand materials. Even though there are already some solid proposals on how\nto tackle these problems when fault-tolerant quantum computation comes\ninto play, we currently live in the [noisy intermediate-scale quantum\n(NISQ)](https://en.wikipedia.org/wiki/Noisy_intermediate-scale_quantum_era)\nera, meaning that we can only access noisy and limited devices. That is\nwhy a large part of the current research on quantum algorithms is\nfocusing on what can be done with few resources. In particular, most\nproposals rely on variational quantum algorithms (VQA), which are\noptimized classically and adapt to the limitations of the quantum\ndevices. For the specific problem of computing ground-state energies,\nthe paradigmatic algorithm is the [Variational Quantum Eigensolver\n(VQE)](https://en.wikipedia.org/wiki/Variational_quantum_eigensolver)\nalgorithm.\n\nAlthough VQE is intended to run on NISQ devices, it is nonetheless\nsensitive to noise. This is particularly problematic when applying VQE\nto complicated molecules which requires a large number of gates. As a\nconsequence, several modifications to the original VQE algorithm have\nbeen proposed. These variants are usually intended to improve the\nalgorithm's performance on NISQ-era devices.\n\nIn this demo, we will go through one of these proposals step-by-step:\nthe Classically-Boosted Variational Quantum Eigensolver (CB-VQE).\nImplementing CB-VQE reduces the number of measurements required to\nobtain the ground-state energy with a certain precision. This is done by\nmaking use of classical states, which in this context are product states\nthat can be written as a single [Slater\ndeterminant](https://en.wikipedia.org/wiki/Slater_determinant) and that\nalready contain some information about the ground-state of the problem.\nTheir structure allows for efficient classical computation of\nexpectation values. An example of such classical state would be the\n[Hartree-Fock\nstate](https://en.wikipedia.org/wiki/Hartree%E2%80%93Fock_method), in\nwhich the electrons occupy the molecular orbitals with the lowest\nenergy.\n\n![](../demonstrations/classically_boosted_vqe/CB_VQE.png){.align-center\nwidth=\"50.0%\"}\n\nWe will restrict ourselves to the $H_2$ molecule for the sake of\nsimplicity. First, we will give a short introduction to how to perform\nstandard VQE for the molecule of interest. For more details, we\nrecommend the tutorial `tutorial_vqe`{.interpreted-text role=\"doc\"} to\nlearn how to implement VQE for molecules step by step. Then, we will\nimplement the CB-VQE algorithm for the specific case in which we rely\nonly on one classical state\u2060---that being the Hartree-Fock state.\nFinally, we will discuss the number of measurements needed to obtain a\ncertain error-threshold by comparing the two methods.\n\nLet's get started!\n"
      ]
    },
    {
      "cell_type": "markdown",
      "metadata": {},
      "source": [
        "Prerequisites: Standard VQE\n===========================\n\nIf you are not already familiar with the VQE family of algorithms and\nwish to see how one can apply it to the $H_2$ molecule, feel free to\nwork through the aforementioned demo before reading this section. Here,\nwe will only briefly review the main idea behind standard VQE and\nhighlight the important concepts in connection with CB-VQE.\n\nGiven a Hamiltonian $H$, the main goal of VQE is to find the ground\nstate energy of a system governed by the Schr\u00f6dinger equation\n\n$$H \\vert \\phi \\rangle = E  \\vert \\phi \\rangle.$$\n\nThis corresponds to the problem of diagonalizing the Hamiltonian and\nfinding the smallest eigenvalue. Alternatively, one can formulate the\nproblem using the [variational\nprinciple](https://en.wikipedia.org/wiki/Variational_principle), in\nwhich we are interested in minimizing the energy\n\n$$E = \\langle \\phi \\vert H \\vert \\phi \\rangle.$$\n\nIn VQE, we prepare a statevector $\\vert \\phi \\rangle$ by applying the\nparameterized ansatz $A(\\Theta)$, represented by a unitary matrix, to an\ninitial state $\\vert 0 \\rangle^{\\otimes n}$ where $n$ is the number of\nqubits. Then, the parameters $\\Theta$ are optimized to minimize a cost\nfunction, which in this case is the energy:\n\n$$E(\\Theta) = \\langle 0 \\vert^{\\otimes n} A(\\Theta)^{\\dagger} H A(\\Theta) \\vert 0 \\rangle^{\\otimes n}.$$\n\nThis is done using a classical optimization method, which is typically\ngradient descent.\n\nTo implement our example of VQE, we first define the molecular\nHamiltonian for the $H_2$ molecule in the minimal [STO-3G\nbasis](https://en.wikipedia.org/wiki/STO-nG_basis_sets) using PennyLane\n"
      ]
    },
    {
      "cell_type": "code",
      "execution_count": null,
      "metadata": {
        "collapsed": false
      },
      "outputs": [],
      "source": [
        "import pennylane as qml\nfrom pennylane import qchem\nfrom pennylane import numpy as np\n\nsymbols = [\"H\", \"H\"]\ncoordinates = np.array([0.0, 0.0, -0.6614, 0.0, 0.0, 0.6614])\nbasis_set = \"sto-3g\"\nelectrons = 2\n\nH, qubits = qchem.molecular_hamiltonian(\n    symbols,\n    coordinates,\n    basis=basis_set,\n)"
      ]
    },
    {
      "cell_type": "markdown",
      "metadata": {},
      "source": [
        "We then initialize the Hartree-Fock state\n$\\vert \\phi_{HF}\\rangle=\\vert 1100 \\rangle$\n"
      ]
    },
    {
      "cell_type": "code",
      "execution_count": null,
      "metadata": {
        "collapsed": false
      },
      "outputs": [],
      "source": [
        "hf = qchem.hf_state(electrons, qubits)"
      ]
    },
    {
      "cell_type": "markdown",
      "metadata": {},
      "source": [
        "Next, we implement the ansatz $A(\\Theta)$. In this case, we use the\nclass `~.pennylane.AllSinglesDoubles`{.interpreted-text role=\"class\"},\nwhich enables us to apply all possible combinations of single and double\nexcitations obeying the Pauli principle to the Hartree-Fock state.\nSingle and double excitation gates, denoted $G^{(1)}(\\Theta)$ and\n$G^{(2)}(\\Theta)$ respectively, are conveniently implemented in\nPennyLane with `~.pennylane.SingleExcitation`{.interpreted-text\nrole=\"class\"} and `~.pennylane.DoubleExcitation`{.interpreted-text\nrole=\"class\"} classes. You can find more information about how these\ngates work in this [video](https://youtu.be/4Xnxa6tzPeA) and in the demo\n`tutorial_givens_rotations`{.interpreted-text role=\"doc\"}.\n"
      ]
    },
    {
      "cell_type": "code",
      "execution_count": null,
      "metadata": {
        "collapsed": false
      },
      "outputs": [],
      "source": [
        "singles, doubles = qchem.excitations(electrons=electrons, orbitals=qubits)\nnum_theta = len(singles) + len(doubles)\n\n\ndef circuit_VQE(theta, wires):\n    qml.AllSinglesDoubles(weights=theta, wires=wires, hf_state=hf, singles=singles, doubles=doubles)"
      ]
    },
    {
      "cell_type": "markdown",
      "metadata": {},
      "source": [
        "Once this is defined, we can run the VQE algorithm. We first need to\ndefine a circuit for the cost function.\n"
      ]
    },
    {
      "cell_type": "code",
      "execution_count": null,
      "metadata": {
        "collapsed": false
      },
      "outputs": [],
      "source": [
        "dev = qml.device(\"default.qubit\", wires=qubits)\n\n\n@qml.qnode(dev, interface=\"autograd\")\ndef cost_fn(theta):\n    circuit_VQE(theta, range(qubits))\n    return qml.expval(H)"
      ]
    },
    {
      "cell_type": "markdown",
      "metadata": {},
      "source": [
        "We then fix the classical optimization parameters `stepsize` and\n`max_iteration`:\n"
      ]
    },
    {
      "cell_type": "code",
      "execution_count": null,
      "metadata": {
        "collapsed": false
      },
      "outputs": [],
      "source": [
        "stepsize = 0.4\nmax_iterations = 30\nopt = qml.GradientDescentOptimizer(stepsize=stepsize)\ntheta = np.zeros(num_theta, requires_grad=True)"
      ]
    },
    {
      "cell_type": "markdown",
      "metadata": {},
      "source": [
        "Finally, we run the algorithm.\n"
      ]
    },
    {
      "cell_type": "code",
      "execution_count": null,
      "metadata": {
        "collapsed": false
      },
      "outputs": [],
      "source": [
        "for n in range(max_iterations):\n    theta, prev_energy = opt.step_and_cost(cost_fn, theta)\n    samples = cost_fn(theta)\n\nenergy_VQE = cost_fn(theta)\ntheta_opt = theta\n\nprint(\"VQE energy: %.4f\" % (energy_VQE))\nprint(\"Optimal parameters:\", theta_opt)"
      ]
    },
    {
      "cell_type": "markdown",
      "metadata": {},
      "source": [
        "Note that as an output we obtain the VQE approximation to the ground\nstate energy and a set of optimized parameters $\\Theta$ that define the\nground state through the ansatz $A(\\Theta)$. We will need to save these\ntwo quantities, as they are necessary to implement CB-VQE in the\nfollowing steps.\n"
      ]
    },
    {
      "cell_type": "markdown",
      "metadata": {},
      "source": [
        "Classically-Boosted VQE\n=======================\n\nNow we are ready to present the classically-boosted version of VQE.\n\nThe key of this new method relies on the notion of the [generalized\neigenvalue\nproblem](https://en.wikipedia.org/wiki/Generalized_eigenvalue_problem).\nThe main idea is to restrict the problem of finding the ground state to\nan eigenvalue problem in a subspace $\\mathcal{H}^{\\prime}$ of the\ncomplete Hilbert space $\\mathcal{H}$. If this subspace is spanned by a\ncombination of both classical and quantum states, we can run parts of\nour algorithm on classical hardware and thus reduce the number of\nmeasurements needed to reach a certain precision threshold. The\ngeneralized eigenvalue problem is expressed as\n\n$$\\bar{H} \\vec{v}=  \\lambda \\bar{S} \\vec{v},$$\n\nwhere the matrix $\\bar{S}$ contains the overlaps between the basis\nstates and $\\bar{H}$ is the Hamiltonian $H$ projected into the subspace\nof interest, i.e.\u00a0with the entries\n\n$$\\bar{H}_{\\alpha, \\beta} = \\langle \\phi_\\alpha \\vert H \\vert \\phi_\\beta \\rangle,$$\n\nfor all $\\vert \\phi_\\alpha \\rangle$ and $\\vert \\phi_\\beta \\rangle$ in\n$\\mathcal{H}^{\\prime}$. For a complete orthonormal basis, the overlap\nmatrix $\\bar{S}$ would simply be the identity matrix. However, we need\nto take a more general approach which works for a subspace spanned by\npotentially non-orthogonal states. We can retrieve the representation of\n$S$ by calculating\n\n$$\\bar{S}_{\\alpha, \\beta} = \\langle \\phi_\\alpha \\vert \\phi_\\beta \\rangle,$$\n\nfor all $\\vert \\phi_\\alpha \\rangle$ and $\\vert \\phi_\\beta \\rangle$ in\n$\\mathcal{H}^{\\prime}$. Finally, note that $\\vec{v}$ and $\\lambda$ are\nthe eigenvectors and eigenvalues respectively. Our goal is to find the\nlowest eigenvalue $\\lambda_0.$\n"
      ]
    },
    {
      "cell_type": "markdown",
      "metadata": {},
      "source": [
        "Equipped with the useful mathematical description of generalized\neigenvalue problems, we can now choose our subspace such that some of\nthe states $\\vert \\phi_{\\alpha} \\rangle \\in \\mathcal{H}^{\\prime}$ are\nclassically tractable.\n\nWe will consider the simplest case in which the subspace is spanned only\nby one classical state $\\vert \\phi_{HF} \\rangle$ and one quantum state\n$\\vert \\phi_{q} \\rangle$. More precisely, we define the classical state\nto be a single [Slater\ndeterminant](https://en.wikipedia.org/wiki/Slater_determinant), which\ndirectly hints towards using the *Hartree-Fock* state for several\nreasons. First of all, it is well-known that the Hartree-Fock state is a\ngood candidate to approximate the ground state in the mean-field limit.\nSecondly, we already computed it when we built the molecular Hamiltonian\nfor the standard VQE!\n"
      ]
    },
    {
      "cell_type": "markdown",
      "metadata": {},
      "source": [
        "To summarize, our goal is to build the Hamiltonian $\\bar{H}$ and the\noverlap matrix $\\bar{S}$, which act on the subspace\n$\\mathcal{H}^{\\prime} \\subseteq \\mathcal{H}$ spanned by\n$\\{\\vert \\phi_{HF} \\rangle, \\vert \\phi_q \\rangle\\}$. These will be\ntwo-dimensional matrices, and in the following sections we will show how\nto compute all their entries step by step.\n\nAs done previously, we start by importing *PennyLane*, *Qchem* and\ndifferentiable *NumPy* followed by defining the molecular Hamiltonian in\nthe Hartree-Fock basis for $H_2$.\n"
      ]
    },
    {
      "cell_type": "code",
      "execution_count": null,
      "metadata": {
        "collapsed": false
      },
      "outputs": [],
      "source": [
        "symbols = [\"H\", \"H\"]\ncoordinates = np.array([0.0, 0.0, -0.6614, 0.0, 0.0, 0.6614])\nbasis_set = \"sto-3g\"\n\nH, qubits = qchem.molecular_hamiltonian(\n    symbols,\n    coordinates,\n    basis=basis_set,\n)"
      ]
    },
    {
      "cell_type": "markdown",
      "metadata": {},
      "source": [
        "Computing Classical Quantities\n==============================\n"
      ]
    },
    {
      "cell_type": "markdown",
      "metadata": {},
      "source": [
        "We first set out to calculate the purely classical part of the\nHamiltonian $H$. Since we only have one classical state this will\nalready correspond to a scalar energy value. The terms can be expressed\nas\n\n$$H_{11} = \\langle \\phi_{HF} \\vert H \\vert \\phi_{HF} \\rangle \\quad \\text{and} \\quad S_{11} = \\langle \\phi_{HF} \\vert \\phi_{HF} \\rangle$$\n\nwhich is tractable using classical methods. This energy corresponds to\nthe Hartree-Fock energy due to our convenient choice of the classical\nstate. Note that the computation of the classical component of the\noverlap matrix $S_{11} = \\langle \\phi_{HF} \\vert \\phi_{HF} \\rangle = 1$\nis trivial.\n\nUsing PennyLane, we can access the Hartree-Fock energy by looking at the\nfermionic Hamiltonian, which is the Hamiltonian on the basis of Slater\ndeterminants. The basis is organized in lexicographic order, meaning\nthat if we want the entry corresponding to the Hartree-Fock determinant\n$\\vert 1100 \\rangle$, we will have to take the entry $H_{i,i}$, where\n$1100$ is the binary representation of the index $i$.\n"
      ]
    },
    {
      "cell_type": "code",
      "execution_count": null,
      "metadata": {
        "collapsed": false
      },
      "outputs": [],
      "source": [
        "hf_state = qchem.hf_state(electrons, qubits)\nfermionic_Hamiltonian = H.sparse_matrix().todense()\n\n# we first convert the HF slater determinant to a string\nbinary_string = \"\".join([str(i) for i in hf_state])\n# we then obtain the integer corresponding to its binary representation\nidx0 = int(binary_string, 2)\n# finally we access the entry that corresponds to the HF energy\nH11 = fermionic_Hamiltonian[idx0, idx0]\nS11 = 1"
      ]
    },
    {
      "cell_type": "markdown",
      "metadata": {},
      "source": [
        "Computing Quantum Quantities\n\\~\\~\\~\\~\\~\\~\\~\\~\\~\\~\\~\\~\\~\\~\\~\\~\\~\\~\\~\\~\\~\\~\\~\\~\\~\\~\\~\n"
      ]
    },
    {
      "cell_type": "markdown",
      "metadata": {},
      "source": [
        "We now move on to the purely quantum part of the Hamiltonian, i.e.\u00a0the\nentry\n\n$$H_{22} = \\langle \\phi_{q} \\vert H \\vert \\phi_{q} \\rangle,$$\n\nwhere $\\vert \\phi_q \\rangle$ is the quantum state. This state is just\nthe output of the standard VQE with a given ansatz, following the steps\nin the first section. Therefore, the entry $H_{22}$ just corresponds to\nthe final energy of the VQE. In particular, note that the quantum state\ncan be written as\n$\\vert \\phi_{q} \\rangle = A(\\Theta^*) \\vert \\phi_{HF} \\rangle$ where\n$A(\\Theta^*)$ is the ansatz of the VQE with the optimised parameters\n$\\Theta^*$. Once again, we have\n$S_{22}=\\langle \\phi_{q} \\vert \\phi_{q} \\rangle = 1$ for the overlap\nmatrix.\n"
      ]
    },
    {
      "cell_type": "code",
      "execution_count": null,
      "metadata": {
        "collapsed": false
      },
      "outputs": [],
      "source": [
        "H22 = energy_VQE\nS22 = 1"
      ]
    },
    {
      "cell_type": "markdown",
      "metadata": {},
      "source": [
        "Computing Mixed Quantities\n==========================\n"
      ]
    },
    {
      "cell_type": "markdown",
      "metadata": {},
      "source": [
        "The final part of the algorithm computes the cross-terms between the\nclassical and quantum state\n\n$$H_{12} = \\langle \\phi_{HF} \\vert H \\vert \\phi_{q} \\rangle = H_{21}^{\\dagger}.$$\n\nThis part of the algorithm is slightly more complicated than the\nprevious steps, since we still want to make use of the classical\ncomponent of the problem in order to minimize the number of required\nmeasurements.\n\nKeep in mind that most algorithms usually perform computations either on\nfully classically or quantum tractable Hilbert spaces. CB-VQE takes\nadvantage of the classical part of the problem while still calculating a\nclassically-intractable quantity by using the so-called [Hadamard\ntest](https://en.wikipedia.org/wiki/Hadamard_test_(quantum_computation))\nto construct $H_{12}$. The Hadamard test is a prime example of an\nindirect measurement, which allows us to measure properties of a state\nwithout (completely) destroying it.\n\n![](../demonstrations/classically_boosted_vqe/boosted_hadamard_test.png){.align-center\nwidth=\"50.0%\"}\n\nAs the Hadamard test returns the real part of a coefficient from a\nunitary representing an operation, we will focus on calculating the\nquantities\n\n$$H_{12} = \\sum_{i} Re(\\langle \\phi_q \\vert i \\rangle) \\langle i \\vert H \\vert \\phi_{HF} \\rangle,$$\n\n$$S_{12} = Re(\\langle \\phi_q \\vert \\phi_{HF} \\rangle),$$\n\nwhere $\\lvert i \\rangle$ are the computational basis states of the\nsystem, i.e.\u00a0the basis of single Slater determinants. Note that we have\nto decompose the Hamiltonian into a sum of unitaries. For the problem\nunder consideration, the set of relevant computational basis states for\nwhich $\\langle i \\vert H \\vert \\phi_{HF}\\rangle \\neq 0$ contains all the\nsingle and double excitations (allowed by spin symmetries), namely, the\nstates\n\n$$\\vert 1100 \\rangle, \\vert 1001 \\rangle, \\vert 0110 \\rangle, \\vert 0011 \\rangle.$$\n\nSpecifically, the set of computational basis states includes the\n*Hartree-Fock* state\n$\\lvert i_0 \\rangle = \\vert \\phi_{HF} \\rangle = \\vert 1100 \\rangle$ and\nthe projections $\\langle i \\vert H \\vert \\phi_{HF} \\rangle$ can be\nextracted analytically from the fermionic Hamiltonian that we computed\nabove. This is done by accessing the entries by the index given by the\nbinary expression of each Slater determinant.\n\nThe Hadamard test is required to compute the real part of\n$\\langle \\phi_q \\vert i \\rangle$.\n\nTo implement the Hadamard test, we need a register of $n$ qubits given\nby the size of the molecular Hamiltonian ($n=4$ in our case) initialized\nin the state $\\rvert 0 \\rangle^{\\otimes n}$ and an ancillary qubit\nprepared in the $\\rvert 0 \\rangle$ state.\n\nIn order to generate $\\langle \\phi_q \\vert i \\rangle$, we take $U_q$\nsuch that $U_q \\vert 0 \\rangle^{\\otimes n} = \\vert \\phi_q \\rangle$. This\nis equivalent to using the standard VQE ansatz with the optimized\nparameters $\\Theta^*$ that we obtained in the previous section\n$U_q = A(\\Theta^*)$. Moreover, we also need $U_i$ such that\n$U_i \\vert 0^n \\rangle = \\vert \\phi_i \\rangle$. In this case, this is\njust a mapping of a classical basis state into the circuit consisting of\n$X$ gates and can be easily implemented using PennyLane's function\n`qml.BasisState(i, n))`.\n"
      ]
    },
    {
      "cell_type": "code",
      "execution_count": null,
      "metadata": {
        "collapsed": false
      },
      "outputs": [],
      "source": [
        "wires = range(qubits + 1)\ndev = qml.device(\"default.qubit\", wires=wires)\n\n\n@qml.qnode(dev, interface=\"autograd\")\ndef hadamard_test(Uq, Ucl, component=\"real\"):\n    if component == \"imag\":\n        qml.RX(math.pi / 2, wires=wires[1:])\n\n    qml.Hadamard(wires=[0])\n    qml.ControlledQubitUnitary(Uq.conjugate().T @ Ucl, control_wires=[0], wires=wires[1:])\n    qml.Hadamard(wires=[0])\n\n    return qml.probs(wires=[0])"
      ]
    },
    {
      "cell_type": "markdown",
      "metadata": {},
      "source": [
        "Now, we are ready to compute the Hamiltonian cross-terms.\n"
      ]
    },
    {
      "cell_type": "code",
      "execution_count": null,
      "metadata": {
        "collapsed": false
      },
      "outputs": [],
      "source": [
        "def circuit_product_state(state):\n    qml.BasisState(state, range(qubits))\n\n\nUq = qml.matrix(circuit_VQE)(theta_opt, range(qubits))\n\nH12 = 0\nrelevant_basis_states = np.array(\n    [[1, 1, 0, 0], [0, 1, 1, 0], [1, 0, 0, 1], [0, 0, 1, 1]], requires_grad=True\n)\nfor j, basis_state in enumerate(relevant_basis_states):\n    Ucl = qml.matrix(circuit_product_state)(basis_state)\n    probs = hadamard_test(Uq, Ucl)\n    # The projection Re(<phi_q|i>) corresponds to 2p-1\n    y = 2 * probs[0] - 1\n    # We retrieve the quantities <i|H|HF> from the fermionic Hamiltonian\n    binary_string = \"\".join([str(coeff) for coeff in basis_state])\n    idx = int(binary_string, 2)\n    overlap_H = fermionic_Hamiltonian[idx0, idx]\n    # We sum over all computational basis states\n    H12 += y * overlap_H\n    # y0 corresponds to Re(<phi_q|HF>)\n    if j == 0:\n        y0 = y\n\nH21 = np.conjugate(H12)"
      ]
    },
    {
      "cell_type": "markdown",
      "metadata": {},
      "source": [
        "The cross terms of the $S$ matrix are defined making use of the\nprojections with the *Hartree-Fock* state.\n"
      ]
    },
    {
      "cell_type": "code",
      "execution_count": null,
      "metadata": {
        "collapsed": false
      },
      "outputs": [],
      "source": [
        "S12 = y0\nS21 = y0.conjugate()"
      ]
    },
    {
      "cell_type": "markdown",
      "metadata": {},
      "source": [
        "Solving the generalized eigenvalue problem\n==========================================\n"
      ]
    },
    {
      "cell_type": "markdown",
      "metadata": {},
      "source": [
        "We are ready to solve the generalized eigenvalue problem. For this, we\nwill build the matrices $H$ and $S$ and use [scipy]{.title-ref} to\nobtain the lowest eigenvalue.\n"
      ]
    },
    {
      "cell_type": "code",
      "execution_count": null,
      "metadata": {
        "collapsed": false
      },
      "outputs": [],
      "source": [
        "from scipy import linalg\n\nS = np.array([[S11, S12], [S21, S22]])\nH = np.array([[H11, H12], [H21, H22]])\n\nevals = linalg.eigvals(H, S)\nenergy_CBVQE = np.min(evals).real\n\nprint(\"CB-VQE energy %.4f\" % (energy_CBVQE))"
      ]
    },
    {
      "cell_type": "markdown",
      "metadata": {},
      "source": [
        "Measurement analysis\n====================\n\nCB-VQE is helpful when it comes to reducing the number of measurements\nthat are required to reach a given precision in the ground state energy.\nIn fact, for very small systems it can be shown that the\nclassically-boosted method reduces the number of required measurements\nby a factor of $1000$.\n\nLet\\'s see if this is the case for the example above. Now that we know\nhow to run standard VQE and CB-VQE algorithms, we can re-run the code\nabove for a finite number of measurements. This is done by specifying\nthe number of shots in the definition of the devices, for example,\n`num_shots = 20`. By doing this, Pennylane will output the expectation\nvalue of the energy computed from a sample of 20 measurements. Then, we\nsimply run both VQE and CB-VQE enough times to obtain statistics on the\nresults.\n\n![](../demonstrations/classically_boosted_vqe/energy_deviation.png){.align-center\nwidth=\"80.0%\"}\n\nIn the plot above, the dashed line corresponds to the true ground state\nenergy of the $H_2$ molecule. In the x-axis we represent the number of\nmeasurements that are used to compute the expected value of the\nHamiltonian ([num\\_shots]{.title-ref}). In the y-axis, we plot the mean\nvalue and the standard deviation of the energies obtained from a sample\nof 100 circuit evaluations. As expected, CB-VQE leads to a better\napproximation of the ground state energy - the mean energies are\nlower-and, most importantly, to a much smaller standard deviation,\nimproving on the results given by standard VQE by several orders of\nmagnitude when considering a small number of measurements. As expected,\nfor a large number of measurements both algorithms start to converge to\nsimilar results and the standard deviation decreases.\n\n[Note: In order to obtain these results, we had to discard the samples\nin which the VQE shot noise underestimated the true ground state energy\nof the problem, since this was leading to large variances in the CB-VQE\nestimation of the energy.]{.title-ref}\n"
      ]
    },
    {
      "cell_type": "markdown",
      "metadata": {},
      "source": [
        "Conclusions\n===========\n\nIn this demo, we have learnt how to implement the CB-VQE algorithm in\nPennyLane. Furthermore, it was observed that we require fewer\nmeasurements to be executed on a quantum computer to reach the same\naccuracy as standard VQE. Such algorithms could be executed on smaller\nquantum computers, potentially allowing us to implement useful quantum\nalgorithms on real hardware sooner than expected.\n"
      ]
    },
    {
      "cell_type": "markdown",
      "metadata": {},
      "source": [
        "References\n==========\n\nAbout the author\n================\n"
      ]
    }
  ],
  "metadata": {
    "kernelspec": {
      "display_name": "Python 3",
      "language": "python",
      "name": "python3"
    },
    "language_info": {
      "codemirror_mode": {
        "name": "ipython",
        "version": 3
      },
      "file_extension": ".py",
      "mimetype": "text/x-python",
      "name": "python",
      "nbconvert_exporter": "python",
      "pygments_lexer": "ipython3",
      "version": "3.9.17"
    }
  },
  "nbformat": 4,
  "nbformat_minor": 0
}